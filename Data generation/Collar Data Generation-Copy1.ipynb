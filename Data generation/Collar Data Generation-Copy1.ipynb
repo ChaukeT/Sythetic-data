{
 "cells": [
  {
   "cell_type": "code",
   "execution_count": null,
   "id": "69f437c9",
   "metadata": {},
   "outputs": [],
   "source": [
    "# import os\n",
    "import numpy as np\n",
    "import pandas as pd\n",
    "from matplotlib import pyplot as plt\n",
    "%matplotlib inline\n",
    "import seaborn as sns\n",
    "import warnings\n",
    "warnings.filterwarnings(\"ignore\")\n",
    "%matplotlib qt "
   ]
  },
  {
   "cell_type": "code",
   "execution_count": 2,
   "id": "e7abc284",
   "metadata": {},
   "outputs": [],
   "source": [
    "collar = pd.read_csv(\"C:/Users/TIYANI/Videos/Final/Collar.csv\")"
   ]
  },
  {
   "cell_type": "code",
   "execution_count": 3,
   "id": "170ba2c7",
   "metadata": {},
   "outputs": [
    {
     "data": {
      "text/html": [
       "<div>\n",
       "<style scoped>\n",
       "    .dataframe tbody tr th:only-of-type {\n",
       "        vertical-align: middle;\n",
       "    }\n",
       "\n",
       "    .dataframe tbody tr th {\n",
       "        vertical-align: top;\n",
       "    }\n",
       "\n",
       "    .dataframe thead th {\n",
       "        text-align: right;\n",
       "    }\n",
       "</style>\n",
       "<table border=\"1\" class=\"dataframe\">\n",
       "  <thead>\n",
       "    <tr style=\"text-align: right;\">\n",
       "      <th></th>\n",
       "      <th>Hole_ID</th>\n",
       "      <th>X</th>\n",
       "      <th>Y</th>\n",
       "      <th>Z</th>\n",
       "      <th>Depth_max</th>\n",
       "      <th>target</th>\n",
       "    </tr>\n",
       "  </thead>\n",
       "  <tbody>\n",
       "    <tr>\n",
       "      <th>0</th>\n",
       "      <td>KRED207</td>\n",
       "      <td>530167.060</td>\n",
       "      <td>8714340.880</td>\n",
       "      <td>1330.600</td>\n",
       "      <td>104.5</td>\n",
       "      <td>1</td>\n",
       "    </tr>\n",
       "    <tr>\n",
       "      <th>1</th>\n",
       "      <td>KRED209</td>\n",
       "      <td>530024.162</td>\n",
       "      <td>8714201.452</td>\n",
       "      <td>1331.309</td>\n",
       "      <td>113.0</td>\n",
       "      <td>1</td>\n",
       "    </tr>\n",
       "    <tr>\n",
       "      <th>2</th>\n",
       "      <td>KRED211</td>\n",
       "      <td>530079.988</td>\n",
       "      <td>8714416.366</td>\n",
       "      <td>1330.504</td>\n",
       "      <td>155.0</td>\n",
       "      <td>1</td>\n",
       "    </tr>\n",
       "    <tr>\n",
       "      <th>3</th>\n",
       "      <td>KRED212</td>\n",
       "      <td>530246.989</td>\n",
       "      <td>8714518.866</td>\n",
       "      <td>1329.942</td>\n",
       "      <td>161.0</td>\n",
       "      <td>1</td>\n",
       "    </tr>\n",
       "    <tr>\n",
       "      <th>4</th>\n",
       "      <td>KRED218</td>\n",
       "      <td>530027.489</td>\n",
       "      <td>8714330.724</td>\n",
       "      <td>1331.295</td>\n",
       "      <td>170.0</td>\n",
       "      <td>1</td>\n",
       "    </tr>\n",
       "  </tbody>\n",
       "</table>\n",
       "</div>"
      ],
      "text/plain": [
       "   Hole_ID           X            Y         Z  Depth_max  target\n",
       "0  KRED207  530167.060  8714340.880  1330.600      104.5       1\n",
       "1  KRED209  530024.162  8714201.452  1331.309      113.0       1\n",
       "2  KRED211  530079.988  8714416.366  1330.504      155.0       1\n",
       "3  KRED212  530246.989  8714518.866  1329.942      161.0       1\n",
       "4  KRED218  530027.489  8714330.724  1331.295      170.0       1"
      ]
     },
     "execution_count": 3,
     "metadata": {},
     "output_type": "execute_result"
    }
   ],
   "source": [
    "collar.head()"
   ]
  },
  {
   "cell_type": "code",
   "execution_count": 4,
   "id": "4af3dc92",
   "metadata": {},
   "outputs": [
    {
     "data": {
      "text/plain": [
       "(66, 6)"
      ]
     },
     "execution_count": 4,
     "metadata": {},
     "output_type": "execute_result"
    }
   ],
   "source": [
    "collar.shape"
   ]
  },
  {
   "cell_type": "code",
   "execution_count": 5,
   "id": "8631a5eb",
   "metadata": {},
   "outputs": [
    {
     "data": {
      "text/html": [
       "<div>\n",
       "<style scoped>\n",
       "    .dataframe tbody tr th:only-of-type {\n",
       "        vertical-align: middle;\n",
       "    }\n",
       "\n",
       "    .dataframe tbody tr th {\n",
       "        vertical-align: top;\n",
       "    }\n",
       "\n",
       "    .dataframe thead th {\n",
       "        text-align: right;\n",
       "    }\n",
       "</style>\n",
       "<table border=\"1\" class=\"dataframe\">\n",
       "  <thead>\n",
       "    <tr style=\"text-align: right;\">\n",
       "      <th></th>\n",
       "      <th>X</th>\n",
       "      <th>Y</th>\n",
       "      <th>Z</th>\n",
       "      <th>Depth_max</th>\n",
       "      <th>target</th>\n",
       "    </tr>\n",
       "  </thead>\n",
       "  <tbody>\n",
       "    <tr>\n",
       "      <th>count</th>\n",
       "      <td>66.000000</td>\n",
       "      <td>6.600000e+01</td>\n",
       "      <td>66.000000</td>\n",
       "      <td>66.000000</td>\n",
       "      <td>66.000000</td>\n",
       "    </tr>\n",
       "    <tr>\n",
       "      <th>mean</th>\n",
       "      <td>530120.498545</td>\n",
       "      <td>8.714424e+06</td>\n",
       "      <td>1330.574621</td>\n",
       "      <td>148.265152</td>\n",
       "      <td>1.121212</td>\n",
       "    </tr>\n",
       "    <tr>\n",
       "      <th>std</th>\n",
       "      <td>131.854344</td>\n",
       "      <td>1.394638e+02</td>\n",
       "      <td>0.914364</td>\n",
       "      <td>45.392919</td>\n",
       "      <td>0.328875</td>\n",
       "    </tr>\n",
       "    <tr>\n",
       "      <th>min</th>\n",
       "      <td>529863.836000</td>\n",
       "      <td>8.714125e+06</td>\n",
       "      <td>1328.925000</td>\n",
       "      <td>77.000000</td>\n",
       "      <td>1.000000</td>\n",
       "    </tr>\n",
       "    <tr>\n",
       "      <th>25%</th>\n",
       "      <td>530027.749500</td>\n",
       "      <td>8.714330e+06</td>\n",
       "      <td>1329.912250</td>\n",
       "      <td>116.625000</td>\n",
       "      <td>1.000000</td>\n",
       "    </tr>\n",
       "    <tr>\n",
       "      <th>50%</th>\n",
       "      <td>530123.005500</td>\n",
       "      <td>8.714419e+06</td>\n",
       "      <td>1330.555000</td>\n",
       "      <td>144.750000</td>\n",
       "      <td>1.000000</td>\n",
       "    </tr>\n",
       "    <tr>\n",
       "      <th>75%</th>\n",
       "      <td>530218.644500</td>\n",
       "      <td>8.714519e+06</td>\n",
       "      <td>1331.289500</td>\n",
       "      <td>170.000000</td>\n",
       "      <td>1.000000</td>\n",
       "    </tr>\n",
       "    <tr>\n",
       "      <th>max</th>\n",
       "      <td>530397.278000</td>\n",
       "      <td>8.714717e+06</td>\n",
       "      <td>1332.649000</td>\n",
       "      <td>287.000000</td>\n",
       "      <td>2.000000</td>\n",
       "    </tr>\n",
       "  </tbody>\n",
       "</table>\n",
       "</div>"
      ],
      "text/plain": [
       "                   X             Y            Z   Depth_max     target\n",
       "count      66.000000  6.600000e+01    66.000000   66.000000  66.000000\n",
       "mean   530120.498545  8.714424e+06  1330.574621  148.265152   1.121212\n",
       "std       131.854344  1.394638e+02     0.914364   45.392919   0.328875\n",
       "min    529863.836000  8.714125e+06  1328.925000   77.000000   1.000000\n",
       "25%    530027.749500  8.714330e+06  1329.912250  116.625000   1.000000\n",
       "50%    530123.005500  8.714419e+06  1330.555000  144.750000   1.000000\n",
       "75%    530218.644500  8.714519e+06  1331.289500  170.000000   1.000000\n",
       "max    530397.278000  8.714717e+06  1332.649000  287.000000   2.000000"
      ]
     },
     "execution_count": 5,
     "metadata": {},
     "output_type": "execute_result"
    }
   ],
   "source": [
    "collar.describe()"
   ]
  },
  {
   "cell_type": "code",
   "execution_count": 6,
   "id": "a089c316",
   "metadata": {},
   "outputs": [
    {
     "data": {
      "text/plain": [
       "Hole_ID       object\n",
       "X            float64\n",
       "Y            float64\n",
       "Z            float64\n",
       "Depth_max    float64\n",
       "target         int64\n",
       "dtype: object"
      ]
     },
     "execution_count": 6,
     "metadata": {},
     "output_type": "execute_result"
    }
   ],
   "source": [
    "collar.dtypes"
   ]
  },
  {
   "cell_type": "code",
   "execution_count": 7,
   "id": "e4558f4d",
   "metadata": {},
   "outputs": [
    {
     "data": {
      "text/plain": [
       "Hole_ID      False\n",
       "X            False\n",
       "Y            False\n",
       "Z            False\n",
       "Depth_max    False\n",
       "target       False\n",
       "dtype: bool"
      ]
     },
     "execution_count": 7,
     "metadata": {},
     "output_type": "execute_result"
    }
   ],
   "source": [
    "collar.isna().any()"
   ]
  },
  {
   "cell_type": "code",
   "execution_count": 8,
   "id": "f1478abd",
   "metadata": {},
   "outputs": [
    {
     "data": {
      "text/plain": [
       "Index(['Hole_ID', 'X', 'Y', 'Z', 'Depth_max', 'target'], dtype='object')"
      ]
     },
     "execution_count": 8,
     "metadata": {},
     "output_type": "execute_result"
    }
   ],
   "source": [
    "collar.columns"
   ]
  },
  {
   "cell_type": "code",
   "execution_count": 9,
   "id": "3a4d6c07",
   "metadata": {},
   "outputs": [],
   "source": [
    "from sdv.constraints import FixedCombinations"
   ]
  },
  {
   "cell_type": "code",
   "execution_count": 10,
   "id": "c415a91e",
   "metadata": {},
   "outputs": [],
   "source": [
    "Location = FixedCombinations(column_names=['X', 'Y', 'Z', 'Depth_max'])"
   ]
  },
  {
   "cell_type": "code",
   "execution_count": null,
   "id": "05c50a22",
   "metadata": {},
   "outputs": [],
   "source": [
    "Depth=FixedCombinations(column_names=['Z', 'Depth_max'])"
   ]
  },
  {
   "cell_type": "code",
   "execution_count": 11,
   "id": "688ed331",
   "metadata": {},
   "outputs": [],
   "source": [
    "constraints = [Location]"
   ]
  },
  {
   "cell_type": "code",
   "execution_count": 12,
   "id": "a42c154c",
   "metadata": {},
   "outputs": [],
   "source": [
    "from sdv.tabular import CTGAN"
   ]
  },
  {
   "cell_type": "code",
   "execution_count": 13,
   "id": "c2f1285d",
   "metadata": {},
   "outputs": [
    {
     "name": "stdout",
     "output_type": "stream",
     "text": [
      "Epoch 1, Loss G:  4.2787,Loss D:  0.0013\n",
      "Epoch 2, Loss G:  4.2475,Loss D:  0.0031\n",
      "Epoch 3, Loss G:  4.2403,Loss D:  0.0012\n",
      "Epoch 4, Loss G:  4.2197,Loss D: -0.0010\n",
      "Epoch 5, Loss G:  4.2015,Loss D: -0.0029\n",
      "Epoch 6, Loss G:  4.1942,Loss D: -0.0063\n",
      "Epoch 7, Loss G:  4.1782,Loss D:  0.0030\n",
      "Epoch 8, Loss G:  4.1867,Loss D: -0.0005\n",
      "Epoch 9, Loss G:  4.1596,Loss D: -0.0132\n",
      "Epoch 10, Loss G:  4.1620,Loss D: -0.0049\n",
      "Epoch 11, Loss G:  4.1590,Loss D: -0.0081\n",
      "Epoch 12, Loss G:  4.1414,Loss D: -0.0043\n",
      "Epoch 13, Loss G:  4.1112,Loss D: -0.0039\n",
      "Epoch 14, Loss G:  4.1022,Loss D:  0.0034\n",
      "Epoch 15, Loss G:  4.0830,Loss D: -0.0015\n",
      "Epoch 16, Loss G:  4.0502,Loss D:  0.0097\n",
      "Epoch 17, Loss G:  4.0514,Loss D:  0.0127\n",
      "Epoch 18, Loss G:  4.0238,Loss D:  0.0149\n",
      "Epoch 19, Loss G:  3.9906,Loss D:  0.0358\n",
      "Epoch 20, Loss G:  3.9986,Loss D:  0.0290\n",
      "Epoch 21, Loss G:  3.9579,Loss D:  0.0193\n",
      "Epoch 22, Loss G:  3.9897,Loss D:  0.0257\n",
      "Epoch 23, Loss G:  3.9879,Loss D:  0.0174\n",
      "Epoch 24, Loss G:  3.9676,Loss D:  0.0225\n",
      "Epoch 25, Loss G:  3.9823,Loss D:  0.0230\n",
      "Epoch 26, Loss G:  3.9821,Loss D:  0.0168\n",
      "Epoch 27, Loss G:  3.9554,Loss D: -0.0074\n",
      "Epoch 28, Loss G:  3.9616,Loss D: -0.0009\n",
      "Epoch 29, Loss G:  3.9513,Loss D:  0.0075\n",
      "Epoch 30, Loss G:  3.9515,Loss D:  0.0128\n",
      "Epoch 31, Loss G:  3.9455,Loss D:  0.0375\n",
      "Epoch 32, Loss G:  3.9381,Loss D:  0.0278\n",
      "Epoch 33, Loss G:  3.9123,Loss D:  0.0179\n",
      "Epoch 34, Loss G:  3.8912,Loss D:  0.0652\n",
      "Epoch 35, Loss G:  3.9163,Loss D:  0.0588\n",
      "Epoch 36, Loss G:  3.9310,Loss D:  0.0508\n",
      "Epoch 37, Loss G:  3.9084,Loss D:  0.0563\n",
      "Epoch 38, Loss G:  3.8871,Loss D:  0.0428\n",
      "Epoch 39, Loss G:  3.8836,Loss D:  0.0239\n",
      "Epoch 40, Loss G:  3.8938,Loss D:  0.0448\n",
      "Epoch 41, Loss G:  3.8965,Loss D:  0.0323\n",
      "Epoch 42, Loss G:  3.9188,Loss D:  0.0239\n",
      "Epoch 43, Loss G:  3.9046,Loss D: -0.0065\n",
      "Epoch 44, Loss G:  3.9225,Loss D: -0.0045\n",
      "Epoch 45, Loss G:  3.9435,Loss D: -0.0394\n",
      "Epoch 46, Loss G:  3.9411,Loss D: -0.0430\n",
      "Epoch 47, Loss G:  3.9224,Loss D: -0.0279\n",
      "Epoch 48, Loss G:  3.9571,Loss D: -0.0329\n",
      "Epoch 49, Loss G:  3.9250,Loss D: -0.0605\n",
      "Epoch 50, Loss G:  3.9420,Loss D: -0.0264\n",
      "Epoch 51, Loss G:  3.9331,Loss D: -0.0653\n",
      "Epoch 52, Loss G:  3.9219,Loss D: -0.0226\n",
      "Epoch 53, Loss G:  3.9132,Loss D: -0.0328\n",
      "Epoch 54, Loss G:  3.9023,Loss D: -0.0212\n",
      "Epoch 55, Loss G:  3.8867,Loss D: -0.0478\n",
      "Epoch 56, Loss G:  3.8606,Loss D: -0.0165\n",
      "Epoch 57, Loss G:  3.8374,Loss D:  0.0265\n",
      "Epoch 58, Loss G:  3.8075,Loss D:  0.0146\n",
      "Epoch 59, Loss G:  3.8051,Loss D:  0.0249\n",
      "Epoch 60, Loss G:  3.7947,Loss D:  0.0520\n",
      "Epoch 61, Loss G:  3.7871,Loss D:  0.0548\n",
      "Epoch 62, Loss G:  3.7691,Loss D:  0.0198\n",
      "Epoch 63, Loss G:  3.7429,Loss D:  0.0631\n",
      "Epoch 64, Loss G:  3.7521,Loss D:  0.0424\n",
      "Epoch 65, Loss G:  3.7460,Loss D:  0.0263\n",
      "Epoch 66, Loss G:  3.7336,Loss D:  0.0529\n",
      "Epoch 67, Loss G:  3.7275,Loss D:  0.0315\n",
      "Epoch 68, Loss G:  3.7126,Loss D:  0.0349\n",
      "Epoch 69, Loss G:  3.6992,Loss D:  0.0553\n",
      "Epoch 70, Loss G:  3.6739,Loss D:  0.0381\n",
      "Epoch 71, Loss G:  3.6895,Loss D:  0.0275\n",
      "Epoch 72, Loss G:  3.6727,Loss D:  0.0245\n",
      "Epoch 73, Loss G:  3.6731,Loss D: -0.0129\n",
      "Epoch 74, Loss G:  3.6591,Loss D: -0.0470\n",
      "Epoch 75, Loss G:  3.6341,Loss D: -0.0350\n",
      "Epoch 76, Loss G:  3.6501,Loss D: -0.0233\n",
      "Epoch 77, Loss G:  3.6242,Loss D: -0.0508\n",
      "Epoch 78, Loss G:  3.6152,Loss D: -0.0636\n",
      "Epoch 79, Loss G:  3.5715,Loss D: -0.0577\n",
      "Epoch 80, Loss G:  3.5509,Loss D: -0.0690\n",
      "Epoch 81, Loss G:  3.5440,Loss D: -0.0573\n",
      "Epoch 82, Loss G:  3.4994,Loss D: -0.0572\n",
      "Epoch 83, Loss G:  3.4856,Loss D: -0.0470\n",
      "Epoch 84, Loss G:  3.4636,Loss D: -0.0362\n",
      "Epoch 85, Loss G:  3.4326,Loss D: -0.0285\n",
      "Epoch 86, Loss G:  3.3841,Loss D: -0.0149\n",
      "Epoch 87, Loss G:  3.3570,Loss D: -0.0067\n",
      "Epoch 88, Loss G:  3.2989,Loss D:  0.0150\n",
      "Epoch 89, Loss G:  3.2897,Loss D:  0.0277\n",
      "Epoch 90, Loss G:  3.2770,Loss D: -0.0069\n",
      "Epoch 91, Loss G:  3.2457,Loss D:  0.0647\n",
      "Epoch 92, Loss G:  3.2255,Loss D:  0.0140\n",
      "Epoch 93, Loss G:  3.2309,Loss D:  0.0146\n",
      "Epoch 94, Loss G:  3.2122,Loss D:  0.0244\n",
      "Epoch 95, Loss G:  3.2112,Loss D:  0.0134\n",
      "Epoch 96, Loss G:  3.1967,Loss D: -0.0025\n",
      "Epoch 97, Loss G:  3.2132,Loss D:  0.0131\n",
      "Epoch 98, Loss G:  3.1975,Loss D: -0.0116\n",
      "Epoch 99, Loss G:  3.1844,Loss D: -0.0313\n",
      "Epoch 100, Loss G:  3.1851,Loss D: -0.0106\n"
     ]
    }
   ],
   "source": [
    "batch_size = 2000\n",
    "epochs = 100\n",
    "\n",
    "model = CTGAN(primary_key='Hole_ID',constraints=constraints, generator_dim=(257, 257, 257),\n",
    "              discriminator_dim=(257, 257, 257), batch_size=batch_size, epochs=epochs, verbose=True)\n",
    "model.fit(collar)"
   ]
  },
  {
   "cell_type": "code",
   "execution_count": 14,
   "id": "07edc157",
   "metadata": {},
   "outputs": [
    {
     "name": "stderr",
     "output_type": "stream",
     "text": [
      "Sampling rows: 100%|██████████| 66/66 [00:00<00:00, 191.80it/s]\n"
     ]
    }
   ],
   "source": [
    "n_generated_data = 66\n",
    "generated_df = model.sample(n_generated_data)"
   ]
  },
  {
   "cell_type": "code",
   "execution_count": 15,
   "id": "41d13df9",
   "metadata": {},
   "outputs": [],
   "source": [
    "from sdv.evaluation import evaluate"
   ]
  },
  {
   "cell_type": "code",
   "execution_count": 16,
   "id": "7dd28dd6",
   "metadata": {},
   "outputs": [
    {
     "data": {
      "text/html": [
       "<div>\n",
       "<style scoped>\n",
       "    .dataframe tbody tr th:only-of-type {\n",
       "        vertical-align: middle;\n",
       "    }\n",
       "\n",
       "    .dataframe tbody tr th {\n",
       "        vertical-align: top;\n",
       "    }\n",
       "\n",
       "    .dataframe thead th {\n",
       "        text-align: right;\n",
       "    }\n",
       "</style>\n",
       "<table border=\"1\" class=\"dataframe\">\n",
       "  <thead>\n",
       "    <tr style=\"text-align: right;\">\n",
       "      <th></th>\n",
       "      <th>Hole_ID</th>\n",
       "      <th>X</th>\n",
       "      <th>Y</th>\n",
       "      <th>Z</th>\n",
       "      <th>Depth_max</th>\n",
       "      <th>target</th>\n",
       "    </tr>\n",
       "  </thead>\n",
       "  <tbody>\n",
       "    <tr>\n",
       "      <th>0</th>\n",
       "      <td>a</td>\n",
       "      <td>530024.162</td>\n",
       "      <td>8714201.452</td>\n",
       "      <td>1331.309</td>\n",
       "      <td>113.0</td>\n",
       "      <td>2</td>\n",
       "    </tr>\n",
       "    <tr>\n",
       "      <th>1</th>\n",
       "      <td>b</td>\n",
       "      <td>530123.954</td>\n",
       "      <td>8714382.805</td>\n",
       "      <td>1330.650</td>\n",
       "      <td>132.0</td>\n",
       "      <td>1</td>\n",
       "    </tr>\n",
       "    <tr>\n",
       "      <th>2</th>\n",
       "      <td>c</td>\n",
       "      <td>530157.823</td>\n",
       "      <td>8714464.460</td>\n",
       "      <td>1330.200</td>\n",
       "      <td>123.5</td>\n",
       "      <td>1</td>\n",
       "    </tr>\n",
       "    <tr>\n",
       "      <th>3</th>\n",
       "      <td>d</td>\n",
       "      <td>530159.801</td>\n",
       "      <td>8714664.869</td>\n",
       "      <td>1329.711</td>\n",
       "      <td>171.5</td>\n",
       "      <td>1</td>\n",
       "    </tr>\n",
       "    <tr>\n",
       "      <th>4</th>\n",
       "      <td>e</td>\n",
       "      <td>530035.861</td>\n",
       "      <td>8714458.178</td>\n",
       "      <td>1330.968</td>\n",
       "      <td>272.0</td>\n",
       "      <td>1</td>\n",
       "    </tr>\n",
       "  </tbody>\n",
       "</table>\n",
       "</div>"
      ],
      "text/plain": [
       "  Hole_ID           X            Y         Z  Depth_max  target\n",
       "0       a  530024.162  8714201.452  1331.309      113.0       2\n",
       "1       b  530123.954  8714382.805  1330.650      132.0       1\n",
       "2       c  530157.823  8714464.460  1330.200      123.5       1\n",
       "3       d  530159.801  8714664.869  1329.711      171.5       1\n",
       "4       e  530035.861  8714458.178  1330.968      272.0       1"
      ]
     },
     "execution_count": 16,
     "metadata": {},
     "output_type": "execute_result"
    }
   ],
   "source": [
    "generated_df.head()"
   ]
  },
  {
   "cell_type": "code",
   "execution_count": 17,
   "id": "9a794885",
   "metadata": {},
   "outputs": [
    {
     "data": {
      "text/plain": [
       "0.45151515151515154"
      ]
     },
     "execution_count": 17,
     "metadata": {},
     "output_type": "execute_result"
    }
   ],
   "source": [
    "score = evaluate(generated_df, collar.sample(n_generated_data))\n",
    "score"
   ]
  },
  {
   "cell_type": "code",
   "execution_count": 18,
   "id": "1f8e5e7b",
   "metadata": {},
   "outputs": [],
   "source": [
    "from table_evaluator import load_data, TableEvaluator"
   ]
  },
  {
   "cell_type": "code",
   "execution_count": 19,
   "id": "da971319",
   "metadata": {},
   "outputs": [
    {
     "name": "stdout",
     "output_type": "stream",
     "text": [
      "\n",
      "Classifier F1-scores and their Jaccard similarities::\n",
      "                             f1_real  f1_fake  jaccard_similarity\n",
      "index                                                            \n",
      "DecisionTreeClassifier_fake   0.6429   0.6429              0.4000\n",
      "DecisionTreeClassifier_real   0.9286   0.4286              0.2174\n",
      "LogisticRegression_fake       0.9286   0.9286              1.0000\n",
      "LogisticRegression_real       0.7143   0.7143              1.0000\n",
      "MLPClassifier_fake            0.9286   0.9286              1.0000\n",
      "MLPClassifier_real            0.7143   0.7143              1.0000\n",
      "RandomForestClassifier_fake   0.6429   0.7143              0.4737\n",
      "RandomForestClassifier_real   0.8571   0.7857              0.6471\n",
      "\n",
      "Privacy results:\n",
      "                                         result\n",
      "Duplicate rows between sets (real/fake)  (0, 0)\n",
      "nearest neighbor mean                    1.3834\n",
      "nearest neighbor std                     0.3409\n",
      "\n",
      "Miscellaneous results:\n",
      "                                  Result\n",
      "Column Correlation Distance RMSE  0.0760\n",
      "Column Correlation distance MAE   0.0402\n",
      "\n",
      "Results:\n",
      "                                                result\n",
      "Basic statistics                                0.9985\n",
      "Correlation column correlations                 0.9921\n",
      "Mean Correlation between fake and real columns  0.9781\n",
      "1 - MAPE Estimator results                      0.9084\n",
      "Similarity Score                                0.9693\n"
     ]
    }
   ],
   "source": [
    "from table_evaluator import load_data, TableEvaluator\n",
    "table_evaluator = TableEvaluator(collar, generated_df)\n",
    "table_evaluator.evaluate(target_col='target')"
   ]
  },
  {
   "cell_type": "code",
   "execution_count": 20,
   "id": "c6537e0d",
   "metadata": {},
   "outputs": [],
   "source": [
    "table_evaluator.visual_evaluation()"
   ]
  },
  {
   "cell_type": "code",
   "execution_count": 21,
   "id": "e91663c2",
   "metadata": {},
   "outputs": [],
   "source": [
    "from sdv.tabular import CopulaGAN"
   ]
  },
  {
   "cell_type": "code",
   "execution_count": 22,
   "id": "10c2512f",
   "metadata": {},
   "outputs": [
    {
     "name": "stdout",
     "output_type": "stream",
     "text": [
      "Epoch 1, Loss G:  4.2822,Loss D: -0.0007\n",
      "Epoch 2, Loss G:  4.2573,Loss D: -0.0010\n",
      "Epoch 3, Loss G:  4.2449,Loss D: -0.0003\n",
      "Epoch 4, Loss G:  4.2514,Loss D: -0.0029\n",
      "Epoch 5, Loss G:  4.2299,Loss D: -0.0054\n",
      "Epoch 6, Loss G:  4.2136,Loss D: -0.0039\n",
      "Epoch 7, Loss G:  4.2077,Loss D: -0.0060\n",
      "Epoch 8, Loss G:  4.1932,Loss D: -0.0082\n",
      "Epoch 9, Loss G:  4.1883,Loss D: -0.0064\n",
      "Epoch 10, Loss G:  4.1648,Loss D: -0.0044\n",
      "Epoch 11, Loss G:  4.1525,Loss D: -0.0041\n",
      "Epoch 12, Loss G:  4.1359,Loss D:  0.0027\n",
      "Epoch 13, Loss G:  4.1164,Loss D:  0.0051\n",
      "Epoch 14, Loss G:  4.0883,Loss D:  0.0095\n",
      "Epoch 15, Loss G:  4.0655,Loss D:  0.0138\n",
      "Epoch 16, Loss G:  4.0501,Loss D:  0.0128\n",
      "Epoch 17, Loss G:  4.0328,Loss D:  0.0026\n",
      "Epoch 18, Loss G:  4.0242,Loss D:  0.0024\n",
      "Epoch 19, Loss G:  4.0114,Loss D:  0.0042\n",
      "Epoch 20, Loss G:  3.9983,Loss D: -0.0066\n",
      "Epoch 21, Loss G:  4.0027,Loss D: -0.0107\n",
      "Epoch 22, Loss G:  3.9910,Loss D: -0.0149\n",
      "Epoch 23, Loss G:  3.9913,Loss D: -0.0312\n",
      "Epoch 24, Loss G:  3.9781,Loss D: -0.0428\n",
      "Epoch 25, Loss G:  3.9838,Loss D: -0.0205\n",
      "Epoch 26, Loss G:  3.9663,Loss D: -0.0204\n",
      "Epoch 27, Loss G:  3.9419,Loss D: -0.0119\n",
      "Epoch 28, Loss G:  3.9463,Loss D: -0.0098\n",
      "Epoch 29, Loss G:  3.9188,Loss D:  0.0088\n",
      "Epoch 30, Loss G:  3.9106,Loss D:  0.0090\n",
      "Epoch 31, Loss G:  3.8937,Loss D:  0.0200\n",
      "Epoch 32, Loss G:  3.8757,Loss D:  0.0325\n",
      "Epoch 33, Loss G:  3.8509,Loss D:  0.0408\n",
      "Epoch 34, Loss G:  3.8591,Loss D:  0.0568\n",
      "Epoch 35, Loss G:  3.8604,Loss D:  0.0501\n",
      "Epoch 36, Loss G:  3.8500,Loss D:  0.0474\n",
      "Epoch 37, Loss G:  3.8554,Loss D:  0.0322\n",
      "Epoch 38, Loss G:  3.8522,Loss D:  0.0306\n",
      "Epoch 39, Loss G:  3.8468,Loss D:  0.0289\n",
      "Epoch 40, Loss G:  3.8502,Loss D:  0.0208\n",
      "Epoch 41, Loss G:  3.8539,Loss D:  0.0093\n",
      "Epoch 42, Loss G:  3.8570,Loss D: -0.0023\n",
      "Epoch 43, Loss G:  3.8639,Loss D: -0.0144\n",
      "Epoch 44, Loss G:  3.8657,Loss D: -0.0290\n",
      "Epoch 45, Loss G:  3.8726,Loss D: -0.0237\n",
      "Epoch 46, Loss G:  3.8802,Loss D: -0.0519\n",
      "Epoch 47, Loss G:  3.8861,Loss D: -0.0513\n",
      "Epoch 48, Loss G:  3.8779,Loss D: -0.0652\n",
      "Epoch 49, Loss G:  3.8767,Loss D: -0.0767\n",
      "Epoch 50, Loss G:  3.8573,Loss D: -0.0744\n",
      "Epoch 51, Loss G:  3.8556,Loss D: -0.0853\n",
      "Epoch 52, Loss G:  3.8350,Loss D: -0.0602\n",
      "Epoch 53, Loss G:  3.8233,Loss D: -0.0537\n",
      "Epoch 54, Loss G:  3.8029,Loss D: -0.0681\n",
      "Epoch 55, Loss G:  3.7692,Loss D: -0.0323\n",
      "Epoch 56, Loss G:  3.7586,Loss D: -0.0199\n",
      "Epoch 57, Loss G:  3.7174,Loss D: -0.0206\n",
      "Epoch 58, Loss G:  3.7028,Loss D:  0.0227\n",
      "Epoch 59, Loss G:  3.6708,Loss D:  0.0252\n",
      "Epoch 60, Loss G:  3.6577,Loss D:  0.0278\n",
      "Epoch 61, Loss G:  3.6236,Loss D:  0.0501\n",
      "Epoch 62, Loss G:  3.6125,Loss D:  0.0575\n",
      "Epoch 63, Loss G:  3.5805,Loss D:  0.0760\n",
      "Epoch 64, Loss G:  3.5438,Loss D:  0.0859\n",
      "Epoch 65, Loss G:  3.5354,Loss D:  0.0724\n",
      "Epoch 66, Loss G:  3.5066,Loss D:  0.0887\n",
      "Epoch 67, Loss G:  3.4954,Loss D:  0.0815\n",
      "Epoch 68, Loss G:  3.4605,Loss D:  0.0707\n",
      "Epoch 69, Loss G:  3.4545,Loss D:  0.0744\n",
      "Epoch 70, Loss G:  3.4277,Loss D:  0.0449\n",
      "Epoch 71, Loss G:  3.4236,Loss D:  0.0402\n",
      "Epoch 72, Loss G:  3.4062,Loss D:  0.0177\n",
      "Epoch 73, Loss G:  3.3980,Loss D: -0.0123\n",
      "Epoch 74, Loss G:  3.3835,Loss D: -0.0333\n",
      "Epoch 75, Loss G:  3.3769,Loss D: -0.0446\n",
      "Epoch 76, Loss G:  3.3533,Loss D: -0.0557\n",
      "Epoch 77, Loss G:  3.3166,Loss D: -0.0745\n",
      "Epoch 78, Loss G:  3.3043,Loss D: -0.0796\n",
      "Epoch 79, Loss G:  3.2595,Loss D: -0.0823\n",
      "Epoch 80, Loss G:  3.2306,Loss D: -0.0947\n",
      "Epoch 81, Loss G:  3.1791,Loss D: -0.0884\n",
      "Epoch 82, Loss G:  3.1448,Loss D: -0.0728\n",
      "Epoch 83, Loss G:  3.0968,Loss D: -0.0516\n",
      "Epoch 84, Loss G:  3.0455,Loss D: -0.0268\n",
      "Epoch 85, Loss G:  2.9897,Loss D: -0.0285\n",
      "Epoch 86, Loss G:  2.9622,Loss D: -0.0053\n",
      "Epoch 87, Loss G:  2.8996,Loss D:  0.0070\n",
      "Epoch 88, Loss G:  2.8481,Loss D:  0.0022\n",
      "Epoch 89, Loss G:  2.8288,Loss D:  0.0027\n",
      "Epoch 90, Loss G:  2.8084,Loss D:  0.0044\n",
      "Epoch 91, Loss G:  2.7751,Loss D: -0.0073\n",
      "Epoch 92, Loss G:  2.7261,Loss D:  0.0043\n",
      "Epoch 93, Loss G:  2.7264,Loss D:  0.0025\n",
      "Epoch 94, Loss G:  2.7165,Loss D: -0.0183\n",
      "Epoch 95, Loss G:  2.6807,Loss D: -0.0183\n",
      "Epoch 96, Loss G:  2.6502,Loss D: -0.0408\n",
      "Epoch 97, Loss G:  2.6217,Loss D: -0.0359\n",
      "Epoch 98, Loss G:  2.6288,Loss D: -0.0226\n",
      "Epoch 99, Loss G:  2.5772,Loss D: -0.0251\n",
      "Epoch 100, Loss G:  2.5433,Loss D: -0.0462\n"
     ]
    },
    {
     "name": "stderr",
     "output_type": "stream",
     "text": [
      "Sampling rows: 100%|██████████| 66/66 [00:00<00:00, 144.30it/s]\n"
     ]
    },
    {
     "data": {
      "text/html": [
       "<div>\n",
       "<style scoped>\n",
       "    .dataframe tbody tr th:only-of-type {\n",
       "        vertical-align: middle;\n",
       "    }\n",
       "\n",
       "    .dataframe tbody tr th {\n",
       "        vertical-align: top;\n",
       "    }\n",
       "\n",
       "    .dataframe thead th {\n",
       "        text-align: right;\n",
       "    }\n",
       "</style>\n",
       "<table border=\"1\" class=\"dataframe\">\n",
       "  <thead>\n",
       "    <tr style=\"text-align: right;\">\n",
       "      <th></th>\n",
       "      <th>Hole_ID</th>\n",
       "      <th>X</th>\n",
       "      <th>Y</th>\n",
       "      <th>Z</th>\n",
       "      <th>Depth_max</th>\n",
       "      <th>target</th>\n",
       "    </tr>\n",
       "  </thead>\n",
       "  <tbody>\n",
       "    <tr>\n",
       "      <th>0</th>\n",
       "      <td>a</td>\n",
       "      <td>530,283.1570</td>\n",
       "      <td>8,714,466.6110</td>\n",
       "      <td>1,329.8940</td>\n",
       "      <td>180.0000</td>\n",
       "      <td>1</td>\n",
       "    </tr>\n",
       "    <tr>\n",
       "      <th>1</th>\n",
       "      <td>b</td>\n",
       "      <td>530,123.0080</td>\n",
       "      <td>8,714,517.5800</td>\n",
       "      <td>1,330.0000</td>\n",
       "      <td>150.0000</td>\n",
       "      <td>1</td>\n",
       "    </tr>\n",
       "    <tr>\n",
       "      <th>2</th>\n",
       "      <td>c</td>\n",
       "      <td>530,128.8040</td>\n",
       "      <td>8,714,246.9610</td>\n",
       "      <td>1,330.8160</td>\n",
       "      <td>78.5000</td>\n",
       "      <td>1</td>\n",
       "    </tr>\n",
       "    <tr>\n",
       "      <th>3</th>\n",
       "      <td>d</td>\n",
       "      <td>530,094.7160</td>\n",
       "      <td>8,714,213.9850</td>\n",
       "      <td>1,331.0630</td>\n",
       "      <td>101.0000</td>\n",
       "      <td>1</td>\n",
       "    </tr>\n",
       "    <tr>\n",
       "      <th>4</th>\n",
       "      <td>e</td>\n",
       "      <td>530,374.9550</td>\n",
       "      <td>8,714,519.0770</td>\n",
       "      <td>1,329.4260</td>\n",
       "      <td>118.5000</td>\n",
       "      <td>1</td>\n",
       "    </tr>\n",
       "  </tbody>\n",
       "</table>\n",
       "</div>"
      ],
      "text/plain": [
       "  Hole_ID            X              Y          Z  Depth_max  target\n",
       "0       a 530,283.1570 8,714,466.6110 1,329.8940   180.0000       1\n",
       "1       b 530,123.0080 8,714,517.5800 1,330.0000   150.0000       1\n",
       "2       c 530,128.8040 8,714,246.9610 1,330.8160    78.5000       1\n",
       "3       d 530,094.7160 8,714,213.9850 1,331.0630   101.0000       1\n",
       "4       e 530,374.9550 8,714,519.0770 1,329.4260   118.5000       1"
      ]
     },
     "execution_count": 22,
     "metadata": {},
     "output_type": "execute_result"
    }
   ],
   "source": [
    "model = CopulaGAN(primary_key='Hole_ID',\n",
    "                 constraints=constraints,epochs=100,batch_size=5000,\n",
    "                  generator_dim=(256, 256, 256),discriminator_dim=(256, 256, 256),verbose=True)\n",
    "model.fit(collar)\n",
    "new_data = model.sample(66)\n",
    "new_data.head()"
   ]
  },
  {
   "cell_type": "code",
   "execution_count": 23,
   "id": "4f04f348",
   "metadata": {},
   "outputs": [
    {
     "data": {
      "text/plain": [
       "0.4590909090909091"
      ]
     },
     "execution_count": 23,
     "metadata": {},
     "output_type": "execute_result"
    }
   ],
   "source": [
    "from sdv.evaluation import evaluate\n",
    "\n",
    "evaluate(new_data, collar)"
   ]
  },
  {
   "cell_type": "code",
   "execution_count": 24,
   "id": "caee4354",
   "metadata": {},
   "outputs": [
    {
     "name": "stdout",
     "output_type": "stream",
     "text": [
      "\n",
      "Classifier F1-scores and their Jaccard similarities::\n",
      "                             f1_real  f1_fake  jaccard_similarity\n",
      "index                                                            \n",
      "DecisionTreeClassifier_fake   0.7857   0.8571              0.6471\n",
      "DecisionTreeClassifier_real   1.0000   0.9286              0.8667\n",
      "LogisticRegression_fake       1.0000   1.0000              1.0000\n",
      "LogisticRegression_real       0.8571   0.8571              1.0000\n",
      "MLPClassifier_fake            1.0000   1.0000              1.0000\n",
      "MLPClassifier_real            0.8571   0.8571              1.0000\n",
      "RandomForestClassifier_fake   0.7857   0.9286              0.7500\n",
      "RandomForestClassifier_real   1.0000   0.9286              0.8667\n",
      "\n",
      "Privacy results:\n",
      "                                         result\n",
      "Duplicate rows between sets (real/fake)  (0, 0)\n",
      "nearest neighbor mean                    1.4385\n",
      "nearest neighbor std                     0.2729\n",
      "\n",
      "Miscellaneous results:\n",
      "                                  Result\n",
      "Column Correlation Distance RMSE  0.1495\n",
      "Column Correlation distance MAE   0.0921\n",
      "\n",
      "Results:\n",
      "                                                result\n",
      "Basic statistics                                0.9865\n",
      "Correlation column correlations                 0.9695\n",
      "Mean Correlation between fake and real columns  0.9355\n",
      "1 - MAPE Estimator results                      0.9481\n",
      "Similarity Score                                0.9599\n"
     ]
    }
   ],
   "source": [
    "from table_evaluator import load_data, TableEvaluator\n",
    "table_evaluator = TableEvaluator(collar, new_data)\n",
    "table_evaluator.evaluate(target_col='target')"
   ]
  },
  {
   "cell_type": "code",
   "execution_count": 25,
   "id": "907506a4",
   "metadata": {},
   "outputs": [],
   "source": [
    "table_evaluator.visual_evaluation()"
   ]
  },
  {
   "cell_type": "code",
   "execution_count": 26,
   "id": "9890eb73",
   "metadata": {},
   "outputs": [],
   "source": [
    "from sdv.tabular import GaussianCopula"
   ]
  },
  {
   "cell_type": "code",
   "execution_count": 27,
   "id": "38b54d0c",
   "metadata": {},
   "outputs": [
    {
     "name": "stderr",
     "output_type": "stream",
     "text": [
      "Sampling rows: 100%|██████████| 66/66 [00:00<00:00, 398.43it/s]\n"
     ]
    },
    {
     "data": {
      "text/html": [
       "<div>\n",
       "<style scoped>\n",
       "    .dataframe tbody tr th:only-of-type {\n",
       "        vertical-align: middle;\n",
       "    }\n",
       "\n",
       "    .dataframe tbody tr th {\n",
       "        vertical-align: top;\n",
       "    }\n",
       "\n",
       "    .dataframe thead th {\n",
       "        text-align: right;\n",
       "    }\n",
       "</style>\n",
       "<table border=\"1\" class=\"dataframe\">\n",
       "  <thead>\n",
       "    <tr style=\"text-align: right;\">\n",
       "      <th></th>\n",
       "      <th>Hole_ID</th>\n",
       "      <th>X</th>\n",
       "      <th>Y</th>\n",
       "      <th>Z</th>\n",
       "      <th>Depth_max</th>\n",
       "      <th>target</th>\n",
       "    </tr>\n",
       "  </thead>\n",
       "  <tbody>\n",
       "    <tr>\n",
       "      <th>0</th>\n",
       "      <td>a</td>\n",
       "      <td>530,250.7730</td>\n",
       "      <td>8,714,398.7240</td>\n",
       "      <td>1,330.3520</td>\n",
       "      <td>92.0000</td>\n",
       "      <td>1</td>\n",
       "    </tr>\n",
       "    <tr>\n",
       "      <th>1</th>\n",
       "      <td>b</td>\n",
       "      <td>530,189.7420</td>\n",
       "      <td>8,714,515.0500</td>\n",
       "      <td>1,329.0000</td>\n",
       "      <td>189.0000</td>\n",
       "      <td>1</td>\n",
       "    </tr>\n",
       "    <tr>\n",
       "      <th>2</th>\n",
       "      <td>c</td>\n",
       "      <td>530,128.8040</td>\n",
       "      <td>8,714,246.9610</td>\n",
       "      <td>1,330.8160</td>\n",
       "      <td>78.5000</td>\n",
       "      <td>1</td>\n",
       "    </tr>\n",
       "    <tr>\n",
       "      <th>3</th>\n",
       "      <td>d</td>\n",
       "      <td>530,123.9540</td>\n",
       "      <td>8,714,382.8050</td>\n",
       "      <td>1,330.6500</td>\n",
       "      <td>132.0000</td>\n",
       "      <td>1</td>\n",
       "    </tr>\n",
       "    <tr>\n",
       "      <th>4</th>\n",
       "      <td>e</td>\n",
       "      <td>530,123.0030</td>\n",
       "      <td>8,714,615.9760</td>\n",
       "      <td>1,330.0740</td>\n",
       "      <td>178.0000</td>\n",
       "      <td>1</td>\n",
       "    </tr>\n",
       "  </tbody>\n",
       "</table>\n",
       "</div>"
      ],
      "text/plain": [
       "  Hole_ID            X              Y          Z  Depth_max  target\n",
       "0       a 530,250.7730 8,714,398.7240 1,330.3520    92.0000       1\n",
       "1       b 530,189.7420 8,714,515.0500 1,329.0000   189.0000       1\n",
       "2       c 530,128.8040 8,714,246.9610 1,330.8160    78.5000       1\n",
       "3       d 530,123.9540 8,714,382.8050 1,330.6500   132.0000       1\n",
       "4       e 530,123.0030 8,714,615.9760 1,330.0740   178.0000       1"
      ]
     },
     "execution_count": 27,
     "metadata": {},
     "output_type": "execute_result"
    }
   ],
   "source": [
    "model = GaussianCopula(primary_key='Hole_ID',constraints=constraints,\n",
    "                      field_distributions={'Z': 'beta'})\n",
    "model.fit(collar)\n",
    "new_data2 = model.sample(66)\n",
    "new_data2.head()"
   ]
  },
  {
   "cell_type": "code",
   "execution_count": 28,
   "id": "432b2cbf",
   "metadata": {},
   "outputs": [
    {
     "data": {
      "text/plain": [
       "0.45757575757575764"
      ]
     },
     "execution_count": 28,
     "metadata": {},
     "output_type": "execute_result"
    }
   ],
   "source": [
    "from sdv.evaluation import evaluate\n",
    "\n",
    "evaluate(new_data2, collar)"
   ]
  },
  {
   "cell_type": "code",
   "execution_count": 29,
   "id": "da33ab47",
   "metadata": {},
   "outputs": [
    {
     "name": "stdout",
     "output_type": "stream",
     "text": [
      "\n",
      "Classifier F1-scores and their Jaccard similarities::\n",
      "                             f1_real  f1_fake  jaccard_similarity\n",
      "index                                                            \n",
      "DecisionTreeClassifier_fake   0.7857   0.8571              0.8667\n",
      "DecisionTreeClassifier_real   1.0000   0.8571              0.7500\n",
      "LogisticRegression_fake       0.8571   0.8571              1.0000\n",
      "LogisticRegression_real       0.8571   0.8571              1.0000\n",
      "MLPClassifier_fake            0.8571   0.8571              1.0000\n",
      "MLPClassifier_real            0.8571   0.8571              1.0000\n",
      "RandomForestClassifier_fake   0.7857   0.7857              0.7500\n",
      "RandomForestClassifier_real   1.0000   0.8571              0.7500\n",
      "\n",
      "Privacy results:\n",
      "                                         result\n",
      "Duplicate rows between sets (real/fake)  (0, 0)\n",
      "nearest neighbor mean                    1.4411\n",
      "nearest neighbor std                     0.2493\n",
      "\n",
      "Miscellaneous results:\n",
      "                                  Result\n",
      "Column Correlation Distance RMSE  0.1132\n",
      "Column Correlation distance MAE   0.0629\n",
      "\n",
      "Results:\n",
      "                                                result\n",
      "Basic statistics                                0.9940\n",
      "Correlation column correlations                 0.9826\n",
      "Mean Correlation between fake and real columns  0.9599\n",
      "1 - MAPE Estimator results                      0.9529\n",
      "Similarity Score                                0.9724\n"
     ]
    }
   ],
   "source": [
    "from table_evaluator import load_data, TableEvaluator\n",
    "table_evaluator = TableEvaluator(collar, new_data2)\n",
    "table_evaluator.evaluate(target_col='target')"
   ]
  },
  {
   "cell_type": "code",
   "execution_count": 30,
   "id": "e686592b",
   "metadata": {},
   "outputs": [],
   "source": [
    "table_evaluator.visual_evaluation()"
   ]
  },
  {
   "cell_type": "code",
   "execution_count": null,
   "id": "8f92a905",
   "metadata": {},
   "outputs": [],
   "source": []
  }
 ],
 "metadata": {
  "kernelspec": {
   "display_name": "Python 3 (ipykernel)",
   "language": "python",
   "name": "python3"
  },
  "language_info": {
   "codemirror_mode": {
    "name": "ipython",
    "version": 3
   },
   "file_extension": ".py",
   "mimetype": "text/x-python",
   "name": "python",
   "nbconvert_exporter": "python",
   "pygments_lexer": "ipython3",
   "version": "3.9.13"
  }
 },
 "nbformat": 4,
 "nbformat_minor": 5
}
