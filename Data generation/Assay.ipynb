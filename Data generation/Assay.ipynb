{
 "cells": [
  {
   "cell_type": "code",
   "execution_count": 1,
   "id": "1271b13b",
   "metadata": {},
   "outputs": [],
   "source": [
    "import os\n",
    "import numpy as np\n",
    "import pandas as pd\n",
    "from matplotlib import pyplot as plt\n",
    "%matplotlib inline\n",
    "import seaborn as sns\n",
    "import warnings\n",
    "warnings.filterwarnings(\"ignore\")\n",
    "%matplotlib qt "
   ]
  },
  {
   "cell_type": "code",
   "execution_count": 2,
   "id": "f50f41c4",
   "metadata": {},
   "outputs": [],
   "source": [
    "assay = pd.read_csv(\"C:/Users/TIYANI/Videos/Final/Assay.csv\")"
   ]
  },
  {
   "cell_type": "code",
   "execution_count": 3,
   "id": "da5e9aeb",
   "metadata": {},
   "outputs": [
    {
     "data": {
      "text/html": [
       "<div>\n",
       "<style scoped>\n",
       "    .dataframe tbody tr th:only-of-type {\n",
       "        vertical-align: middle;\n",
       "    }\n",
       "\n",
       "    .dataframe tbody tr th {\n",
       "        vertical-align: top;\n",
       "    }\n",
       "\n",
       "    .dataframe thead th {\n",
       "        text-align: right;\n",
       "    }\n",
       "</style>\n",
       "<table border=\"1\" class=\"dataframe\">\n",
       "  <thead>\n",
       "    <tr style=\"text-align: right;\">\n",
       "      <th></th>\n",
       "      <th>Hole_ID</th>\n",
       "      <th>Depth_From</th>\n",
       "      <th>Depth_To</th>\n",
       "      <th>Tco</th>\n",
       "      <th>target</th>\n",
       "    </tr>\n",
       "  </thead>\n",
       "  <tbody>\n",
       "    <tr>\n",
       "      <th>0</th>\n",
       "      <td>KRED207</td>\n",
       "      <td>33.5</td>\n",
       "      <td>34.3</td>\n",
       "      <td>0.086</td>\n",
       "      <td>1</td>\n",
       "    </tr>\n",
       "    <tr>\n",
       "      <th>1</th>\n",
       "      <td>KRED207</td>\n",
       "      <td>34.3</td>\n",
       "      <td>35.0</td>\n",
       "      <td>0.223</td>\n",
       "      <td>1</td>\n",
       "    </tr>\n",
       "    <tr>\n",
       "      <th>2</th>\n",
       "      <td>KRED207</td>\n",
       "      <td>35.0</td>\n",
       "      <td>35.8</td>\n",
       "      <td>0.174</td>\n",
       "      <td>1</td>\n",
       "    </tr>\n",
       "    <tr>\n",
       "      <th>3</th>\n",
       "      <td>KRED207</td>\n",
       "      <td>35.8</td>\n",
       "      <td>36.5</td>\n",
       "      <td>0.065</td>\n",
       "      <td>1</td>\n",
       "    </tr>\n",
       "    <tr>\n",
       "      <th>4</th>\n",
       "      <td>KRED207</td>\n",
       "      <td>36.5</td>\n",
       "      <td>37.3</td>\n",
       "      <td>0.100</td>\n",
       "      <td>1</td>\n",
       "    </tr>\n",
       "  </tbody>\n",
       "</table>\n",
       "</div>"
      ],
      "text/plain": [
       "   Hole_ID  Depth_From  Depth_To    Tco  target\n",
       "0  KRED207        33.5      34.3  0.086       1\n",
       "1  KRED207        34.3      35.0  0.223       1\n",
       "2  KRED207        35.0      35.8  0.174       1\n",
       "3  KRED207        35.8      36.5  0.065       1\n",
       "4  KRED207        36.5      37.3  0.100       1"
      ]
     },
     "execution_count": 3,
     "metadata": {},
     "output_type": "execute_result"
    }
   ],
   "source": [
    "assay.head()"
   ]
  },
  {
   "cell_type": "code",
   "execution_count": 4,
   "id": "b72b7429",
   "metadata": {},
   "outputs": [
    {
     "data": {
      "text/plain": [
       "(4717, 5)"
      ]
     },
     "execution_count": 4,
     "metadata": {},
     "output_type": "execute_result"
    }
   ],
   "source": [
    "assay.shape"
   ]
  },
  {
   "cell_type": "code",
   "execution_count": 5,
   "id": "ce6a6e17",
   "metadata": {},
   "outputs": [
    {
     "data": {
      "text/plain": [
       "Hole_ID        object\n",
       "Depth_From    float64\n",
       "Depth_To      float64\n",
       "Tco           float64\n",
       "target          int64\n",
       "dtype: object"
      ]
     },
     "execution_count": 5,
     "metadata": {},
     "output_type": "execute_result"
    }
   ],
   "source": [
    "assay.dtypes"
   ]
  },
  {
   "cell_type": "code",
   "execution_count": 6,
   "id": "58228b6e",
   "metadata": {},
   "outputs": [
    {
     "data": {
      "text/plain": [
       "Hole_ID       False\n",
       "Depth_From    False\n",
       "Depth_To      False\n",
       "Tco           False\n",
       "target        False\n",
       "dtype: bool"
      ]
     },
     "execution_count": 6,
     "metadata": {},
     "output_type": "execute_result"
    }
   ],
   "source": [
    "assay.isna().any()"
   ]
  },
  {
   "cell_type": "code",
   "execution_count": 7,
   "id": "eb890f0a",
   "metadata": {},
   "outputs": [
    {
     "data": {
      "text/plain": [
       "Index(['Hole_ID', 'Depth_From', 'Depth_To', 'Tco', 'target'], dtype='object')"
      ]
     },
     "execution_count": 7,
     "metadata": {},
     "output_type": "execute_result"
    }
   ],
   "source": [
    "assay.columns"
   ]
  },
  {
   "cell_type": "code",
   "execution_count": 8,
   "id": "c007a88d",
   "metadata": {},
   "outputs": [],
   "source": [
    "from sdv.constraints import FixedCombinations"
   ]
  },
  {
   "cell_type": "code",
   "execution_count": 9,
   "id": "cd87ce75",
   "metadata": {},
   "outputs": [],
   "source": [
    "Location = FixedCombinations(column_names=['Depth_From', 'Depth_To','Tco'])"
   ]
  },
  {
   "cell_type": "code",
   "execution_count": 10,
   "id": "318eb401",
   "metadata": {},
   "outputs": [],
   "source": [
    "constraints = [Location]"
   ]
  },
  {
   "cell_type": "code",
   "execution_count": 11,
   "id": "544af8aa",
   "metadata": {},
   "outputs": [],
   "source": [
    "from sdv.tabular import CTGAN"
   ]
  },
  {
   "cell_type": "code",
   "execution_count": 12,
   "id": "32a5c8e8",
   "metadata": {},
   "outputs": [
    {
     "name": "stdout",
     "output_type": "stream",
     "text": [
      "Epoch 1, Loss G:  8.4506,Loss D: -0.0006\n",
      "Epoch 2, Loss G:  8.4523,Loss D: -0.0032\n",
      "Epoch 3, Loss G:  8.4547,Loss D: -0.0117\n",
      "Epoch 4, Loss G:  8.4231,Loss D: -0.0025\n",
      "Epoch 5, Loss G:  8.4140,Loss D:  0.0006\n",
      "Epoch 6, Loss G:  8.4256,Loss D: -0.0070\n",
      "Epoch 7, Loss G:  8.4159,Loss D:  0.0017\n",
      "Epoch 8, Loss G:  8.3777,Loss D:  0.0119\n",
      "Epoch 9, Loss G:  8.4036,Loss D:  0.0120\n",
      "Epoch 10, Loss G:  8.4034,Loss D: -0.0078\n",
      "Epoch 11, Loss G:  8.4162,Loss D: -0.0107\n",
      "Epoch 12, Loss G:  8.3830,Loss D:  0.0017\n",
      "Epoch 13, Loss G:  8.3602,Loss D:  0.0199\n",
      "Epoch 14, Loss G:  8.3810,Loss D:  0.0148\n",
      "Epoch 15, Loss G:  8.3680,Loss D: -0.0026\n",
      "Epoch 16, Loss G:  8.3947,Loss D: -0.0113\n",
      "Epoch 17, Loss G:  8.3820,Loss D: -0.0106\n",
      "Epoch 18, Loss G:  8.3643,Loss D: -0.0005\n",
      "Epoch 19, Loss G:  8.3280,Loss D:  0.0254\n",
      "Epoch 20, Loss G:  8.3592,Loss D:  0.0165\n",
      "Epoch 21, Loss G:  8.3597,Loss D: -0.0012\n",
      "Epoch 22, Loss G:  8.3439,Loss D: -0.0196\n",
      "Epoch 23, Loss G:  8.3430,Loss D: -0.0190\n",
      "Epoch 24, Loss G:  8.3108,Loss D:  0.0112\n",
      "Epoch 25, Loss G:  8.2644,Loss D:  0.0286\n",
      "Epoch 26, Loss G:  8.2612,Loss D:  0.0149\n",
      "Epoch 27, Loss G:  8.2755,Loss D: -0.0150\n",
      "Epoch 28, Loss G:  8.2546,Loss D: -0.0266\n",
      "Epoch 29, Loss G:  8.2313,Loss D: -0.0228\n",
      "Epoch 30, Loss G:  8.1939,Loss D:  0.0102\n",
      "Epoch 31, Loss G:  8.1565,Loss D:  0.0164\n",
      "Epoch 32, Loss G:  8.1950,Loss D:  0.0129\n",
      "Epoch 33, Loss G:  8.1940,Loss D: -0.0129\n",
      "Epoch 34, Loss G:  8.1837,Loss D: -0.0083\n",
      "Epoch 35, Loss G:  8.1405,Loss D:  0.0117\n",
      "Epoch 36, Loss G:  8.1307,Loss D:  0.0035\n",
      "Epoch 37, Loss G:  8.1125,Loss D:  0.0008\n",
      "Epoch 38, Loss G:  8.0798,Loss D: -0.0093\n",
      "Epoch 39, Loss G:  8.0972,Loss D:  0.0042\n",
      "Epoch 40, Loss G:  8.0732,Loss D: -0.0021\n",
      "Epoch 41, Loss G:  8.0707,Loss D: -0.0076\n",
      "Epoch 42, Loss G:  8.0304,Loss D: -0.0019\n",
      "Epoch 43, Loss G:  8.0258,Loss D: -0.0069\n",
      "Epoch 44, Loss G:  7.9690,Loss D:  0.0062\n",
      "Epoch 45, Loss G:  7.9219,Loss D:  0.0116\n",
      "Epoch 46, Loss G:  7.9016,Loss D:  0.0011\n",
      "Epoch 47, Loss G:  7.8661,Loss D: -0.0092\n",
      "Epoch 48, Loss G:  7.8051,Loss D: -0.0077\n",
      "Epoch 49, Loss G:  7.7872,Loss D:  0.0005\n",
      "Epoch 50, Loss G:  7.7213,Loss D:  0.0050\n",
      "Epoch 51, Loss G:  7.6772,Loss D: -0.0009\n",
      "Epoch 52, Loss G:  7.6732,Loss D: -0.0007\n",
      "Epoch 53, Loss G:  7.6015,Loss D:  0.0019\n",
      "Epoch 54, Loss G:  7.5767,Loss D: -0.0089\n",
      "Epoch 55, Loss G:  7.5176,Loss D:  0.0057\n",
      "Epoch 56, Loss G:  7.4759,Loss D: -0.0077\n",
      "Epoch 57, Loss G:  7.3906,Loss D: -0.0016\n",
      "Epoch 58, Loss G:  7.3346,Loss D: -0.0020\n",
      "Epoch 59, Loss G:  7.2699,Loss D: -0.0013\n",
      "Epoch 60, Loss G:  7.1957,Loss D:  0.0011\n",
      "Epoch 61, Loss G:  7.1495,Loss D:  0.0040\n",
      "Epoch 62, Loss G:  7.0669,Loss D: -0.0092\n",
      "Epoch 63, Loss G:  6.9508,Loss D:  0.0049\n",
      "Epoch 64, Loss G:  6.8785,Loss D:  0.0005\n",
      "Epoch 65, Loss G:  6.7908,Loss D:  0.0110\n",
      "Epoch 66, Loss G:  6.6300,Loss D: -0.0050\n",
      "Epoch 67, Loss G:  6.5432,Loss D: -0.0160\n",
      "Epoch 68, Loss G:  6.3707,Loss D: -0.0049\n",
      "Epoch 69, Loss G:  6.2471,Loss D:  0.0003\n",
      "Epoch 70, Loss G:  6.0930,Loss D: -0.0021\n",
      "Epoch 71, Loss G:  5.9361,Loss D: -0.0005\n",
      "Epoch 72, Loss G:  5.7819,Loss D:  0.0041\n",
      "Epoch 73, Loss G:  5.6241,Loss D: -0.0045\n",
      "Epoch 74, Loss G:  5.3901,Loss D: -0.0011\n",
      "Epoch 75, Loss G:  5.2313,Loss D:  0.0053\n",
      "Epoch 76, Loss G:  4.9908,Loss D: -0.0079\n",
      "Epoch 77, Loss G:  4.7565,Loss D:  0.0056\n",
      "Epoch 78, Loss G:  4.5829,Loss D: -0.0037\n",
      "Epoch 79, Loss G:  4.3926,Loss D:  0.0003\n",
      "Epoch 80, Loss G:  4.1439,Loss D: -0.0055\n",
      "Epoch 81, Loss G:  3.9490,Loss D: -0.0128\n",
      "Epoch 82, Loss G:  3.7462,Loss D: -0.0084\n",
      "Epoch 83, Loss G:  3.5270,Loss D: -0.0092\n",
      "Epoch 84, Loss G:  3.2946,Loss D: -0.0130\n",
      "Epoch 85, Loss G:  3.0397,Loss D:  0.0041\n",
      "Epoch 86, Loss G:  2.8227,Loss D:  0.0018\n",
      "Epoch 87, Loss G:  2.6120,Loss D:  0.0034\n",
      "Epoch 88, Loss G:  2.4226,Loss D: -0.0231\n",
      "Epoch 89, Loss G:  2.1758,Loss D:  0.0044\n",
      "Epoch 90, Loss G:  1.9594,Loss D: -0.0002\n",
      "Epoch 91, Loss G:  1.8026,Loss D: -0.0023\n",
      "Epoch 92, Loss G:  1.5659,Loss D: -0.0064\n",
      "Epoch 93, Loss G:  1.3894,Loss D:  0.0038\n",
      "Epoch 94, Loss G:  1.2608,Loss D:  0.0033\n",
      "Epoch 95, Loss G:  1.1063,Loss D:  0.0034\n",
      "Epoch 96, Loss G:  0.9434,Loss D:  0.0142\n",
      "Epoch 97, Loss G:  0.7973,Loss D: -0.0051\n",
      "Epoch 98, Loss G:  0.6854,Loss D:  0.0016\n",
      "Epoch 99, Loss G:  0.5674,Loss D: -0.0069\n",
      "Epoch 100, Loss G:  0.4858,Loss D: -0.0073\n"
     ]
    }
   ],
   "source": [
    "batch_size = 1000\n",
    "epochs = 100\n",
    "\n",
    "model = CTGAN(primary_key='Hole_ID',constraints=constraints, generator_dim=(257, 257, 257),\n",
    "              discriminator_dim=(257, 257, 257), batch_size=batch_size, epochs=epochs, verbose=True)\n",
    "model.fit(assay)"
   ]
  },
  {
   "cell_type": "code",
   "execution_count": 13,
   "id": "2950c096",
   "metadata": {},
   "outputs": [
    {
     "name": "stderr",
     "output_type": "stream",
     "text": [
      "Sampling rows: 100%|██████████| 4717/4717 [00:11<00:00, 404.86it/s]\n"
     ]
    }
   ],
   "source": [
    "n_generated_data = 4717\n",
    "new_assay = model.sample(n_generated_data)"
   ]
  },
  {
   "cell_type": "code",
   "execution_count": 14,
   "id": "992a729b",
   "metadata": {},
   "outputs": [],
   "source": [
    "from sdv.evaluation import evaluate"
   ]
  },
  {
   "cell_type": "code",
   "execution_count": 15,
   "id": "47a8230b",
   "metadata": {},
   "outputs": [
    {
     "data": {
      "text/plain": [
       "0.4833050667797329"
      ]
     },
     "execution_count": 15,
     "metadata": {},
     "output_type": "execute_result"
    }
   ],
   "source": [
    "from sdv.evaluation import evaluate\n",
    "\n",
    "evaluate(new_assay, assay)"
   ]
  },
  {
   "cell_type": "code",
   "execution_count": 16,
   "id": "34d88721",
   "metadata": {},
   "outputs": [],
   "source": [
    "from table_evaluator import load_data, TableEvaluator"
   ]
  },
  {
   "cell_type": "code",
   "execution_count": 17,
   "id": "4ea60c83",
   "metadata": {},
   "outputs": [
    {
     "name": "stdout",
     "output_type": "stream",
     "text": [
      "\n",
      "Classifier F1-scores and their Jaccard similarities::\n",
      "                             f1_real  f1_fake  jaccard_similarity\n",
      "index                                                            \n",
      "DecisionTreeClassifier_fake   0.0763   0.8676              0.0483\n",
      "DecisionTreeClassifier_real   1.0000   0.7850              0.6460\n",
      "LogisticRegression_fake       0.0752   0.9375              0.0064\n",
      "LogisticRegression_real       0.9979   0.9544              0.9168\n",
      "MLPClassifier_fake            0.8814   0.9375              0.8824\n",
      "MLPClassifier_real            0.9809   0.9544              0.9444\n",
      "RandomForestClassifier_fake   0.0763   0.9311              0.0102\n",
      "RandomForestClassifier_real   1.0000   0.9195              0.8510\n",
      "\n",
      "Privacy results:\n",
      "                                         result\n",
      "Duplicate rows between sets (real/fake)  (0, 0)\n",
      "nearest neighbor mean                    0.8927\n",
      "nearest neighbor std                     0.2390\n",
      "\n",
      "Miscellaneous results:\n",
      "                                  Result\n",
      "Column Correlation Distance RMSE  0.2420\n",
      "Column Correlation distance MAE   0.1410\n",
      "\n",
      "Results:\n",
      "                                                result\n",
      "Basic statistics                                1.0000\n",
      "Correlation column correlations                 0.8954\n",
      "Mean Correlation between fake and real columns  0.9675\n",
      "1 - MAPE Estimator results                     -3.1847\n",
      "Similarity Score                               -0.0805\n"
     ]
    }
   ],
   "source": [
    "from table_evaluator import load_data, TableEvaluator\n",
    "table_evaluator = TableEvaluator(assay, new_assay)\n",
    "table_evaluator.evaluate(target_col='target')"
   ]
  },
  {
   "cell_type": "code",
   "execution_count": 18,
   "id": "5895c95b",
   "metadata": {},
   "outputs": [],
   "source": [
    "table_evaluator.visual_evaluation()"
   ]
  },
  {
   "cell_type": "code",
   "execution_count": 19,
   "id": "31efcc84",
   "metadata": {},
   "outputs": [],
   "source": [
    "from sdv.tabular import CopulaGAN"
   ]
  },
  {
   "cell_type": "code",
   "execution_count": 20,
   "id": "f45ac012",
   "metadata": {},
   "outputs": [
    {
     "name": "stdout",
     "output_type": "stream",
     "text": [
      "Epoch 1, Loss G:  8.4464,Loss D: -0.0025\n",
      "Epoch 2, Loss G:  8.4442,Loss D: -0.0030\n",
      "Epoch 3, Loss G:  8.4335,Loss D: -0.0086\n",
      "Epoch 4, Loss G:  8.4243,Loss D: -0.0086\n",
      "Epoch 5, Loss G:  8.4092,Loss D: -0.0163\n",
      "Epoch 6, Loss G:  8.4116,Loss D: -0.0048\n",
      "Epoch 7, Loss G:  8.3993,Loss D: -0.0054\n",
      "Epoch 8, Loss G:  8.3835,Loss D: -0.0026\n",
      "Epoch 9, Loss G:  8.3886,Loss D:  0.0010\n",
      "Epoch 10, Loss G:  8.3864,Loss D: -0.0100\n",
      "Epoch 11, Loss G:  8.3810,Loss D: -0.0069\n",
      "Epoch 12, Loss G:  8.3732,Loss D:  0.0023\n",
      "Epoch 13, Loss G:  8.3585,Loss D:  0.0139\n",
      "Epoch 14, Loss G:  8.3421,Loss D:  0.0136\n",
      "Epoch 15, Loss G:  8.3381,Loss D:  0.0057\n",
      "Epoch 16, Loss G:  8.3342,Loss D:  0.0083\n",
      "Epoch 17, Loss G:  8.3439,Loss D:  0.0038\n",
      "Epoch 18, Loss G:  8.3285,Loss D: -0.0038\n",
      "Epoch 19, Loss G:  8.3371,Loss D: -0.0106\n",
      "Epoch 20, Loss G:  8.3355,Loss D: -0.0089\n",
      "Epoch 21, Loss G:  8.3227,Loss D: -0.0027\n",
      "Epoch 22, Loss G:  8.3079,Loss D:  0.0123\n",
      "Epoch 23, Loss G:  8.3008,Loss D:  0.0223\n",
      "Epoch 24, Loss G:  8.2915,Loss D:  0.0172\n",
      "Epoch 25, Loss G:  8.2828,Loss D:  0.0200\n",
      "Epoch 26, Loss G:  8.2836,Loss D:  0.0199\n",
      "Epoch 27, Loss G:  8.2823,Loss D:  0.0017\n",
      "Epoch 28, Loss G:  8.2816,Loss D: -0.0016\n",
      "Epoch 29, Loss G:  8.2970,Loss D: -0.0070\n",
      "Epoch 30, Loss G:  8.2883,Loss D: -0.0205\n",
      "Epoch 31, Loss G:  8.2935,Loss D: -0.0119\n",
      "Epoch 32, Loss G:  8.2834,Loss D: -0.0109\n",
      "Epoch 33, Loss G:  8.2688,Loss D: -0.0017\n",
      "Epoch 34, Loss G:  8.2580,Loss D:  0.0124\n",
      "Epoch 35, Loss G:  8.2464,Loss D:  0.0202\n",
      "Epoch 36, Loss G:  8.2332,Loss D:  0.0240\n",
      "Epoch 37, Loss G:  8.2207,Loss D:  0.0162\n",
      "Epoch 38, Loss G:  8.2192,Loss D:  0.0078\n",
      "Epoch 39, Loss G:  8.2255,Loss D:  0.0029\n",
      "Epoch 40, Loss G:  8.2273,Loss D: -0.0089\n",
      "Epoch 41, Loss G:  8.2335,Loss D: -0.0186\n",
      "Epoch 42, Loss G:  8.2189,Loss D: -0.0193\n",
      "Epoch 43, Loss G:  8.2160,Loss D: -0.0245\n",
      "Epoch 44, Loss G:  8.2031,Loss D: -0.0126\n",
      "Epoch 45, Loss G:  8.1678,Loss D: -0.0006\n",
      "Epoch 46, Loss G:  8.1291,Loss D:  0.0192\n",
      "Epoch 47, Loss G:  8.1046,Loss D:  0.0264\n",
      "Epoch 48, Loss G:  8.0781,Loss D:  0.0275\n",
      "Epoch 49, Loss G:  8.0724,Loss D:  0.0158\n",
      "Epoch 50, Loss G:  8.0519,Loss D:  0.0063\n",
      "Epoch 51, Loss G:  8.0452,Loss D: -0.0011\n",
      "Epoch 52, Loss G:  8.0383,Loss D: -0.0163\n",
      "Epoch 53, Loss G:  8.0235,Loss D: -0.0207\n",
      "Epoch 54, Loss G:  7.9980,Loss D: -0.0240\n",
      "Epoch 55, Loss G:  7.9907,Loss D: -0.0254\n",
      "Epoch 56, Loss G:  7.9514,Loss D: -0.0153\n",
      "Epoch 57, Loss G:  7.9202,Loss D: -0.0044\n",
      "Epoch 58, Loss G:  7.8971,Loss D:  0.0107\n",
      "Epoch 59, Loss G:  7.8592,Loss D:  0.0189\n",
      "Epoch 60, Loss G:  7.8302,Loss D:  0.0217\n",
      "Epoch 61, Loss G:  7.8259,Loss D:  0.0173\n",
      "Epoch 62, Loss G:  7.8071,Loss D:  0.0061\n",
      "Epoch 63, Loss G:  7.8031,Loss D:  0.0001\n",
      "Epoch 64, Loss G:  7.7804,Loss D: -0.0129\n",
      "Epoch 65, Loss G:  7.7595,Loss D: -0.0165\n",
      "Epoch 66, Loss G:  7.7341,Loss D: -0.0085\n",
      "Epoch 67, Loss G:  7.7050,Loss D: -0.0006\n",
      "Epoch 68, Loss G:  7.6530,Loss D:  0.0076\n",
      "Epoch 69, Loss G:  7.6341,Loss D:  0.0199\n",
      "Epoch 70, Loss G:  7.6063,Loss D:  0.0173\n",
      "Epoch 71, Loss G:  7.5718,Loss D:  0.0075\n",
      "Epoch 72, Loss G:  7.5520,Loss D:  0.0013\n",
      "Epoch 73, Loss G:  7.5273,Loss D: -0.0080\n",
      "Epoch 74, Loss G:  7.4927,Loss D: -0.0066\n",
      "Epoch 75, Loss G:  7.4624,Loss D: -0.0147\n",
      "Epoch 76, Loss G:  7.4045,Loss D:  0.0024\n",
      "Epoch 77, Loss G:  7.3704,Loss D:  0.0100\n",
      "Epoch 78, Loss G:  7.3203,Loss D:  0.0030\n",
      "Epoch 79, Loss G:  7.2778,Loss D: -0.0060\n",
      "Epoch 80, Loss G:  7.2485,Loss D: -0.0139\n",
      "Epoch 81, Loss G:  7.1930,Loss D: -0.0034\n",
      "Epoch 82, Loss G:  7.1377,Loss D: -0.0002\n",
      "Epoch 83, Loss G:  7.0786,Loss D:  0.0004\n",
      "Epoch 84, Loss G:  7.0360,Loss D:  0.0047\n",
      "Epoch 85, Loss G:  6.9537,Loss D:  0.0055\n",
      "Epoch 86, Loss G:  6.8894,Loss D:  0.0047\n",
      "Epoch 87, Loss G:  6.8187,Loss D:  0.0123\n",
      "Epoch 88, Loss G:  6.7595,Loss D:  0.0030\n",
      "Epoch 89, Loss G:  6.6938,Loss D: -0.0062\n",
      "Epoch 90, Loss G:  6.6039,Loss D: -0.0085\n",
      "Epoch 91, Loss G:  6.5027,Loss D: -0.0088\n",
      "Epoch 92, Loss G:  6.4134,Loss D: -0.0020\n",
      "Epoch 93, Loss G:  6.3210,Loss D: -0.0121\n",
      "Epoch 94, Loss G:  6.2446,Loss D: -0.0081\n",
      "Epoch 95, Loss G:  6.1459,Loss D: -0.0031\n",
      "Epoch 96, Loss G:  6.0559,Loss D: -0.0004\n",
      "Epoch 97, Loss G:  5.9206,Loss D: -0.0025\n",
      "Epoch 98, Loss G:  5.8417,Loss D:  0.0026\n",
      "Epoch 99, Loss G:  5.7304,Loss D:  0.0028\n",
      "Epoch 100, Loss G:  5.6202,Loss D:  0.0016\n"
     ]
    },
    {
     "name": "stderr",
     "output_type": "stream",
     "text": [
      "Sampling rows: 100%|██████████| 4717/4717 [00:19<00:00, 241.57it/s]\n"
     ]
    },
    {
     "data": {
      "text/html": [
       "<div>\n",
       "<style scoped>\n",
       "    .dataframe tbody tr th:only-of-type {\n",
       "        vertical-align: middle;\n",
       "    }\n",
       "\n",
       "    .dataframe tbody tr th {\n",
       "        vertical-align: top;\n",
       "    }\n",
       "\n",
       "    .dataframe thead th {\n",
       "        text-align: right;\n",
       "    }\n",
       "</style>\n",
       "<table border=\"1\" class=\"dataframe\">\n",
       "  <thead>\n",
       "    <tr style=\"text-align: right;\">\n",
       "      <th></th>\n",
       "      <th>Hole_ID</th>\n",
       "      <th>Depth_From</th>\n",
       "      <th>Depth_To</th>\n",
       "      <th>Tco</th>\n",
       "      <th>target</th>\n",
       "    </tr>\n",
       "  </thead>\n",
       "  <tbody>\n",
       "    <tr>\n",
       "      <th>0</th>\n",
       "      <td>a</td>\n",
       "      <td>24.0000</td>\n",
       "      <td>24.6000</td>\n",
       "      <td>0.1260</td>\n",
       "      <td>1</td>\n",
       "    </tr>\n",
       "    <tr>\n",
       "      <th>1</th>\n",
       "      <td>b</td>\n",
       "      <td>18.5000</td>\n",
       "      <td>19.3000</td>\n",
       "      <td>0.1390</td>\n",
       "      <td>1</td>\n",
       "    </tr>\n",
       "    <tr>\n",
       "      <th>2</th>\n",
       "      <td>c</td>\n",
       "      <td>49.1000</td>\n",
       "      <td>49.6000</td>\n",
       "      <td>0.4470</td>\n",
       "      <td>1</td>\n",
       "    </tr>\n",
       "    <tr>\n",
       "      <th>3</th>\n",
       "      <td>d</td>\n",
       "      <td>48.5000</td>\n",
       "      <td>49.2000</td>\n",
       "      <td>0.3030</td>\n",
       "      <td>1</td>\n",
       "    </tr>\n",
       "    <tr>\n",
       "      <th>4</th>\n",
       "      <td>e</td>\n",
       "      <td>166.5000</td>\n",
       "      <td>167.3000</td>\n",
       "      <td>0.0440</td>\n",
       "      <td>1</td>\n",
       "    </tr>\n",
       "  </tbody>\n",
       "</table>\n",
       "</div>"
      ],
      "text/plain": [
       "  Hole_ID  Depth_From  Depth_To    Tco  target\n",
       "0       a     24.0000   24.6000 0.1260       1\n",
       "1       b     18.5000   19.3000 0.1390       1\n",
       "2       c     49.1000   49.6000 0.4470       1\n",
       "3       d     48.5000   49.2000 0.3030       1\n",
       "4       e    166.5000  167.3000 0.0440       1"
      ]
     },
     "execution_count": 20,
     "metadata": {},
     "output_type": "execute_result"
    }
   ],
   "source": [
    "model = CopulaGAN(primary_key='Hole_ID',\n",
    "                 constraints=constraints,epochs=100,batch_size=2000,\n",
    "                  generator_dim=(256, 256, 256),discriminator_dim=(256, 256, 256),verbose=True)\n",
    "model.fit(assay)\n",
    "new_data = model.sample(4717)\n",
    "new_data.head()"
   ]
  },
  {
   "cell_type": "code",
   "execution_count": 21,
   "id": "554c21b0",
   "metadata": {},
   "outputs": [
    {
     "name": "stdout",
     "output_type": "stream",
     "text": [
      "\n",
      "Classifier F1-scores and their Jaccard similarities::\n",
      "                             f1_real  f1_fake  jaccard_similarity\n",
      "index                                                            \n",
      "DecisionTreeClassifier_fake   0.0392   0.9386              0.0289\n",
      "DecisionTreeClassifier_real   0.9989   0.8400              0.7226\n",
      "LogisticRegression_fake       0.0392   0.9778              0.0085\n",
      "LogisticRegression_real       0.9947   0.9566              0.9071\n",
      "MLPClassifier_fake            0.9216   0.9778              0.8861\n",
      "MLPClassifier_real            0.9725   0.9566              0.9129\n",
      "RandomForestClassifier_fake   0.0392   0.9746              0.0102\n",
      "RandomForestClassifier_real   0.9979   0.8983              0.8119\n",
      "\n",
      "Privacy results:\n",
      "                                         result\n",
      "Duplicate rows between sets (real/fake)  (0, 0)\n",
      "nearest neighbor mean                    0.8802\n",
      "nearest neighbor std                     0.2565\n",
      "\n",
      "Miscellaneous results:\n",
      "                                  Result\n",
      "Column Correlation Distance RMSE  0.2399\n",
      "Column Correlation distance MAE   0.1389\n",
      "\n",
      "Results:\n",
      "                                                result\n",
      "Basic statistics                                0.9941\n",
      "Correlation column correlations                 0.8954\n",
      "Mean Correlation between fake and real columns  0.9559\n",
      "1 - MAPE Estimator results                     -7.8914\n",
      "Similarity Score                               -1.2615\n"
     ]
    }
   ],
   "source": [
    "from table_evaluator import load_data, TableEvaluator\n",
    "table_evaluator = TableEvaluator(assay, new_data)\n",
    "table_evaluator.evaluate(target_col='target')"
   ]
  },
  {
   "cell_type": "code",
   "execution_count": 22,
   "id": "7dfaedeb",
   "metadata": {},
   "outputs": [],
   "source": [
    "table_evaluator.visual_evaluation()"
   ]
  },
  {
   "cell_type": "code",
   "execution_count": 23,
   "id": "2e3d0add",
   "metadata": {},
   "outputs": [
    {
     "data": {
      "text/plain": [
       "0.4941170235319059"
      ]
     },
     "execution_count": 23,
     "metadata": {},
     "output_type": "execute_result"
    }
   ],
   "source": [
    "from sdv.evaluation import evaluate\n",
    "\n",
    "evaluate(new_data, assay)"
   ]
  },
  {
   "cell_type": "code",
   "execution_count": 24,
   "id": "31c8dc99",
   "metadata": {},
   "outputs": [],
   "source": [
    "from sdv.tabular import GaussianCopula"
   ]
  },
  {
   "cell_type": "code",
   "execution_count": 25,
   "id": "9dae3ccc",
   "metadata": {},
   "outputs": [
    {
     "name": "stderr",
     "output_type": "stream",
     "text": [
      "Sampling rows: 100%|██████████| 4717/4717 [00:00<00:00, 24251.31it/s]\n"
     ]
    },
    {
     "data": {
      "text/html": [
       "<div>\n",
       "<style scoped>\n",
       "    .dataframe tbody tr th:only-of-type {\n",
       "        vertical-align: middle;\n",
       "    }\n",
       "\n",
       "    .dataframe tbody tr th {\n",
       "        vertical-align: top;\n",
       "    }\n",
       "\n",
       "    .dataframe thead th {\n",
       "        text-align: right;\n",
       "    }\n",
       "</style>\n",
       "<table border=\"1\" class=\"dataframe\">\n",
       "  <thead>\n",
       "    <tr style=\"text-align: right;\">\n",
       "      <th></th>\n",
       "      <th>Hole_ID</th>\n",
       "      <th>Depth_From</th>\n",
       "      <th>Depth_To</th>\n",
       "      <th>Tco</th>\n",
       "      <th>target</th>\n",
       "    </tr>\n",
       "  </thead>\n",
       "  <tbody>\n",
       "    <tr>\n",
       "      <th>0</th>\n",
       "      <td>a</td>\n",
       "      <td>38.6000</td>\n",
       "      <td>39.4000</td>\n",
       "      <td>0.9860</td>\n",
       "      <td>1</td>\n",
       "    </tr>\n",
       "    <tr>\n",
       "      <th>1</th>\n",
       "      <td>b</td>\n",
       "      <td>110.8000</td>\n",
       "      <td>111.5000</td>\n",
       "      <td>0.8900</td>\n",
       "      <td>1</td>\n",
       "    </tr>\n",
       "    <tr>\n",
       "      <th>2</th>\n",
       "      <td>c</td>\n",
       "      <td>39.5000</td>\n",
       "      <td>40.3000</td>\n",
       "      <td>0.0920</td>\n",
       "      <td>1</td>\n",
       "    </tr>\n",
       "    <tr>\n",
       "      <th>3</th>\n",
       "      <td>d</td>\n",
       "      <td>66.5000</td>\n",
       "      <td>67.1000</td>\n",
       "      <td>0.1520</td>\n",
       "      <td>1</td>\n",
       "    </tr>\n",
       "    <tr>\n",
       "      <th>4</th>\n",
       "      <td>e</td>\n",
       "      <td>88.0000</td>\n",
       "      <td>88.7000</td>\n",
       "      <td>1.8050</td>\n",
       "      <td>1</td>\n",
       "    </tr>\n",
       "  </tbody>\n",
       "</table>\n",
       "</div>"
      ],
      "text/plain": [
       "  Hole_ID  Depth_From  Depth_To    Tco  target\n",
       "0       a     38.6000   39.4000 0.9860       1\n",
       "1       b    110.8000  111.5000 0.8900       1\n",
       "2       c     39.5000   40.3000 0.0920       1\n",
       "3       d     66.5000   67.1000 0.1520       1\n",
       "4       e     88.0000   88.7000 1.8050       1"
      ]
     },
     "execution_count": 25,
     "metadata": {},
     "output_type": "execute_result"
    }
   ],
   "source": [
    "model = GaussianCopula(primary_key='Hole_ID',constraints=constraints,\n",
    "                      field_distributions={'Tco': 'beta'})\n",
    "model.fit(assay)\n",
    "new_data2 = model.sample(4717)\n",
    "new_data2.head()"
   ]
  },
  {
   "cell_type": "code",
   "execution_count": 26,
   "id": "32fa60b4",
   "metadata": {},
   "outputs": [
    {
     "name": "stdout",
     "output_type": "stream",
     "text": [
      "\n",
      "Classifier F1-scores and their Jaccard similarities::\n",
      "                             f1_real  f1_fake  jaccard_similarity\n",
      "index                                                            \n",
      "DecisionTreeClassifier_fake   0.0403   0.9555              0.0183\n",
      "DecisionTreeClassifier_real   1.0000   0.9195              0.8510\n",
      "LogisticRegression_fake       0.0403   0.9767              0.0085\n",
      "LogisticRegression_real       0.9968   0.9555              0.9090\n",
      "MLPClassifier_fake            0.9174   0.9767              0.8805\n",
      "MLPClassifier_real            0.9756   0.9555              0.8712\n",
      "RandomForestClassifier_fake   0.0403   0.9735              0.0102\n",
      "RandomForestClassifier_real   1.0000   0.9523              0.9090\n",
      "\n",
      "Privacy results:\n",
      "                                         result\n",
      "Duplicate rows between sets (real/fake)  (0, 0)\n",
      "nearest neighbor mean                    0.8655\n",
      "nearest neighbor std                     0.2581\n",
      "\n",
      "Miscellaneous results:\n",
      "                                  Result\n",
      "Column Correlation Distance RMSE  0.2387\n",
      "Column Correlation distance MAE   0.1347\n",
      "\n",
      "Results:\n",
      "                                                result\n",
      "Basic statistics                                0.9971\n",
      "Correlation column correlations                 0.8982\n",
      "Mean Correlation between fake and real columns  0.9311\n",
      "1 - MAPE Estimator results                     -7.6799\n",
      "Similarity Score                               -1.2134\n"
     ]
    }
   ],
   "source": [
    "from table_evaluator import load_data, TableEvaluator\n",
    "table_evaluator = TableEvaluator(assay, new_data2)\n",
    "table_evaluator.evaluate(target_col='target')"
   ]
  },
  {
   "cell_type": "code",
   "execution_count": 28,
   "id": "8ab42670",
   "metadata": {},
   "outputs": [],
   "source": [
    "table_evaluator.visual_evaluation()"
   ]
  },
  {
   "cell_type": "code",
   "execution_count": 29,
   "id": "51a4a1b1",
   "metadata": {},
   "outputs": [],
   "source": [
    "from sdv.sampling import Condition"
   ]
  },
  {
   "cell_type": "code",
   "execution_count": 42,
   "id": "1f4df4a7",
   "metadata": {},
   "outputs": [
    {
     "name": "stderr",
     "output_type": "stream",
     "text": [
      "Sampling conditions: 100%|██████████| 5/5 [00:00<00:00,  7.95it/s]"
     ]
    },
    {
     "name": "stdout",
     "output_type": "stream",
     "text": [
      "0    a\n",
      "1    a\n",
      "2    a\n",
      "3    b\n",
      "4    b\n",
      "5    b\n",
      "Name: Hole_ID, dtype: object\n"
     ]
    },
    {
     "name": "stderr",
     "output_type": "stream",
     "text": [
      "\n"
     ]
    }
   ],
   "source": [
    "condition = Condition({'Hole_ID': 'a'}, num_rows=5)\n",
    "model.sample_conditions(conditions=[condition])\n",
    "print(conditions['Hole_ID'])"
   ]
  },
  {
   "cell_type": "code",
   "execution_count": 35,
   "id": "26345e04",
   "metadata": {},
   "outputs": [
    {
     "name": "stderr",
     "output_type": "stream",
     "text": [
      "Sampling remaining columns: 100%|██████████| 6/6 [00:00<00:00, 10.14it/s]\n"
     ]
    },
    {
     "data": {
      "text/html": [
       "<div>\n",
       "<style scoped>\n",
       "    .dataframe tbody tr th:only-of-type {\n",
       "        vertical-align: middle;\n",
       "    }\n",
       "\n",
       "    .dataframe tbody tr th {\n",
       "        vertical-align: top;\n",
       "    }\n",
       "\n",
       "    .dataframe thead th {\n",
       "        text-align: right;\n",
       "    }\n",
       "</style>\n",
       "<table border=\"1\" class=\"dataframe\">\n",
       "  <thead>\n",
       "    <tr style=\"text-align: right;\">\n",
       "      <th></th>\n",
       "      <th>Hole_ID</th>\n",
       "      <th>Depth_From</th>\n",
       "      <th>Depth_To</th>\n",
       "      <th>Tco</th>\n",
       "      <th>target</th>\n",
       "    </tr>\n",
       "  </thead>\n",
       "  <tbody>\n",
       "    <tr>\n",
       "      <th>0</th>\n",
       "      <td>a</td>\n",
       "      <td>54.5000</td>\n",
       "      <td>55.3000</td>\n",
       "      <td>0.1050</td>\n",
       "      <td>1</td>\n",
       "    </tr>\n",
       "    <tr>\n",
       "      <th>1</th>\n",
       "      <td>b</td>\n",
       "      <td>65.8000</td>\n",
       "      <td>66.4000</td>\n",
       "      <td>7.0800</td>\n",
       "      <td>1</td>\n",
       "    </tr>\n",
       "    <tr>\n",
       "      <th>2</th>\n",
       "      <td>c</td>\n",
       "      <td>13.2000</td>\n",
       "      <td>13.8000</td>\n",
       "      <td>0.0630</td>\n",
       "      <td>1</td>\n",
       "    </tr>\n",
       "    <tr>\n",
       "      <th>3</th>\n",
       "      <td>d</td>\n",
       "      <td>168.0000</td>\n",
       "      <td>168.6000</td>\n",
       "      <td>0.8800</td>\n",
       "      <td>1</td>\n",
       "    </tr>\n",
       "    <tr>\n",
       "      <th>4</th>\n",
       "      <td>e</td>\n",
       "      <td>150.5000</td>\n",
       "      <td>151.1000</td>\n",
       "      <td>0.5000</td>\n",
       "      <td>2</td>\n",
       "    </tr>\n",
       "    <tr>\n",
       "      <th>5</th>\n",
       "      <td>f</td>\n",
       "      <td>47.0000</td>\n",
       "      <td>47.8000</td>\n",
       "      <td>0.3430</td>\n",
       "      <td>1</td>\n",
       "    </tr>\n",
       "  </tbody>\n",
       "</table>\n",
       "</div>"
      ],
      "text/plain": [
       "  Hole_ID  Depth_From  Depth_To    Tco  target\n",
       "0       a     54.5000   55.3000 0.1050       1\n",
       "1       b     65.8000   66.4000 7.0800       1\n",
       "2       c     13.2000   13.8000 0.0630       1\n",
       "3       d    168.0000  168.6000 0.8800       1\n",
       "4       e    150.5000  151.1000 0.5000       2\n",
       "5       f     47.0000   47.8000 0.3430       1"
      ]
     },
     "execution_count": 35,
     "metadata": {},
     "output_type": "execute_result"
    }
   ],
   "source": [
    "conditions = pd.DataFrame({ 'Hole_ID': ['a', 'a', 'a', 'b', 'b', 'b']})\n",
    "model.sample_remaining_columns(conditions)"
   ]
  },
  {
   "cell_type": "code",
   "execution_count": 40,
   "id": "4b451439",
   "metadata": {},
   "outputs": [
    {
     "data": {
      "text/plain": [
       "0    False\n",
       "1     True\n",
       "2     True\n",
       "3    False\n",
       "4     True\n",
       "5     True\n",
       "Name: Hole_ID, dtype: bool"
      ]
     },
     "execution_count": 40,
     "metadata": {},
     "output_type": "execute_result"
    }
   ],
   "source": [
    "conditions['Hole_ID'].duplicated()"
   ]
  },
  {
   "cell_type": "code",
   "execution_count": null,
   "id": "2261e42a",
   "metadata": {},
   "outputs": [],
   "source": [
    "print(conditions['Hole_ID'])"
   ]
  },
  {
   "cell_type": "code",
   "execution_count": null,
   "id": "73d24bd5",
   "metadata": {},
   "outputs": [],
   "source": []
  }
 ],
 "metadata": {
  "kernelspec": {
   "display_name": "Python 3 (ipykernel)",
   "language": "python",
   "name": "python3"
  },
  "language_info": {
   "codemirror_mode": {
    "name": "ipython",
    "version": 3
   },
   "file_extension": ".py",
   "mimetype": "text/x-python",
   "name": "python",
   "nbconvert_exporter": "python",
   "pygments_lexer": "ipython3",
   "version": "3.9.13"
  }
 },
 "nbformat": 4,
 "nbformat_minor": 5
}
