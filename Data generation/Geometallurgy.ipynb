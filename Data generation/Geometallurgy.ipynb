{
 "cells": [
  {
   "cell_type": "code",
   "execution_count": 1,
   "id": "e6844d89",
   "metadata": {},
   "outputs": [],
   "source": [
    "import os\n",
    "import numpy as np\n",
    "import pandas as pd\n",
    "from matplotlib import pyplot as plt\n",
    "%matplotlib inline\n",
    "import seaborn as sns\n",
    "import warnings\n",
    "warnings.filterwarnings(\"ignore\")\n",
    "%matplotlib qt"
   ]
  },
  {
   "cell_type": "code",
   "execution_count": 2,
   "id": "12ca1d6d",
   "metadata": {},
   "outputs": [],
   "source": [
    "geo = pd.read_csv(\"C:/Users/TIYANI/Videos/Final/Geometallurgy.csv\")"
   ]
  },
  {
   "cell_type": "code",
   "execution_count": 3,
   "id": "c937fc6f",
   "metadata": {},
   "outputs": [
    {
     "data": {
      "text/html": [
       "<div>\n",
       "<style scoped>\n",
       "    .dataframe tbody tr th:only-of-type {\n",
       "        vertical-align: middle;\n",
       "    }\n",
       "\n",
       "    .dataframe tbody tr th {\n",
       "        vertical-align: top;\n",
       "    }\n",
       "\n",
       "    .dataframe thead th {\n",
       "        text-align: right;\n",
       "    }\n",
       "</style>\n",
       "<table border=\"1\" class=\"dataframe\">\n",
       "  <thead>\n",
       "    <tr style=\"text-align: right;\">\n",
       "      <th></th>\n",
       "      <th>Hole_Id</th>\n",
       "      <th>Depth_From</th>\n",
       "      <th>Depth_To</th>\n",
       "      <th>Bond Work Index</th>\n",
       "      <th>Abression Index</th>\n",
       "      <th>Rodmill Index</th>\n",
       "      <th>Drop Weight index</th>\n",
       "      <th>RQD</th>\n",
       "      <th>AxB</th>\n",
       "      <th>target</th>\n",
       "    </tr>\n",
       "  </thead>\n",
       "  <tbody>\n",
       "    <tr>\n",
       "      <th>0</th>\n",
       "      <td>KRED207</td>\n",
       "      <td>0.0</td>\n",
       "      <td>10.0</td>\n",
       "      <td>NaN</td>\n",
       "      <td>NaN</td>\n",
       "      <td>NaN</td>\n",
       "      <td>NaN</td>\n",
       "      <td>NaN</td>\n",
       "      <td>NaN</td>\n",
       "      <td>1</td>\n",
       "    </tr>\n",
       "    <tr>\n",
       "      <th>1</th>\n",
       "      <td>KRED207</td>\n",
       "      <td>10.0</td>\n",
       "      <td>14.0</td>\n",
       "      <td>10.3</td>\n",
       "      <td>0.32</td>\n",
       "      <td>13.7</td>\n",
       "      <td>21.0</td>\n",
       "      <td>45.00</td>\n",
       "      <td>0.67</td>\n",
       "      <td>1</td>\n",
       "    </tr>\n",
       "    <tr>\n",
       "      <th>2</th>\n",
       "      <td>KRED207</td>\n",
       "      <td>14.0</td>\n",
       "      <td>17.2</td>\n",
       "      <td>12.0</td>\n",
       "      <td>0.02</td>\n",
       "      <td>13.8</td>\n",
       "      <td>16.0</td>\n",
       "      <td>54.74</td>\n",
       "      <td>0.32</td>\n",
       "      <td>1</td>\n",
       "    </tr>\n",
       "    <tr>\n",
       "      <th>3</th>\n",
       "      <td>KRED207</td>\n",
       "      <td>17.2</td>\n",
       "      <td>27.0</td>\n",
       "      <td>12.0</td>\n",
       "      <td>0.02</td>\n",
       "      <td>13.8</td>\n",
       "      <td>16.0</td>\n",
       "      <td>54.74</td>\n",
       "      <td>0.32</td>\n",
       "      <td>1</td>\n",
       "    </tr>\n",
       "    <tr>\n",
       "      <th>4</th>\n",
       "      <td>KRED207</td>\n",
       "      <td>27.0</td>\n",
       "      <td>31.2</td>\n",
       "      <td>12.0</td>\n",
       "      <td>0.02</td>\n",
       "      <td>13.8</td>\n",
       "      <td>16.0</td>\n",
       "      <td>54.74</td>\n",
       "      <td>0.32</td>\n",
       "      <td>1</td>\n",
       "    </tr>\n",
       "  </tbody>\n",
       "</table>\n",
       "</div>"
      ],
      "text/plain": [
       "   Hole_Id  Depth_From  Depth_To  Bond Work Index  Abression Index  \\\n",
       "0  KRED207         0.0      10.0              NaN              NaN   \n",
       "1  KRED207        10.0      14.0             10.3             0.32   \n",
       "2  KRED207        14.0      17.2             12.0             0.02   \n",
       "3  KRED207        17.2      27.0             12.0             0.02   \n",
       "4  KRED207        27.0      31.2             12.0             0.02   \n",
       "\n",
       "   Rodmill Index  Drop Weight index    RQD   AxB  target  \n",
       "0            NaN                NaN    NaN   NaN       1  \n",
       "1           13.7               21.0  45.00  0.67       1  \n",
       "2           13.8               16.0  54.74  0.32       1  \n",
       "3           13.8               16.0  54.74  0.32       1  \n",
       "4           13.8               16.0  54.74  0.32       1  "
      ]
     },
     "execution_count": 3,
     "metadata": {},
     "output_type": "execute_result"
    }
   ],
   "source": [
    "geo.head()"
   ]
  },
  {
   "cell_type": "code",
   "execution_count": 4,
   "id": "25bc7e6c",
   "metadata": {},
   "outputs": [
    {
     "data": {
      "text/plain": [
       "(1122, 10)"
      ]
     },
     "execution_count": 4,
     "metadata": {},
     "output_type": "execute_result"
    }
   ],
   "source": [
    "geo.shape"
   ]
  },
  {
   "cell_type": "code",
   "execution_count": 5,
   "id": "3d3cef23",
   "metadata": {},
   "outputs": [
    {
     "data": {
      "text/html": [
       "<div>\n",
       "<style scoped>\n",
       "    .dataframe tbody tr th:only-of-type {\n",
       "        vertical-align: middle;\n",
       "    }\n",
       "\n",
       "    .dataframe tbody tr th {\n",
       "        vertical-align: top;\n",
       "    }\n",
       "\n",
       "    .dataframe thead th {\n",
       "        text-align: right;\n",
       "    }\n",
       "</style>\n",
       "<table border=\"1\" class=\"dataframe\">\n",
       "  <thead>\n",
       "    <tr style=\"text-align: right;\">\n",
       "      <th></th>\n",
       "      <th>Depth_From</th>\n",
       "      <th>Depth_To</th>\n",
       "      <th>Bond Work Index</th>\n",
       "      <th>Abression Index</th>\n",
       "      <th>Rodmill Index</th>\n",
       "      <th>Drop Weight index</th>\n",
       "      <th>RQD</th>\n",
       "      <th>AxB</th>\n",
       "      <th>target</th>\n",
       "    </tr>\n",
       "  </thead>\n",
       "  <tbody>\n",
       "    <tr>\n",
       "      <th>count</th>\n",
       "      <td>1122.000000</td>\n",
       "      <td>1122.000000</td>\n",
       "      <td>1046.000000</td>\n",
       "      <td>764.000000</td>\n",
       "      <td>1046.000000</td>\n",
       "      <td>1046.000000</td>\n",
       "      <td>1046.000000</td>\n",
       "      <td>1046.000000</td>\n",
       "      <td>1122.000000</td>\n",
       "    </tr>\n",
       "    <tr>\n",
       "      <th>mean</th>\n",
       "      <td>76.607264</td>\n",
       "      <td>85.316800</td>\n",
       "      <td>11.923996</td>\n",
       "      <td>0.431712</td>\n",
       "      <td>14.456692</td>\n",
       "      <td>9.176138</td>\n",
       "      <td>53.183403</td>\n",
       "      <td>23.115298</td>\n",
       "      <td>1.140820</td>\n",
       "    </tr>\n",
       "    <tr>\n",
       "      <th>std</th>\n",
       "      <td>51.802770</td>\n",
       "      <td>51.768181</td>\n",
       "      <td>3.447721</td>\n",
       "      <td>0.481913</td>\n",
       "      <td>3.884151</td>\n",
       "      <td>6.387623</td>\n",
       "      <td>15.874388</td>\n",
       "      <td>17.284998</td>\n",
       "      <td>0.347991</td>\n",
       "    </tr>\n",
       "    <tr>\n",
       "      <th>min</th>\n",
       "      <td>0.000000</td>\n",
       "      <td>4.800000</td>\n",
       "      <td>7.000000</td>\n",
       "      <td>0.015000</td>\n",
       "      <td>4.000000</td>\n",
       "      <td>0.016100</td>\n",
       "      <td>16.000000</td>\n",
       "      <td>0.031000</td>\n",
       "      <td>1.000000</td>\n",
       "    </tr>\n",
       "    <tr>\n",
       "      <th>25%</th>\n",
       "      <td>33.825000</td>\n",
       "      <td>44.625000</td>\n",
       "      <td>7.000000</td>\n",
       "      <td>0.020000</td>\n",
       "      <td>12.000000</td>\n",
       "      <td>0.016100</td>\n",
       "      <td>36.330000</td>\n",
       "      <td>0.670000</td>\n",
       "      <td>1.000000</td>\n",
       "    </tr>\n",
       "    <tr>\n",
       "      <th>50%</th>\n",
       "      <td>70.950000</td>\n",
       "      <td>77.600000</td>\n",
       "      <td>12.000000</td>\n",
       "      <td>0.320000</td>\n",
       "      <td>13.800000</td>\n",
       "      <td>11.300000</td>\n",
       "      <td>54.740000</td>\n",
       "      <td>29.100000</td>\n",
       "      <td>1.000000</td>\n",
       "    </tr>\n",
       "    <tr>\n",
       "      <th>75%</th>\n",
       "      <td>112.150000</td>\n",
       "      <td>122.375000</td>\n",
       "      <td>14.300000</td>\n",
       "      <td>0.780000</td>\n",
       "      <td>18.900000</td>\n",
       "      <td>12.800000</td>\n",
       "      <td>70.000000</td>\n",
       "      <td>41.100000</td>\n",
       "      <td>1.000000</td>\n",
       "    </tr>\n",
       "    <tr>\n",
       "      <th>max</th>\n",
       "      <td>281.800000</td>\n",
       "      <td>287.500000</td>\n",
       "      <td>19.600000</td>\n",
       "      <td>6.700000</td>\n",
       "      <td>18.900000</td>\n",
       "      <td>21.000000</td>\n",
       "      <td>72.000000</td>\n",
       "      <td>41.100000</td>\n",
       "      <td>2.000000</td>\n",
       "    </tr>\n",
       "  </tbody>\n",
       "</table>\n",
       "</div>"
      ],
      "text/plain": [
       "        Depth_From     Depth_To  Bond Work Index  Abression Index  \\\n",
       "count  1122.000000  1122.000000      1046.000000       764.000000   \n",
       "mean     76.607264    85.316800        11.923996         0.431712   \n",
       "std      51.802770    51.768181         3.447721         0.481913   \n",
       "min       0.000000     4.800000         7.000000         0.015000   \n",
       "25%      33.825000    44.625000         7.000000         0.020000   \n",
       "50%      70.950000    77.600000        12.000000         0.320000   \n",
       "75%     112.150000   122.375000        14.300000         0.780000   \n",
       "max     281.800000   287.500000        19.600000         6.700000   \n",
       "\n",
       "       Rodmill Index  Drop Weight index          RQD          AxB       target  \n",
       "count    1046.000000        1046.000000  1046.000000  1046.000000  1122.000000  \n",
       "mean       14.456692           9.176138    53.183403    23.115298     1.140820  \n",
       "std         3.884151           6.387623    15.874388    17.284998     0.347991  \n",
       "min         4.000000           0.016100    16.000000     0.031000     1.000000  \n",
       "25%        12.000000           0.016100    36.330000     0.670000     1.000000  \n",
       "50%        13.800000          11.300000    54.740000    29.100000     1.000000  \n",
       "75%        18.900000          12.800000    70.000000    41.100000     1.000000  \n",
       "max        18.900000          21.000000    72.000000    41.100000     2.000000  "
      ]
     },
     "execution_count": 5,
     "metadata": {},
     "output_type": "execute_result"
    }
   ],
   "source": [
    "geo.describe()"
   ]
  },
  {
   "cell_type": "code",
   "execution_count": 6,
   "id": "f385fcc4",
   "metadata": {},
   "outputs": [
    {
     "data": {
      "text/plain": [
       "Hole_Id               object\n",
       "Depth_From           float64\n",
       "Depth_To             float64\n",
       "Bond Work Index      float64\n",
       "Abression Index      float64\n",
       "Rodmill Index        float64\n",
       "Drop Weight index    float64\n",
       "RQD                  float64\n",
       "AxB                  float64\n",
       "target                 int64\n",
       "dtype: object"
      ]
     },
     "execution_count": 6,
     "metadata": {},
     "output_type": "execute_result"
    }
   ],
   "source": [
    "geo.dtypes"
   ]
  },
  {
   "cell_type": "code",
   "execution_count": 7,
   "id": "ce87cdb3",
   "metadata": {},
   "outputs": [
    {
     "data": {
      "text/plain": [
       "Hole_Id              False\n",
       "Depth_From           False\n",
       "Depth_To             False\n",
       "Bond Work Index       True\n",
       "Abression Index       True\n",
       "Rodmill Index         True\n",
       "Drop Weight index     True\n",
       "RQD                   True\n",
       "AxB                   True\n",
       "target               False\n",
       "dtype: bool"
      ]
     },
     "execution_count": 7,
     "metadata": {},
     "output_type": "execute_result"
    }
   ],
   "source": [
    "geo.isna().any()"
   ]
  },
  {
   "cell_type": "code",
   "execution_count": 8,
   "id": "9724eed5",
   "metadata": {},
   "outputs": [],
   "source": [
    "geo.dropna(subset=['Abression Index'], how='all', inplace=True)"
   ]
  },
  {
   "cell_type": "code",
   "execution_count": 9,
   "id": "cd676bc1",
   "metadata": {},
   "outputs": [
    {
     "data": {
      "text/plain": [
       "Hole_Id              False\n",
       "Depth_From           False\n",
       "Depth_To             False\n",
       "Bond Work Index      False\n",
       "Abression Index      False\n",
       "Rodmill Index        False\n",
       "Drop Weight index    False\n",
       "RQD                  False\n",
       "AxB                  False\n",
       "target               False\n",
       "dtype: bool"
      ]
     },
     "execution_count": 9,
     "metadata": {},
     "output_type": "execute_result"
    }
   ],
   "source": [
    "geo.isna().any()"
   ]
  },
  {
   "cell_type": "code",
   "execution_count": 10,
   "id": "4a00bb34",
   "metadata": {},
   "outputs": [
    {
     "data": {
      "text/plain": [
       "Index(['Hole_Id', 'Depth_From', 'Depth_To', 'Bond Work Index',\n",
       "       'Abression Index', 'Rodmill Index', 'Drop Weight index', 'RQD', 'AxB',\n",
       "       'target'],\n",
       "      dtype='object')"
      ]
     },
     "execution_count": 10,
     "metadata": {},
     "output_type": "execute_result"
    }
   ],
   "source": [
    "geo.columns"
   ]
  },
  {
   "cell_type": "code",
   "execution_count": 11,
   "id": "f5e75934",
   "metadata": {},
   "outputs": [],
   "source": [
    "from sdv.constraints import FixedCombinations"
   ]
  },
  {
   "cell_type": "code",
   "execution_count": 12,
   "id": "2ca7bf37",
   "metadata": {},
   "outputs": [],
   "source": [
    "Location = FixedCombinations(column_names=['Depth_From', 'Depth_To'])"
   ]
  },
  {
   "cell_type": "code",
   "execution_count": 13,
   "id": "8456b024",
   "metadata": {},
   "outputs": [],
   "source": [
    "met = FixedCombinations(column_names=['Bond Work Index',\n",
    "       'Abression Index', 'Rodmill Index', 'Drop Weight index', 'RQD', 'AxB'])"
   ]
  },
  {
   "cell_type": "code",
   "execution_count": 14,
   "id": "a9daa048",
   "metadata": {},
   "outputs": [],
   "source": [
    "constraints = [Location,met]"
   ]
  },
  {
   "cell_type": "code",
   "execution_count": 15,
   "id": "dd84132b",
   "metadata": {},
   "outputs": [],
   "source": [
    "from sdv.tabular import CTGAN"
   ]
  },
  {
   "cell_type": "code",
   "execution_count": 16,
   "id": "30cd840e",
   "metadata": {},
   "outputs": [
    {
     "name": "stdout",
     "output_type": "stream",
     "text": [
      "Epoch 1, Loss G:  4.5290,Loss D:  0.0015\n",
      "Epoch 2, Loss G:  4.4573,Loss D:  0.0031\n",
      "Epoch 3, Loss G:  4.4755,Loss D: -0.0074\n",
      "Epoch 4, Loss G:  4.3831,Loss D: -0.0032\n",
      "Epoch 5, Loss G:  4.6320,Loss D: -0.0034\n",
      "Epoch 6, Loss G:  4.4222,Loss D: -0.0104\n",
      "Epoch 7, Loss G:  4.4581,Loss D: -0.0099\n",
      "Epoch 8, Loss G:  4.5653,Loss D: -0.0080\n",
      "Epoch 9, Loss G:  4.4796,Loss D: -0.0150\n",
      "Epoch 10, Loss G:  4.4568,Loss D: -0.0160\n",
      "Epoch 11, Loss G:  4.4347,Loss D: -0.0181\n",
      "Epoch 12, Loss G:  4.4289,Loss D: -0.0292\n",
      "Epoch 13, Loss G:  4.3688,Loss D: -0.0227\n",
      "Epoch 14, Loss G:  4.4262,Loss D: -0.0313\n",
      "Epoch 15, Loss G:  4.5878,Loss D: -0.0117\n",
      "Epoch 16, Loss G:  4.5117,Loss D: -0.0379\n",
      "Epoch 17, Loss G:  4.4077,Loss D: -0.0185\n",
      "Epoch 18, Loss G:  4.2870,Loss D: -0.0117\n",
      "Epoch 19, Loss G:  4.4749,Loss D: -0.0117\n",
      "Epoch 20, Loss G:  4.3895,Loss D: -0.0147\n",
      "Epoch 21, Loss G:  4.3283,Loss D: -0.0079\n",
      "Epoch 22, Loss G:  4.3259,Loss D: -0.0007\n",
      "Epoch 23, Loss G:  4.3430,Loss D: -0.0141\n",
      "Epoch 24, Loss G:  4.2807,Loss D: -0.0093\n",
      "Epoch 25, Loss G:  4.1906,Loss D: -0.0227\n",
      "Epoch 26, Loss G:  4.3600,Loss D: -0.0152\n",
      "Epoch 27, Loss G:  4.2291,Loss D: -0.0311\n",
      "Epoch 28, Loss G:  4.4185,Loss D: -0.0325\n",
      "Epoch 29, Loss G:  4.3387,Loss D: -0.0315\n",
      "Epoch 30, Loss G:  4.3995,Loss D: -0.0411\n",
      "Epoch 31, Loss G:  4.3606,Loss D: -0.0349\n",
      "Epoch 32, Loss G:  4.3150,Loss D: -0.0350\n",
      "Epoch 33, Loss G:  4.2644,Loss D: -0.0412\n",
      "Epoch 34, Loss G:  4.2398,Loss D: -0.0398\n",
      "Epoch 35, Loss G:  4.2325,Loss D: -0.0293\n",
      "Epoch 36, Loss G:  4.1607,Loss D: -0.0320\n",
      "Epoch 37, Loss G:  4.2854,Loss D: -0.0387\n",
      "Epoch 38, Loss G:  4.2422,Loss D: -0.0142\n",
      "Epoch 39, Loss G:  4.4096,Loss D: -0.0002\n",
      "Epoch 40, Loss G:  4.2270,Loss D: -0.0110\n",
      "Epoch 41, Loss G:  4.0927,Loss D: -0.0203\n",
      "Epoch 42, Loss G:  4.3040,Loss D: -0.0198\n",
      "Epoch 43, Loss G:  4.1362,Loss D: -0.0171\n",
      "Epoch 44, Loss G:  4.3069,Loss D: -0.0209\n",
      "Epoch 45, Loss G:  4.2318,Loss D: -0.0330\n",
      "Epoch 46, Loss G:  4.2049,Loss D: -0.0413\n",
      "Epoch 47, Loss G:  4.1555,Loss D: -0.0595\n",
      "Epoch 48, Loss G:  4.0535,Loss D: -0.0556\n",
      "Epoch 49, Loss G:  4.2010,Loss D: -0.0369\n",
      "Epoch 50, Loss G:  4.1313,Loss D: -0.0404\n",
      "Epoch 51, Loss G:  4.1557,Loss D: -0.0751\n",
      "Epoch 52, Loss G:  3.9982,Loss D: -0.0472\n",
      "Epoch 53, Loss G:  4.0297,Loss D: -0.0601\n",
      "Epoch 54, Loss G:  4.1786,Loss D: -0.0557\n",
      "Epoch 55, Loss G:  4.0844,Loss D: -0.0359\n",
      "Epoch 56, Loss G:  4.1434,Loss D: -0.0335\n",
      "Epoch 57, Loss G:  3.9642,Loss D: -0.0028\n",
      "Epoch 58, Loss G:  4.0243,Loss D:  0.0231\n",
      "Epoch 59, Loss G:  4.0285,Loss D: -0.0023\n",
      "Epoch 60, Loss G:  3.8990,Loss D:  0.0150\n",
      "Epoch 61, Loss G:  3.8977,Loss D:  0.0138\n",
      "Epoch 62, Loss G:  4.0342,Loss D:  0.0025\n",
      "Epoch 63, Loss G:  3.7851,Loss D: -0.0084\n",
      "Epoch 64, Loss G:  3.9923,Loss D:  0.0024\n",
      "Epoch 65, Loss G:  3.8329,Loss D: -0.0258\n",
      "Epoch 66, Loss G:  3.8607,Loss D: -0.0329\n",
      "Epoch 67, Loss G:  3.8547,Loss D: -0.0565\n",
      "Epoch 68, Loss G:  3.8829,Loss D: -0.0417\n",
      "Epoch 69, Loss G:  3.8251,Loss D: -0.0450\n",
      "Epoch 70, Loss G:  3.8253,Loss D: -0.0622\n",
      "Epoch 71, Loss G:  3.6905,Loss D: -0.0596\n",
      "Epoch 72, Loss G:  3.8391,Loss D: -0.0694\n",
      "Epoch 73, Loss G:  3.7610,Loss D: -0.0716\n",
      "Epoch 74, Loss G:  3.8493,Loss D: -0.0689\n",
      "Epoch 75, Loss G:  3.8413,Loss D: -0.0737\n",
      "Epoch 76, Loss G:  3.6845,Loss D: -0.0684\n",
      "Epoch 77, Loss G:  3.7734,Loss D: -0.0526\n",
      "Epoch 78, Loss G:  3.6448,Loss D: -0.0657\n",
      "Epoch 79, Loss G:  3.6576,Loss D: -0.0378\n",
      "Epoch 80, Loss G:  3.4977,Loss D: -0.0298\n",
      "Epoch 81, Loss G:  3.6307,Loss D: -0.0268\n",
      "Epoch 82, Loss G:  3.5973,Loss D: -0.0213\n",
      "Epoch 83, Loss G:  3.6342,Loss D:  0.0005\n",
      "Epoch 84, Loss G:  3.6163,Loss D:  0.0075\n",
      "Epoch 85, Loss G:  3.5074,Loss D:  0.0202\n",
      "Epoch 86, Loss G:  3.4447,Loss D:  0.0287\n",
      "Epoch 87, Loss G:  3.5228,Loss D:  0.0246\n",
      "Epoch 88, Loss G:  3.3535,Loss D:  0.0274\n",
      "Epoch 89, Loss G:  3.4668,Loss D:  0.0412\n",
      "Epoch 90, Loss G:  3.5194,Loss D:  0.0356\n",
      "Epoch 91, Loss G:  3.5702,Loss D:  0.0160\n",
      "Epoch 92, Loss G:  3.3733,Loss D:  0.0132\n",
      "Epoch 93, Loss G:  3.5136,Loss D:  0.0181\n",
      "Epoch 94, Loss G:  3.3614,Loss D: -0.0100\n",
      "Epoch 95, Loss G:  3.3218,Loss D:  0.0131\n",
      "Epoch 96, Loss G:  3.3726,Loss D: -0.0275\n",
      "Epoch 97, Loss G:  3.5993,Loss D: -0.0066\n",
      "Epoch 98, Loss G:  3.5681,Loss D: -0.0306\n",
      "Epoch 99, Loss G:  3.4620,Loss D: -0.0407\n",
      "Epoch 100, Loss G:  3.3724,Loss D: -0.0469\n"
     ]
    }
   ],
   "source": [
    "batch_size = 1000\n",
    "epochs = 100\n",
    "\n",
    "model = CTGAN(primary_key='Hole_Id',constraints=constraints, generator_dim=(257, 257, 257),\n",
    "              discriminator_dim=(257, 257, 257), batch_size=batch_size, epochs=epochs, verbose=True)\n",
    "model.fit(geo)"
   ]
  },
  {
   "cell_type": "code",
   "execution_count": 17,
   "id": "d682ff99",
   "metadata": {},
   "outputs": [
    {
     "name": "stderr",
     "output_type": "stream",
     "text": [
      "Sampling rows: 100%|██████████| 1122/1122 [00:02<00:00, 545.12it/s]\n"
     ]
    }
   ],
   "source": [
    "n_generated_data = 1122\n",
    "new_geo = model.sample(n_generated_data)"
   ]
  },
  {
   "cell_type": "code",
   "execution_count": 18,
   "id": "79afc2a5",
   "metadata": {},
   "outputs": [],
   "source": [
    "from sdv.evaluation import evaluate"
   ]
  },
  {
   "cell_type": "code",
   "execution_count": 19,
   "id": "549b80ef",
   "metadata": {},
   "outputs": [
    {
     "data": {
      "text/plain": [
       "0.4604123049611193"
      ]
     },
     "execution_count": 19,
     "metadata": {},
     "output_type": "execute_result"
    }
   ],
   "source": [
    "from sdv.evaluation import evaluate\n",
    "\n",
    "evaluate(new_geo, geo)"
   ]
  },
  {
   "cell_type": "code",
   "execution_count": 20,
   "id": "d7384f52",
   "metadata": {},
   "outputs": [],
   "source": [
    "from table_evaluator import load_data, TableEvaluator"
   ]
  },
  {
   "cell_type": "code",
   "execution_count": 21,
   "id": "b2cb3ddb",
   "metadata": {},
   "outputs": [
    {
     "name": "stdout",
     "output_type": "stream",
     "text": [
      "\n",
      "Classifier F1-scores and their Jaccard similarities::\n",
      "                             f1_real  f1_fake  jaccard_similarity\n",
      "index                                                            \n",
      "DecisionTreeClassifier_fake   0.1176   0.9216              0.0552\n",
      "DecisionTreeClassifier_real   1.0000   0.8562              0.7486\n",
      "LogisticRegression_fake       0.1176   0.9412              0.0444\n",
      "LogisticRegression_real       1.0000   0.8562              0.7486\n",
      "MLPClassifier_fake            0.1242   0.9412              0.0479\n",
      "MLPClassifier_real            0.9542   0.8562              0.7191\n",
      "RandomForestClassifier_fake   0.1176   0.9412              0.0444\n",
      "RandomForestClassifier_real   1.0000   0.8562              0.7486\n",
      "\n",
      "Privacy results:\n",
      "                                         result\n",
      "Duplicate rows between sets (real/fake)  (0, 0)\n",
      "nearest neighbor mean                    1.0937\n",
      "nearest neighbor std                     0.3054\n",
      "\n",
      "Miscellaneous results:\n",
      "                                  Result\n",
      "Column Correlation Distance RMSE  0.2482\n",
      "Column Correlation distance MAE   0.1796\n",
      "\n",
      "Results:\n",
      "                                                result\n",
      "Basic statistics                                0.9961\n",
      "Correlation column correlations                 0.8387\n",
      "Mean Correlation between fake and real columns  0.8812\n",
      "1 - MAPE Estimator results                     -2.4933\n",
      "Similarity Score                                0.0557\n"
     ]
    }
   ],
   "source": [
    "from table_evaluator import load_data, TableEvaluator\n",
    "table_evaluator = TableEvaluator(geo, new_geo)\n",
    "table_evaluator.evaluate(target_col='target')"
   ]
  },
  {
   "cell_type": "code",
   "execution_count": 22,
   "id": "f3f90773",
   "metadata": {},
   "outputs": [],
   "source": [
    "table_evaluator.visual_evaluation()"
   ]
  },
  {
   "cell_type": "code",
   "execution_count": 23,
   "id": "c6bdb64f",
   "metadata": {},
   "outputs": [],
   "source": [
    "from sdv.tabular import CopulaGAN"
   ]
  },
  {
   "cell_type": "code",
   "execution_count": 24,
   "id": "0afc5b02",
   "metadata": {},
   "outputs": [
    {
     "name": "stdout",
     "output_type": "stream",
     "text": [
      "Epoch 1, Loss G:  4.4116,Loss D: -0.0026\n",
      "Epoch 2, Loss G:  4.5079,Loss D:  0.0008\n",
      "Epoch 3, Loss G:  4.5574,Loss D: -0.0008\n",
      "Epoch 4, Loss G:  4.4732,Loss D: -0.0044\n",
      "Epoch 5, Loss G:  4.3076,Loss D: -0.0124\n",
      "Epoch 6, Loss G:  4.4957,Loss D: -0.0122\n",
      "Epoch 7, Loss G:  4.4209,Loss D: -0.0181\n",
      "Epoch 8, Loss G:  4.3651,Loss D: -0.0183\n",
      "Epoch 9, Loss G:  4.2796,Loss D: -0.0173\n",
      "Epoch 10, Loss G:  4.4534,Loss D: -0.0180\n",
      "Epoch 11, Loss G:  4.3688,Loss D: -0.0123\n",
      "Epoch 12, Loss G:  4.3299,Loss D: -0.0288\n",
      "Epoch 13, Loss G:  4.4573,Loss D: -0.0179\n",
      "Epoch 14, Loss G:  4.3242,Loss D: -0.0029\n",
      "Epoch 15, Loss G:  4.2844,Loss D: -0.0281\n",
      "Epoch 16, Loss G:  4.3086,Loss D: -0.0213\n",
      "Epoch 17, Loss G:  4.3969,Loss D: -0.0231\n",
      "Epoch 18, Loss G:  4.3100,Loss D: -0.0248\n",
      "Epoch 19, Loss G:  4.2385,Loss D: -0.0297\n",
      "Epoch 20, Loss G:  4.3657,Loss D: -0.0223\n",
      "Epoch 21, Loss G:  4.3311,Loss D: -0.0306\n",
      "Epoch 22, Loss G:  4.2043,Loss D: -0.0192\n",
      "Epoch 23, Loss G:  4.3511,Loss D: -0.0166\n",
      "Epoch 24, Loss G:  4.1892,Loss D: -0.0214\n",
      "Epoch 25, Loss G:  4.2509,Loss D: -0.0147\n",
      "Epoch 26, Loss G:  4.3436,Loss D: -0.0004\n",
      "Epoch 27, Loss G:  4.1808,Loss D: -0.0165\n",
      "Epoch 28, Loss G:  4.2371,Loss D: -0.0271\n",
      "Epoch 29, Loss G:  4.2322,Loss D: -0.0079\n",
      "Epoch 30, Loss G:  4.1050,Loss D: -0.0312\n",
      "Epoch 31, Loss G:  4.2365,Loss D: -0.0340\n",
      "Epoch 32, Loss G:  4.2604,Loss D: -0.0439\n",
      "Epoch 33, Loss G:  4.1551,Loss D: -0.0452\n",
      "Epoch 34, Loss G:  4.1280,Loss D: -0.0444\n",
      "Epoch 35, Loss G:  4.2328,Loss D: -0.0583\n",
      "Epoch 36, Loss G:  4.3339,Loss D: -0.0499\n",
      "Epoch 37, Loss G:  4.2768,Loss D: -0.0682\n",
      "Epoch 38, Loss G:  4.2936,Loss D: -0.0662\n",
      "Epoch 39, Loss G:  4.2516,Loss D: -0.0455\n",
      "Epoch 40, Loss G:  4.1501,Loss D: -0.0404\n",
      "Epoch 41, Loss G:  4.2826,Loss D: -0.0363\n",
      "Epoch 42, Loss G:  3.8957,Loss D: -0.0364\n",
      "Epoch 43, Loss G:  4.1536,Loss D: -0.0182\n",
      "Epoch 44, Loss G:  4.1663,Loss D: -0.0167\n",
      "Epoch 45, Loss G:  4.1183,Loss D: -0.0096\n",
      "Epoch 46, Loss G:  4.1287,Loss D: -0.0259\n",
      "Epoch 47, Loss G:  3.9943,Loss D:  0.0023\n",
      "Epoch 48, Loss G:  4.0326,Loss D: -0.0119\n",
      "Epoch 49, Loss G:  4.0632,Loss D: -0.0053\n",
      "Epoch 50, Loss G:  4.0234,Loss D: -0.0156\n",
      "Epoch 51, Loss G:  4.0576,Loss D: -0.0210\n",
      "Epoch 52, Loss G:  3.9936,Loss D: -0.0231\n",
      "Epoch 53, Loss G:  4.1099,Loss D: -0.0226\n",
      "Epoch 54, Loss G:  3.8724,Loss D: -0.0257\n",
      "Epoch 55, Loss G:  4.0028,Loss D: -0.0606\n",
      "Epoch 56, Loss G:  3.9313,Loss D: -0.0478\n",
      "Epoch 57, Loss G:  3.9139,Loss D: -0.0799\n",
      "Epoch 58, Loss G:  3.8701,Loss D: -0.0679\n",
      "Epoch 59, Loss G:  4.0037,Loss D: -0.0539\n",
      "Epoch 60, Loss G:  3.9242,Loss D: -0.0605\n",
      "Epoch 61, Loss G:  3.9433,Loss D: -0.0800\n",
      "Epoch 62, Loss G:  3.8593,Loss D: -0.0699\n",
      "Epoch 63, Loss G:  3.8266,Loss D: -0.0668\n",
      "Epoch 64, Loss G:  3.9256,Loss D: -0.0268\n",
      "Epoch 65, Loss G:  3.8495,Loss D: -0.0245\n",
      "Epoch 66, Loss G:  3.8820,Loss D: -0.0358\n",
      "Epoch 67, Loss G:  3.8930,Loss D: -0.0149\n",
      "Epoch 68, Loss G:  3.5639,Loss D: -0.0003\n",
      "Epoch 69, Loss G:  3.6843,Loss D: -0.0069\n",
      "Epoch 70, Loss G:  3.7140,Loss D:  0.0130\n",
      "Epoch 71, Loss G:  3.5807,Loss D:  0.0222\n",
      "Epoch 72, Loss G:  3.7314,Loss D:  0.0044\n",
      "Epoch 73, Loss G:  3.6636,Loss D:  0.0190\n",
      "Epoch 74, Loss G:  3.6178,Loss D:  0.0413\n",
      "Epoch 75, Loss G:  3.6017,Loss D: -0.0131\n",
      "Epoch 76, Loss G:  3.4223,Loss D: -0.0255\n",
      "Epoch 77, Loss G:  3.4920,Loss D: -0.0440\n",
      "Epoch 78, Loss G:  3.6588,Loss D: -0.0389\n",
      "Epoch 79, Loss G:  3.4949,Loss D: -0.0536\n",
      "Epoch 80, Loss G:  3.6178,Loss D: -0.0453\n",
      "Epoch 81, Loss G:  3.5510,Loss D: -0.0581\n",
      "Epoch 82, Loss G:  3.5638,Loss D: -0.0415\n",
      "Epoch 83, Loss G:  3.4131,Loss D: -0.0392\n",
      "Epoch 84, Loss G:  3.6950,Loss D: -0.0345\n",
      "Epoch 85, Loss G:  3.5057,Loss D: -0.0411\n",
      "Epoch 86, Loss G:  3.3413,Loss D: -0.0248\n",
      "Epoch 87, Loss G:  3.3108,Loss D: -0.0358\n",
      "Epoch 88, Loss G:  3.5074,Loss D: -0.0224\n",
      "Epoch 89, Loss G:  3.2499,Loss D: -0.0082\n",
      "Epoch 90, Loss G:  3.4269,Loss D:  0.0163\n",
      "Epoch 91, Loss G:  3.4861,Loss D:  0.0106\n",
      "Epoch 92, Loss G:  3.4515,Loss D:  0.0261\n",
      "Epoch 93, Loss G:  3.2619,Loss D:  0.0281\n",
      "Epoch 94, Loss G:  3.3606,Loss D:  0.0110\n",
      "Epoch 95, Loss G:  3.2867,Loss D:  0.0403\n",
      "Epoch 96, Loss G:  3.4644,Loss D:  0.0288\n",
      "Epoch 97, Loss G:  3.3539,Loss D:  0.0071\n",
      "Epoch 98, Loss G:  3.3260,Loss D: -0.0060\n",
      "Epoch 99, Loss G:  3.2038,Loss D: -0.0087\n",
      "Epoch 100, Loss G:  3.6385,Loss D: -0.0132\n"
     ]
    },
    {
     "name": "stderr",
     "output_type": "stream",
     "text": [
      "Sampling rows: 100%|██████████| 1122/1122 [00:01<00:00, 925.52it/s]\n"
     ]
    },
    {
     "data": {
      "text/html": [
       "<div>\n",
       "<style scoped>\n",
       "    .dataframe tbody tr th:only-of-type {\n",
       "        vertical-align: middle;\n",
       "    }\n",
       "\n",
       "    .dataframe tbody tr th {\n",
       "        vertical-align: top;\n",
       "    }\n",
       "\n",
       "    .dataframe thead th {\n",
       "        text-align: right;\n",
       "    }\n",
       "</style>\n",
       "<table border=\"1\" class=\"dataframe\">\n",
       "  <thead>\n",
       "    <tr style=\"text-align: right;\">\n",
       "      <th></th>\n",
       "      <th>Hole_Id</th>\n",
       "      <th>Depth_From</th>\n",
       "      <th>Depth_To</th>\n",
       "      <th>Bond Work Index</th>\n",
       "      <th>Abression Index</th>\n",
       "      <th>Rodmill Index</th>\n",
       "      <th>Drop Weight index</th>\n",
       "      <th>RQD</th>\n",
       "      <th>AxB</th>\n",
       "      <th>target</th>\n",
       "    </tr>\n",
       "  </thead>\n",
       "  <tbody>\n",
       "    <tr>\n",
       "      <th>0</th>\n",
       "      <td>a</td>\n",
       "      <td>174.8000</td>\n",
       "      <td>183.0000</td>\n",
       "      <td>12.0000</td>\n",
       "      <td>0.0200</td>\n",
       "      <td>13.8000</td>\n",
       "      <td>16.0000</td>\n",
       "      <td>54.7400</td>\n",
       "      <td>0.3200</td>\n",
       "      <td>1</td>\n",
       "    </tr>\n",
       "    <tr>\n",
       "      <th>1</th>\n",
       "      <td>b</td>\n",
       "      <td>88.8000</td>\n",
       "      <td>91.0000</td>\n",
       "      <td>14.3000</td>\n",
       "      <td>0.7800</td>\n",
       "      <td>18.9000</td>\n",
       "      <td>11.3000</td>\n",
       "      <td>70.0000</td>\n",
       "      <td>41.1000</td>\n",
       "      <td>1</td>\n",
       "    </tr>\n",
       "    <tr>\n",
       "      <th>2</th>\n",
       "      <td>c</td>\n",
       "      <td>131.5000</td>\n",
       "      <td>134.4000</td>\n",
       "      <td>14.3000</td>\n",
       "      <td>0.7800</td>\n",
       "      <td>18.9000</td>\n",
       "      <td>11.3000</td>\n",
       "      <td>70.0000</td>\n",
       "      <td>41.1000</td>\n",
       "      <td>1</td>\n",
       "    </tr>\n",
       "    <tr>\n",
       "      <th>3</th>\n",
       "      <td>d</td>\n",
       "      <td>171.0000</td>\n",
       "      <td>174.8000</td>\n",
       "      <td>12.8000</td>\n",
       "      <td>0.1470</td>\n",
       "      <td>14.2000</td>\n",
       "      <td>12.8000</td>\n",
       "      <td>41.6800</td>\n",
       "      <td>11.7000</td>\n",
       "      <td>1</td>\n",
       "    </tr>\n",
       "    <tr>\n",
       "      <th>4</th>\n",
       "      <td>e</td>\n",
       "      <td>86.5000</td>\n",
       "      <td>91.8000</td>\n",
       "      <td>14.3000</td>\n",
       "      <td>0.7800</td>\n",
       "      <td>18.9000</td>\n",
       "      <td>11.3000</td>\n",
       "      <td>70.0000</td>\n",
       "      <td>41.1000</td>\n",
       "      <td>1</td>\n",
       "    </tr>\n",
       "  </tbody>\n",
       "</table>\n",
       "</div>"
      ],
      "text/plain": [
       "  Hole_Id  Depth_From  Depth_To  Bond Work Index  Abression Index  \\\n",
       "0       a    174.8000  183.0000          12.0000           0.0200   \n",
       "1       b     88.8000   91.0000          14.3000           0.7800   \n",
       "2       c    131.5000  134.4000          14.3000           0.7800   \n",
       "3       d    171.0000  174.8000          12.8000           0.1470   \n",
       "4       e     86.5000   91.8000          14.3000           0.7800   \n",
       "\n",
       "   Rodmill Index  Drop Weight index     RQD     AxB  target  \n",
       "0        13.8000            16.0000 54.7400  0.3200       1  \n",
       "1        18.9000            11.3000 70.0000 41.1000       1  \n",
       "2        18.9000            11.3000 70.0000 41.1000       1  \n",
       "3        14.2000            12.8000 41.6800 11.7000       1  \n",
       "4        18.9000            11.3000 70.0000 41.1000       1  "
      ]
     },
     "execution_count": 24,
     "metadata": {},
     "output_type": "execute_result"
    }
   ],
   "source": [
    "model = CopulaGAN(primary_key='Hole_Id',\n",
    "                 constraints=constraints,epochs=100,batch_size=1000,\n",
    "                  generator_dim=(256, 256, 256),discriminator_dim=(256, 256, 256),verbose=True)\n",
    "model.fit(geo)\n",
    "new_data = model.sample(1122)\n",
    "new_data.head()"
   ]
  },
  {
   "cell_type": "code",
   "execution_count": 25,
   "id": "0c8fccfc",
   "metadata": {},
   "outputs": [
    {
     "name": "stdout",
     "output_type": "stream",
     "text": [
      "\n",
      "Classifier F1-scores and their Jaccard similarities::\n",
      "                             f1_real  f1_fake  jaccard_similarity\n",
      "index                                                            \n",
      "DecisionTreeClassifier_fake   0.1046   0.9412              0.0662\n",
      "DecisionTreeClassifier_real   1.0000   0.8693              0.7688\n",
      "LogisticRegression_fake       0.1046   0.9739              0.0408\n",
      "LogisticRegression_real       1.0000   0.8627              0.7586\n",
      "MLPClassifier_fake            0.1111   0.9739              0.0515\n",
      "MLPClassifier_real            0.9608   0.8627              0.7586\n",
      "RandomForestClassifier_fake   0.1046   0.9804              0.0444\n",
      "RandomForestClassifier_real   1.0000   0.8562              0.7486\n",
      "\n",
      "Privacy results:\n",
      "                                         result\n",
      "Duplicate rows between sets (real/fake)  (0, 0)\n",
      "nearest neighbor mean                    1.0589\n",
      "nearest neighbor std                     0.2858\n",
      "\n",
      "Miscellaneous results:\n",
      "                                  Result\n",
      "Column Correlation Distance RMSE  0.2575\n",
      "Column Correlation distance MAE   0.1891\n",
      "\n",
      "Results:\n",
      "                                                result\n",
      "Basic statistics                                0.9856\n",
      "Correlation column correlations                 0.8223\n",
      "Mean Correlation between fake and real columns  0.8940\n",
      "1 - MAPE Estimator results                     -3.1208\n",
      "Similarity Score                               -0.1047\n"
     ]
    }
   ],
   "source": [
    "from table_evaluator import load_data, TableEvaluator\n",
    "table_evaluator = TableEvaluator(geo, new_data)\n",
    "table_evaluator.evaluate(target_col='target')"
   ]
  },
  {
   "cell_type": "code",
   "execution_count": 26,
   "id": "6a3dda00",
   "metadata": {},
   "outputs": [],
   "source": [
    "table_evaluator.visual_evaluation()"
   ]
  },
  {
   "cell_type": "code",
   "execution_count": 27,
   "id": "506d4578",
   "metadata": {},
   "outputs": [
    {
     "data": {
      "text/plain": [
       "0.4616912633158398"
      ]
     },
     "execution_count": 27,
     "metadata": {},
     "output_type": "execute_result"
    }
   ],
   "source": [
    "from sdv.evaluation import evaluate\n",
    "\n",
    "evaluate(new_data, geo)"
   ]
  },
  {
   "cell_type": "code",
   "execution_count": 28,
   "id": "801e8ac6",
   "metadata": {},
   "outputs": [],
   "source": [
    "from sdv.tabular import GaussianCopula"
   ]
  },
  {
   "cell_type": "code",
   "execution_count": 29,
   "id": "243c7ab6",
   "metadata": {},
   "outputs": [
    {
     "name": "stderr",
     "output_type": "stream",
     "text": [
      "Sampling rows: 100%|██████████| 1122/1122 [00:00<00:00, 2699.59it/s]\n"
     ]
    },
    {
     "data": {
      "text/html": [
       "<div>\n",
       "<style scoped>\n",
       "    .dataframe tbody tr th:only-of-type {\n",
       "        vertical-align: middle;\n",
       "    }\n",
       "\n",
       "    .dataframe tbody tr th {\n",
       "        vertical-align: top;\n",
       "    }\n",
       "\n",
       "    .dataframe thead th {\n",
       "        text-align: right;\n",
       "    }\n",
       "</style>\n",
       "<table border=\"1\" class=\"dataframe\">\n",
       "  <thead>\n",
       "    <tr style=\"text-align: right;\">\n",
       "      <th></th>\n",
       "      <th>Hole_Id</th>\n",
       "      <th>Depth_From</th>\n",
       "      <th>Depth_To</th>\n",
       "      <th>Bond Work Index</th>\n",
       "      <th>Abression Index</th>\n",
       "      <th>Rodmill Index</th>\n",
       "      <th>Drop Weight index</th>\n",
       "      <th>RQD</th>\n",
       "      <th>AxB</th>\n",
       "      <th>target</th>\n",
       "    </tr>\n",
       "  </thead>\n",
       "  <tbody>\n",
       "    <tr>\n",
       "      <th>0</th>\n",
       "      <td>a</td>\n",
       "      <td>10.5000</td>\n",
       "      <td>18.0000</td>\n",
       "      <td>12.0000</td>\n",
       "      <td>0.0200</td>\n",
       "      <td>13.8000</td>\n",
       "      <td>16.0000</td>\n",
       "      <td>54.7400</td>\n",
       "      <td>0.3200</td>\n",
       "      <td>1</td>\n",
       "    </tr>\n",
       "    <tr>\n",
       "      <th>1</th>\n",
       "      <td>b</td>\n",
       "      <td>21.4000</td>\n",
       "      <td>24.8000</td>\n",
       "      <td>14.3000</td>\n",
       "      <td>0.7800</td>\n",
       "      <td>18.9000</td>\n",
       "      <td>11.3000</td>\n",
       "      <td>70.0000</td>\n",
       "      <td>41.1000</td>\n",
       "      <td>1</td>\n",
       "    </tr>\n",
       "    <tr>\n",
       "      <th>2</th>\n",
       "      <td>c</td>\n",
       "      <td>76.7500</td>\n",
       "      <td>92.9000</td>\n",
       "      <td>14.3000</td>\n",
       "      <td>0.2500</td>\n",
       "      <td>16.9000</td>\n",
       "      <td>11.3000</td>\n",
       "      <td>69.0000</td>\n",
       "      <td>20.0000</td>\n",
       "      <td>1</td>\n",
       "    </tr>\n",
       "    <tr>\n",
       "      <th>3</th>\n",
       "      <td>d</td>\n",
       "      <td>127.0000</td>\n",
       "      <td>131.0000</td>\n",
       "      <td>14.3000</td>\n",
       "      <td>0.7800</td>\n",
       "      <td>18.9000</td>\n",
       "      <td>11.3000</td>\n",
       "      <td>70.0000</td>\n",
       "      <td>41.1000</td>\n",
       "      <td>1</td>\n",
       "    </tr>\n",
       "    <tr>\n",
       "      <th>4</th>\n",
       "      <td>e</td>\n",
       "      <td>72.0000</td>\n",
       "      <td>73.5000</td>\n",
       "      <td>14.3000</td>\n",
       "      <td>0.7800</td>\n",
       "      <td>18.9000</td>\n",
       "      <td>11.3000</td>\n",
       "      <td>70.0000</td>\n",
       "      <td>41.1000</td>\n",
       "      <td>1</td>\n",
       "    </tr>\n",
       "  </tbody>\n",
       "</table>\n",
       "</div>"
      ],
      "text/plain": [
       "  Hole_Id  Depth_From  Depth_To  Bond Work Index  Abression Index  \\\n",
       "0       a     10.5000   18.0000          12.0000           0.0200   \n",
       "1       b     21.4000   24.8000          14.3000           0.7800   \n",
       "2       c     76.7500   92.9000          14.3000           0.2500   \n",
       "3       d    127.0000  131.0000          14.3000           0.7800   \n",
       "4       e     72.0000   73.5000          14.3000           0.7800   \n",
       "\n",
       "   Rodmill Index  Drop Weight index     RQD     AxB  target  \n",
       "0        13.8000            16.0000 54.7400  0.3200       1  \n",
       "1        18.9000            11.3000 70.0000 41.1000       1  \n",
       "2        16.9000            11.3000 69.0000 20.0000       1  \n",
       "3        18.9000            11.3000 70.0000 41.1000       1  \n",
       "4        18.9000            11.3000 70.0000 41.1000       1  "
      ]
     },
     "execution_count": 29,
     "metadata": {},
     "output_type": "execute_result"
    }
   ],
   "source": [
    "model = GaussianCopula(primary_key='Hole_Id',constraints=constraints,\n",
    "                      field_distributions={'RQD': 'beta'})\n",
    "model.fit(geo)\n",
    "new_data2 = model.sample(1122)\n",
    "new_data2.head()"
   ]
  },
  {
   "cell_type": "code",
   "execution_count": 30,
   "id": "4bf6b080",
   "metadata": {},
   "outputs": [
    {
     "data": {
      "text/plain": [
       "0.4898309395152636"
      ]
     },
     "execution_count": 30,
     "metadata": {},
     "output_type": "execute_result"
    }
   ],
   "source": [
    "from sdv.evaluation import evaluate\n",
    "\n",
    "evaluate(new_data2, geo)"
   ]
  },
  {
   "cell_type": "code",
   "execution_count": 31,
   "id": "c401c815",
   "metadata": {},
   "outputs": [
    {
     "name": "stdout",
     "output_type": "stream",
     "text": [
      "\n",
      "Classifier F1-scores and their Jaccard similarities::\n",
      "                             f1_real  f1_fake  jaccard_similarity\n",
      "index                                                            \n",
      "DecisionTreeClassifier_fake   0.2876   0.6405              0.1209\n",
      "DecisionTreeClassifier_real   1.0000   0.6863              0.5224\n",
      "LogisticRegression_fake       0.2810   0.7712              0.0408\n",
      "LogisticRegression_real       1.0000   0.8627              0.7586\n",
      "MLPClassifier_fake            0.2941   0.7582              0.0479\n",
      "MLPClassifier_real            0.9739   0.7255              0.5533\n",
      "RandomForestClassifier_fake   0.2876   0.7516              0.0699\n",
      "RandomForestClassifier_real   1.0000   0.7451              0.5938\n",
      "\n",
      "Privacy results:\n",
      "                                         result\n",
      "Duplicate rows between sets (real/fake)  (0, 0)\n",
      "nearest neighbor mean                    0.9910\n",
      "nearest neighbor std                     0.2110\n",
      "\n",
      "Miscellaneous results:\n",
      "                                  Result\n",
      "Column Correlation Distance RMSE  0.2323\n",
      "Column Correlation distance MAE   0.1627\n",
      "\n",
      "Results:\n",
      "                                                result\n",
      "Basic statistics                                0.9987\n",
      "Correlation column correlations                 0.8733\n",
      "Mean Correlation between fake and real columns  0.9591\n",
      "1 - MAPE Estimator results                      0.1095\n",
      "Similarity Score                                0.7352\n"
     ]
    }
   ],
   "source": [
    "from table_evaluator import load_data, TableEvaluator\n",
    "table_evaluator = TableEvaluator(geo, new_data2)\n",
    "table_evaluator.evaluate(target_col='target')"
   ]
  },
  {
   "cell_type": "code",
   "execution_count": 33,
   "id": "e68793c9",
   "metadata": {},
   "outputs": [],
   "source": [
    "table_evaluator.visual_evaluation()"
   ]
  },
  {
   "cell_type": "code",
   "execution_count": null,
   "id": "40bae4da",
   "metadata": {},
   "outputs": [],
   "source": []
  }
 ],
 "metadata": {
  "kernelspec": {
   "display_name": "Python 3 (ipykernel)",
   "language": "python",
   "name": "python3"
  },
  "language_info": {
   "codemirror_mode": {
    "name": "ipython",
    "version": 3
   },
   "file_extension": ".py",
   "mimetype": "text/x-python",
   "name": "python",
   "nbconvert_exporter": "python",
   "pygments_lexer": "ipython3",
   "version": "3.9.13"
  }
 },
 "nbformat": 4,
 "nbformat_minor": 5
}
