{
 "cells": [
  {
   "cell_type": "code",
   "execution_count": 1,
   "id": "bc6c2b03",
   "metadata": {},
   "outputs": [
    {
     "name": "stdout",
     "output_type": "stream",
     "text": [
      "Collecting sdv\n",
      "  Using cached sdv-0.18.0-py2.py3-none-any.whl (103 kB)\n",
      "Requirement already satisfied: tqdm<5,>=4.15 in c:\\users\\chaukt1\\anaconda3\\lib\\site-packages (from sdv) (4.64.1)\n",
      "Collecting deepecho<0.5,>=0.4.0\n",
      "  Using cached deepecho-0.4.0-py2.py3-none-any.whl (28 kB)\n",
      "Collecting ctgan<0.8,>=0.7.0\n",
      "  Using cached ctgan-0.7.1-py2.py3-none-any.whl (26 kB)\n",
      "Collecting rdt<2,>=1.3.0\n",
      "  Using cached rdt-1.3.0-py2.py3-none-any.whl (63 kB)\n",
      "Collecting graphviz<1,>=0.13.2\n",
      "  Using cached graphviz-0.20.1-py3-none-any.whl (47 kB)\n",
      "Collecting sdmetrics<0.10,>=0.9.0\n",
      "  Using cached sdmetrics-0.9.2-py2.py3-none-any.whl (140 kB)\n",
      "Requirement already satisfied: pandas<2,>=1.1.3 in c:\\users\\chaukt1\\anaconda3\\lib\\site-packages (from sdv) (1.4.4)\n",
      "Collecting cloudpickle<3.0,>=2.1.0\n",
      "  Using cached cloudpickle-2.2.1-py3-none-any.whl (25 kB)\n",
      "Requirement already satisfied: numpy<2,>=1.20.0 in c:\\users\\chaukt1\\anaconda3\\lib\\site-packages (from sdv) (1.21.5)\n",
      "Collecting Faker<15,>=10\n",
      "  Using cached Faker-14.2.1-py3-none-any.whl (1.6 MB)\n",
      "Collecting copulas<0.9,>=0.8.0\n",
      "  Using cached copulas-0.8.0-py2.py3-none-any.whl (53 kB)\n",
      "Requirement already satisfied: matplotlib<4,>=3.4.0 in c:\\users\\chaukt1\\anaconda3\\lib\\site-packages (from copulas<0.9,>=0.8.0->sdv) (3.5.2)\n",
      "Requirement already satisfied: scipy<2,>=1.5.4 in c:\\users\\chaukt1\\anaconda3\\lib\\site-packages (from copulas<0.9,>=0.8.0->sdv) (1.9.1)\n",
      "Collecting torch<2,>=1.8.0\n",
      "  Using cached torch-1.13.1-cp39-cp39-win_amd64.whl (162.5 MB)\n",
      "Requirement already satisfied: packaging<22,>=20 in c:\\users\\chaukt1\\anaconda3\\lib\\site-packages (from ctgan<0.8,>=0.7.0->sdv) (21.3)\n",
      "Requirement already satisfied: python-dateutil>=2.4 in c:\\users\\chaukt1\\anaconda3\\lib\\site-packages (from Faker<15,>=10->sdv) (2.8.2)\n",
      "Requirement already satisfied: pytz>=2020.1 in c:\\users\\chaukt1\\anaconda3\\lib\\site-packages (from pandas<2,>=1.1.3->sdv) (2022.1)\n",
      "Requirement already satisfied: scikit-learn<2,>=0.24 in c:\\users\\chaukt1\\anaconda3\\lib\\site-packages (from rdt<2,>=1.3.0->sdv) (1.0.2)\n",
      "Requirement already satisfied: psutil<6,>=5.7 in c:\\users\\chaukt1\\anaconda3\\lib\\site-packages (from rdt<2,>=1.3.0->sdv) (5.9.0)\n",
      "Collecting plotly<6,>=5.10.0\n",
      "  Using cached plotly-5.13.1-py2.py3-none-any.whl (15.2 MB)\n",
      "Requirement already satisfied: colorama in c:\\users\\chaukt1\\anaconda3\\lib\\site-packages (from tqdm<5,>=4.15->sdv) (0.4.5)\n",
      "Requirement already satisfied: fonttools>=4.22.0 in c:\\users\\chaukt1\\anaconda3\\lib\\site-packages (from matplotlib<4,>=3.4.0->copulas<0.9,>=0.8.0->sdv) (4.25.0)\n",
      "Requirement already satisfied: kiwisolver>=1.0.1 in c:\\users\\chaukt1\\anaconda3\\lib\\site-packages (from matplotlib<4,>=3.4.0->copulas<0.9,>=0.8.0->sdv) (1.4.2)\n",
      "Requirement already satisfied: pillow>=6.2.0 in c:\\users\\chaukt1\\anaconda3\\lib\\site-packages (from matplotlib<4,>=3.4.0->copulas<0.9,>=0.8.0->sdv) (9.2.0)\n",
      "Requirement already satisfied: cycler>=0.10 in c:\\users\\chaukt1\\anaconda3\\lib\\site-packages (from matplotlib<4,>=3.4.0->copulas<0.9,>=0.8.0->sdv) (0.11.0)\n",
      "Requirement already satisfied: pyparsing>=2.2.1 in c:\\users\\chaukt1\\anaconda3\\lib\\site-packages (from matplotlib<4,>=3.4.0->copulas<0.9,>=0.8.0->sdv) (3.0.9)\n",
      "Requirement already satisfied: tenacity>=6.2.0 in c:\\users\\chaukt1\\anaconda3\\lib\\site-packages (from plotly<6,>=5.10.0->sdmetrics<0.10,>=0.9.0->sdv) (8.0.1)\n",
      "Requirement already satisfied: six>=1.5 in c:\\users\\chaukt1\\anaconda3\\lib\\site-packages (from python-dateutil>=2.4->Faker<15,>=10->sdv) (1.16.0)\n",
      "Requirement already satisfied: threadpoolctl>=2.0.0 in c:\\users\\chaukt1\\anaconda3\\lib\\site-packages (from scikit-learn<2,>=0.24->rdt<2,>=1.3.0->sdv) (2.2.0)\n",
      "Requirement already satisfied: joblib>=0.11 in c:\\users\\chaukt1\\anaconda3\\lib\\site-packages (from scikit-learn<2,>=0.24->rdt<2,>=1.3.0->sdv) (1.1.0)\n",
      "Requirement already satisfied: typing-extensions in c:\\users\\chaukt1\\anaconda3\\lib\\site-packages (from torch<2,>=1.8.0->ctgan<0.8,>=0.7.0->sdv) (4.3.0)\n",
      "Installing collected packages: torch, plotly, graphviz, cloudpickle, Faker, rdt, deepecho, copulas, sdmetrics, ctgan, sdv\n",
      "  Attempting uninstall: plotly\n",
      "    Found existing installation: plotly 5.9.0\n",
      "    Uninstalling plotly-5.9.0:\n",
      "      Successfully uninstalled plotly-5.9.0\n",
      "  Attempting uninstall: cloudpickle\n",
      "    Found existing installation: cloudpickle 2.0.0\n",
      "    Uninstalling cloudpickle-2.0.0:\n",
      "      Successfully uninstalled cloudpickle-2.0.0\n",
      "Successfully installed Faker-14.2.1 cloudpickle-2.2.1 copulas-0.8.0 ctgan-0.7.1 deepecho-0.4.0 graphviz-0.20.1 plotly-5.13.1 rdt-1.3.0 sdmetrics-0.9.2 sdv-0.18.0 torch-1.13.1\n",
      "Note: you may need to restart the kernel to use updated packages.\n"
     ]
    },
    {
     "name": "stderr",
     "output_type": "stream",
     "text": [
      "ERROR: pip's dependency resolver does not currently take into account all the packages that are installed. This behaviour is the source of the following dependency conflicts.\n",
      "spyder 5.2.2 requires pyqt5<5.13, which is not installed.\n",
      "spyder 5.2.2 requires pyqtwebengine<5.13, which is not installed.\n"
     ]
    }
   ],
   "source": [
    "pip install sdv"
   ]
  },
  {
   "cell_type": "code",
   "execution_count": 1,
   "id": "98fef3ac",
   "metadata": {},
   "outputs": [
    {
     "name": "stdout",
     "output_type": "stream",
     "text": [
      "Collecting table_evaluator\n",
      "  Using cached table_evaluator-1.5.0-py3-none-any.whl (22 kB)\n",
      "Requirement already satisfied: scikit-learn in c:\\users\\chaukt1\\anaconda3\\lib\\site-packages (from table_evaluator) (1.0.2)\n",
      "Requirement already satisfied: psutil in c:\\users\\chaukt1\\anaconda3\\lib\\site-packages (from table_evaluator) (5.9.0)\n",
      "Requirement already satisfied: scipy in c:\\users\\chaukt1\\anaconda3\\lib\\site-packages (from table_evaluator) (1.9.1)\n",
      "Requirement already satisfied: tqdm in c:\\users\\chaukt1\\anaconda3\\lib\\site-packages (from table_evaluator) (4.64.1)\n",
      "Collecting dython==0.7.3\n",
      "  Using cached dython-0.7.3-py3-none-any.whl (23 kB)\n",
      "Requirement already satisfied: matplotlib in c:\\users\\chaukt1\\anaconda3\\lib\\site-packages (from table_evaluator) (3.5.2)\n",
      "Collecting seaborn<=0.11.1\n",
      "  Using cached seaborn-0.11.1-py3-none-any.whl (285 kB)\n",
      "Collecting pandas==1.5.*\n",
      "  Using cached pandas-1.5.3-cp39-cp39-win_amd64.whl (10.9 MB)\n",
      "Requirement already satisfied: numpy in c:\\users\\chaukt1\\anaconda3\\lib\\site-packages (from table_evaluator) (1.21.5)\n",
      "Collecting numpy\n",
      "  Downloading numpy-1.24.2-cp39-cp39-win_amd64.whl (14.9 MB)\n",
      "     ---------------------------------------- 14.9/14.9 MB 9.9 MB/s eta 0:00:00\n",
      "INFO: pip is looking at multiple versions of table-evaluator to determine which version is compatible with other requirements. This could take a while.\n",
      "Collecting table_evaluator\n",
      "  Using cached table_evaluator-1.4.2-py3-none-any.whl (20 kB)\n",
      "Requirement already satisfied: pandas in c:\\users\\chaukt1\\anaconda3\\lib\\site-packages (from table_evaluator) (1.4.4)\n",
      "Collecting dython==0.5.1\n",
      "  Using cached dython-0.5.1-py3-none-any.whl (14 kB)\n",
      "Requirement already satisfied: packaging>=20.0 in c:\\users\\chaukt1\\anaconda3\\lib\\site-packages (from matplotlib->table_evaluator) (21.3)\n",
      "Requirement already satisfied: kiwisolver>=1.0.1 in c:\\users\\chaukt1\\anaconda3\\lib\\site-packages (from matplotlib->table_evaluator) (1.4.2)\n",
      "Requirement already satisfied: python-dateutil>=2.7 in c:\\users\\chaukt1\\anaconda3\\lib\\site-packages (from matplotlib->table_evaluator) (2.8.2)\n",
      "Requirement already satisfied: cycler>=0.10 in c:\\users\\chaukt1\\anaconda3\\lib\\site-packages (from matplotlib->table_evaluator) (0.11.0)\n",
      "Requirement already satisfied: pyparsing>=2.2.1 in c:\\users\\chaukt1\\anaconda3\\lib\\site-packages (from matplotlib->table_evaluator) (3.0.9)\n",
      "Requirement already satisfied: pillow>=6.2.0 in c:\\users\\chaukt1\\anaconda3\\lib\\site-packages (from matplotlib->table_evaluator) (9.2.0)\n",
      "Requirement already satisfied: fonttools>=4.22.0 in c:\\users\\chaukt1\\anaconda3\\lib\\site-packages (from matplotlib->table_evaluator) (4.25.0)\n",
      "Requirement already satisfied: pytz>=2020.1 in c:\\users\\chaukt1\\anaconda3\\lib\\site-packages (from pandas->table_evaluator) (2022.1)\n",
      "Requirement already satisfied: threadpoolctl>=2.0.0 in c:\\users\\chaukt1\\anaconda3\\lib\\site-packages (from scikit-learn->table_evaluator) (2.2.0)\n",
      "Requirement already satisfied: joblib>=0.11 in c:\\users\\chaukt1\\anaconda3\\lib\\site-packages (from scikit-learn->table_evaluator) (1.1.0)\n",
      "Requirement already satisfied: colorama in c:\\users\\chaukt1\\anaconda3\\lib\\site-packages (from tqdm->table_evaluator) (0.4.5)\n",
      "Requirement already satisfied: six>=1.5 in c:\\users\\chaukt1\\anaconda3\\lib\\site-packages (from python-dateutil>=2.7->matplotlib->table_evaluator) (1.16.0)\n",
      "Installing collected packages: seaborn, dython, table_evaluator\n",
      "  Attempting uninstall: seaborn\n",
      "    Found existing installation: seaborn 0.11.2\n",
      "    Uninstalling seaborn-0.11.2:\n",
      "      Successfully uninstalled seaborn-0.11.2\n",
      "Successfully installed dython-0.5.1 seaborn-0.11.1 table_evaluator-1.4.2\n",
      "Note: you may need to restart the kernel to use updated packages.\n"
     ]
    }
   ],
   "source": [
    "pip install table_evaluator"
   ]
  },
  {
   "cell_type": "code",
   "execution_count": null,
   "id": "d1ecabfa",
   "metadata": {},
   "outputs": [],
   "source": []
  }
 ],
 "metadata": {
  "kernelspec": {
   "display_name": "Python 3 (ipykernel)",
   "language": "python",
   "name": "python3"
  },
  "language_info": {
   "codemirror_mode": {
    "name": "ipython",
    "version": 3
   },
   "file_extension": ".py",
   "mimetype": "text/x-python",
   "name": "python",
   "nbconvert_exporter": "python",
   "pygments_lexer": "ipython3",
   "version": "3.9.13"
  }
 },
 "nbformat": 4,
 "nbformat_minor": 5
}
