{
 "cells": [
  {
   "cell_type": "code",
   "execution_count": 1,
   "id": "7c9201d2",
   "metadata": {},
   "outputs": [],
   "source": [
    "import os\n",
    "import numpy as np\n",
    "import pandas as pd\n",
    "from matplotlib import pyplot as plt\n",
    "%matplotlib inline\n",
    "import seaborn as sns\n",
    "import warnings\n",
    "warnings.filterwarnings(\"ignore\")\n",
    "%matplotlib qt"
   ]
  },
  {
   "cell_type": "code",
   "execution_count": 2,
   "id": "e1a361d5",
   "metadata": {},
   "outputs": [],
   "source": [
    "survey = pd.read_csv(\"C:/Users/TIYANI/Videos/Final/Survey.csv\")"
   ]
  },
  {
   "cell_type": "code",
   "execution_count": 3,
   "id": "d4bd8ba5",
   "metadata": {},
   "outputs": [
    {
     "data": {
      "text/html": [
       "<div>\n",
       "<style scoped>\n",
       "    .dataframe tbody tr th:only-of-type {\n",
       "        vertical-align: middle;\n",
       "    }\n",
       "\n",
       "    .dataframe tbody tr th {\n",
       "        vertical-align: top;\n",
       "    }\n",
       "\n",
       "    .dataframe thead th {\n",
       "        text-align: right;\n",
       "    }\n",
       "</style>\n",
       "<table border=\"1\" class=\"dataframe\">\n",
       "  <thead>\n",
       "    <tr style=\"text-align: right;\">\n",
       "      <th></th>\n",
       "      <th>Hole_Id</th>\n",
       "      <th>Depth</th>\n",
       "      <th>Azimuth</th>\n",
       "      <th>Dip</th>\n",
       "      <th>target</th>\n",
       "    </tr>\n",
       "  </thead>\n",
       "  <tbody>\n",
       "    <tr>\n",
       "      <th>0</th>\n",
       "      <td>KRED207</td>\n",
       "      <td>0.0</td>\n",
       "      <td>128.9</td>\n",
       "      <td>-60.0</td>\n",
       "      <td>1</td>\n",
       "    </tr>\n",
       "    <tr>\n",
       "      <th>1</th>\n",
       "      <td>KRED207</td>\n",
       "      <td>50.0</td>\n",
       "      <td>128.9</td>\n",
       "      <td>-60.0</td>\n",
       "      <td>1</td>\n",
       "    </tr>\n",
       "    <tr>\n",
       "      <th>2</th>\n",
       "      <td>KRED207</td>\n",
       "      <td>104.0</td>\n",
       "      <td>127.9</td>\n",
       "      <td>-59.0</td>\n",
       "      <td>1</td>\n",
       "    </tr>\n",
       "    <tr>\n",
       "      <th>3</th>\n",
       "      <td>KRED209</td>\n",
       "      <td>0.0</td>\n",
       "      <td>121.6</td>\n",
       "      <td>-57.5</td>\n",
       "      <td>1</td>\n",
       "    </tr>\n",
       "    <tr>\n",
       "      <th>4</th>\n",
       "      <td>KRED209</td>\n",
       "      <td>50.0</td>\n",
       "      <td>121.6</td>\n",
       "      <td>-57.5</td>\n",
       "      <td>1</td>\n",
       "    </tr>\n",
       "  </tbody>\n",
       "</table>\n",
       "</div>"
      ],
      "text/plain": [
       "   Hole_Id  Depth  Azimuth   Dip  target\n",
       "0  KRED207    0.0    128.9 -60.0       1\n",
       "1  KRED207   50.0    128.9 -60.0       1\n",
       "2  KRED207  104.0    127.9 -59.0       1\n",
       "3  KRED209    0.0    121.6 -57.5       1\n",
       "4  KRED209   50.0    121.6 -57.5       1"
      ]
     },
     "execution_count": 3,
     "metadata": {},
     "output_type": "execute_result"
    }
   ],
   "source": [
    "survey.head()"
   ]
  },
  {
   "cell_type": "code",
   "execution_count": 4,
   "id": "3a3a66ea",
   "metadata": {},
   "outputs": [
    {
     "data": {
      "text/plain": [
       "(278, 5)"
      ]
     },
     "execution_count": 4,
     "metadata": {},
     "output_type": "execute_result"
    }
   ],
   "source": [
    "survey.shape"
   ]
  },
  {
   "cell_type": "code",
   "execution_count": 5,
   "id": "2c3a163f",
   "metadata": {},
   "outputs": [
    {
     "data": {
      "text/plain": [
       "Hole_Id     object\n",
       "Depth      float64\n",
       "Azimuth    float64\n",
       "Dip        float64\n",
       "target       int64\n",
       "dtype: object"
      ]
     },
     "execution_count": 5,
     "metadata": {},
     "output_type": "execute_result"
    }
   ],
   "source": [
    "survey.dtypes"
   ]
  },
  {
   "cell_type": "code",
   "execution_count": 6,
   "id": "7bf2fc97",
   "metadata": {},
   "outputs": [
    {
     "data": {
      "text/plain": [
       "Hole_Id    False\n",
       "Depth      False\n",
       "Azimuth    False\n",
       "Dip        False\n",
       "target     False\n",
       "dtype: bool"
      ]
     },
     "execution_count": 6,
     "metadata": {},
     "output_type": "execute_result"
    }
   ],
   "source": [
    "survey.isna().any()"
   ]
  },
  {
   "cell_type": "code",
   "execution_count": 8,
   "id": "86524f75",
   "metadata": {},
   "outputs": [
    {
     "data": {
      "text/plain": [
       "Index(['Hole_Id', 'Depth', 'Azimuth', 'Dip', 'target'], dtype='object')"
      ]
     },
     "execution_count": 8,
     "metadata": {},
     "output_type": "execute_result"
    }
   ],
   "source": [
    "survey.columns"
   ]
  },
  {
   "cell_type": "code",
   "execution_count": 7,
   "id": "bc03c07e",
   "metadata": {},
   "outputs": [],
   "source": [
    "from sdv.constraints import FixedCombinations"
   ]
  },
  {
   "cell_type": "code",
   "execution_count": 9,
   "id": "83df9251",
   "metadata": {},
   "outputs": [],
   "source": [
    "Location = FixedCombinations(column_names=['Depth', 'Azimuth','Dip'])"
   ]
  },
  {
   "cell_type": "code",
   "execution_count": 10,
   "id": "79984230",
   "metadata": {},
   "outputs": [],
   "source": [
    "from sdv.constraints import Negative\n",
    "dip= Negative(column_name='Dip')"
   ]
  },
  {
   "cell_type": "code",
   "execution_count": 11,
   "id": "d4cd86d2",
   "metadata": {},
   "outputs": [],
   "source": [
    "constraints = [Location, dip]"
   ]
  },
  {
   "cell_type": "code",
   "execution_count": 12,
   "id": "96d425ae",
   "metadata": {},
   "outputs": [],
   "source": [
    "from sdv.tabular import CTGAN"
   ]
  },
  {
   "cell_type": "code",
   "execution_count": 13,
   "id": "8a489a91",
   "metadata": {},
   "outputs": [
    {
     "name": "stdout",
     "output_type": "stream",
     "text": [
      "Epoch 1, Loss G:  5.7164,Loss D: -0.0009\n",
      "Epoch 2, Loss G:  5.7386,Loss D: -0.0008\n",
      "Epoch 3, Loss G:  5.7175,Loss D: -0.0054\n",
      "Epoch 4, Loss G:  5.6885,Loss D: -0.0015\n",
      "Epoch 5, Loss G:  5.6748,Loss D: -0.0047\n",
      "Epoch 6, Loss G:  5.6680,Loss D: -0.0044\n",
      "Epoch 7, Loss G:  5.6644,Loss D: -0.0023\n",
      "Epoch 8, Loss G:  5.6697,Loss D: -0.0006\n",
      "Epoch 9, Loss G:  5.6439,Loss D:  0.0048\n",
      "Epoch 10, Loss G:  5.6355,Loss D:  0.0054\n",
      "Epoch 11, Loss G:  5.6265,Loss D:  0.0045\n",
      "Epoch 12, Loss G:  5.6175,Loss D: -0.0044\n",
      "Epoch 13, Loss G:  5.6187,Loss D: -0.0033\n",
      "Epoch 14, Loss G:  5.6005,Loss D: -0.0055\n",
      "Epoch 15, Loss G:  5.5847,Loss D: -0.0073\n",
      "Epoch 16, Loss G:  5.6109,Loss D:  0.0062\n",
      "Epoch 17, Loss G:  5.5736,Loss D:  0.0024\n",
      "Epoch 18, Loss G:  5.5602,Loss D:  0.0041\n",
      "Epoch 19, Loss G:  5.5346,Loss D:  0.0207\n",
      "Epoch 20, Loss G:  5.5622,Loss D:  0.0230\n",
      "Epoch 21, Loss G:  5.5367,Loss D:  0.0275\n",
      "Epoch 22, Loss G:  5.5424,Loss D:  0.0324\n",
      "Epoch 23, Loss G:  5.5390,Loss D:  0.0247\n",
      "Epoch 24, Loss G:  5.5286,Loss D:  0.0295\n",
      "Epoch 25, Loss G:  5.5287,Loss D: -0.0038\n",
      "Epoch 26, Loss G:  5.5230,Loss D:  0.0025\n",
      "Epoch 27, Loss G:  5.5341,Loss D:  0.0189\n",
      "Epoch 28, Loss G:  5.5189,Loss D:  0.0191\n",
      "Epoch 29, Loss G:  5.5295,Loss D: -0.0140\n",
      "Epoch 30, Loss G:  5.5376,Loss D: -0.0185\n",
      "Epoch 31, Loss G:  5.5652,Loss D:  0.0001\n",
      "Epoch 32, Loss G:  5.5386,Loss D: -0.0131\n",
      "Epoch 33, Loss G:  5.5508,Loss D: -0.0161\n",
      "Epoch 34, Loss G:  5.5414,Loss D: -0.0383\n",
      "Epoch 35, Loss G:  5.5452,Loss D: -0.0393\n",
      "Epoch 36, Loss G:  5.5586,Loss D: -0.0469\n",
      "Epoch 37, Loss G:  5.5140,Loss D: -0.0197\n",
      "Epoch 38, Loss G:  5.5245,Loss D: -0.0169\n",
      "Epoch 39, Loss G:  5.5104,Loss D: -0.0114\n",
      "Epoch 40, Loss G:  5.5014,Loss D: -0.0222\n",
      "Epoch 41, Loss G:  5.4674,Loss D:  0.0038\n",
      "Epoch 42, Loss G:  5.4852,Loss D:  0.0142\n",
      "Epoch 43, Loss G:  5.4712,Loss D:  0.0147\n",
      "Epoch 44, Loss G:  5.4474,Loss D:  0.0342\n",
      "Epoch 45, Loss G:  5.4309,Loss D:  0.0505\n",
      "Epoch 46, Loss G:  5.4378,Loss D:  0.0517\n",
      "Epoch 47, Loss G:  5.4264,Loss D:  0.0412\n",
      "Epoch 48, Loss G:  5.4265,Loss D:  0.0384\n",
      "Epoch 49, Loss G:  5.4218,Loss D:  0.0211\n",
      "Epoch 50, Loss G:  5.4398,Loss D:  0.0201\n",
      "Epoch 51, Loss G:  5.4146,Loss D:  0.0195\n",
      "Epoch 52, Loss G:  5.4327,Loss D:  0.0094\n",
      "Epoch 53, Loss G:  5.4203,Loss D:  0.0007\n",
      "Epoch 54, Loss G:  5.4485,Loss D: -0.0154\n",
      "Epoch 55, Loss G:  5.4356,Loss D: -0.0182\n",
      "Epoch 56, Loss G:  5.4203,Loss D: -0.0555\n",
      "Epoch 57, Loss G:  5.4173,Loss D: -0.0362\n",
      "Epoch 58, Loss G:  5.4021,Loss D: -0.0504\n",
      "Epoch 59, Loss G:  5.3850,Loss D: -0.0491\n",
      "Epoch 60, Loss G:  5.3960,Loss D: -0.0341\n",
      "Epoch 61, Loss G:  5.3883,Loss D: -0.0325\n",
      "Epoch 62, Loss G:  5.3694,Loss D: -0.0291\n",
      "Epoch 63, Loss G:  5.3313,Loss D: -0.0121\n",
      "Epoch 64, Loss G:  5.3308,Loss D:  0.0096\n",
      "Epoch 65, Loss G:  5.2921,Loss D:  0.0060\n",
      "Epoch 66, Loss G:  5.2850,Loss D:  0.0076\n",
      "Epoch 67, Loss G:  5.3039,Loss D: -0.0027\n",
      "Epoch 68, Loss G:  5.2715,Loss D:  0.0455\n",
      "Epoch 69, Loss G:  5.2489,Loss D:  0.0291\n",
      "Epoch 70, Loss G:  5.2539,Loss D:  0.0370\n",
      "Epoch 71, Loss G:  5.2665,Loss D:  0.0149\n",
      "Epoch 72, Loss G:  5.2484,Loss D:  0.0419\n",
      "Epoch 73, Loss G:  5.2590,Loss D:  0.0067\n",
      "Epoch 74, Loss G:  5.2467,Loss D:  0.0229\n",
      "Epoch 75, Loss G:  5.2545,Loss D:  0.0098\n",
      "Epoch 76, Loss G:  5.2347,Loss D:  0.0013\n",
      "Epoch 77, Loss G:  5.2969,Loss D:  0.0152\n",
      "Epoch 78, Loss G:  5.2440,Loss D: -0.0147\n",
      "Epoch 79, Loss G:  5.2752,Loss D: -0.0119\n",
      "Epoch 80, Loss G:  5.2385,Loss D: -0.0233\n",
      "Epoch 81, Loss G:  5.2579,Loss D: -0.0224\n",
      "Epoch 82, Loss G:  5.2553,Loss D: -0.0164\n",
      "Epoch 83, Loss G:  5.2442,Loss D: -0.0032\n",
      "Epoch 84, Loss G:  5.2277,Loss D: -0.0241\n",
      "Epoch 85, Loss G:  5.2286,Loss D:  0.0036\n",
      "Epoch 86, Loss G:  5.1886,Loss D:  0.0111\n",
      "Epoch 87, Loss G:  5.1956,Loss D:  0.0108\n",
      "Epoch 88, Loss G:  5.1969,Loss D:  0.0317\n",
      "Epoch 89, Loss G:  5.2025,Loss D:  0.0110\n",
      "Epoch 90, Loss G:  5.1785,Loss D:  0.0075\n",
      "Epoch 91, Loss G:  5.1671,Loss D:  0.0168\n",
      "Epoch 92, Loss G:  5.2000,Loss D:  0.0402\n",
      "Epoch 93, Loss G:  5.1742,Loss D:  0.0191\n",
      "Epoch 94, Loss G:  5.1717,Loss D:  0.0232\n",
      "Epoch 95, Loss G:  5.1909,Loss D:  0.0007\n",
      "Epoch 96, Loss G:  5.1936,Loss D:  0.0032\n",
      "Epoch 97, Loss G:  5.1824,Loss D: -0.0152\n",
      "Epoch 98, Loss G:  5.1992,Loss D: -0.0224\n",
      "Epoch 99, Loss G:  5.1965,Loss D: -0.0185\n",
      "Epoch 100, Loss G:  5.1968,Loss D: -0.0268\n"
     ]
    }
   ],
   "source": [
    "batch_size = 1000\n",
    "epochs = 100\n",
    "\n",
    "model = CTGAN(primary_key='Hole_Id',constraints=constraints, generator_dim=(257, 257, 257),\n",
    "              discriminator_dim=(257, 257, 257), batch_size=batch_size, epochs=epochs, verbose=True)\n",
    "model.fit(survey)"
   ]
  },
  {
   "cell_type": "code",
   "execution_count": 14,
   "id": "b6e22177",
   "metadata": {},
   "outputs": [
    {
     "name": "stderr",
     "output_type": "stream",
     "text": [
      "Sampling rows: 100%|██████████| 278/278 [00:00<00:00, 3123.34it/s]\n"
     ]
    }
   ],
   "source": [
    "n_generated_data = 278\n",
    "new_survey = model.sample(n_generated_data)"
   ]
  },
  {
   "cell_type": "code",
   "execution_count": 15,
   "id": "2a668778",
   "metadata": {},
   "outputs": [],
   "source": [
    "from sdv.evaluation import evaluate"
   ]
  },
  {
   "cell_type": "code",
   "execution_count": 16,
   "id": "79e6fc9a",
   "metadata": {},
   "outputs": [
    {
     "data": {
      "text/plain": [
       "0.47796762589928055"
      ]
     },
     "execution_count": 16,
     "metadata": {},
     "output_type": "execute_result"
    }
   ],
   "source": [
    "from sdv.evaluation import evaluate\n",
    "\n",
    "evaluate(new_survey, survey)"
   ]
  },
  {
   "cell_type": "code",
   "execution_count": 17,
   "id": "c147dc13",
   "metadata": {},
   "outputs": [],
   "source": [
    "from table_evaluator import load_data, TableEvaluator"
   ]
  },
  {
   "cell_type": "code",
   "execution_count": 18,
   "id": "80c5f6b8",
   "metadata": {},
   "outputs": [
    {
     "name": "stdout",
     "output_type": "stream",
     "text": [
      "\n",
      "Classifier F1-scores and their Jaccard similarities::\n",
      "                             f1_real  f1_fake  jaccard_similarity\n",
      "index                                                            \n",
      "DecisionTreeClassifier_fake   0.4286   0.6607              0.2308\n",
      "DecisionTreeClassifier_real   1.0000   0.4643              0.3023\n",
      "LogisticRegression_fake       0.4286   0.8571              0.1667\n",
      "LogisticRegression_real       0.9821   0.6786              0.5342\n",
      "MLPClassifier_fake            0.4107   0.8393              0.1429\n",
      "MLPClassifier_real            0.9821   0.6250              0.4737\n",
      "RandomForestClassifier_fake   0.4286   0.7857              0.1915\n",
      "RandomForestClassifier_real   0.9821   0.6071              0.4545\n",
      "\n",
      "Privacy results:\n",
      "                                         result\n",
      "Duplicate rows between sets (real/fake)  (0, 0)\n",
      "nearest neighbor mean                    1.0220\n",
      "nearest neighbor std                     0.1147\n",
      "\n",
      "Miscellaneous results:\n",
      "                                  Result\n",
      "Column Correlation Distance RMSE  0.1931\n",
      "Column Correlation distance MAE   0.1019\n",
      "\n",
      "Results:\n",
      "                                                result\n",
      "Basic statistics                                0.9882\n",
      "Correlation column correlations                 0.9008\n",
      "Mean Correlation between fake and real columns  0.9677\n",
      "1 - MAPE Estimator results                      0.3739\n",
      "Similarity Score                                0.8077\n"
     ]
    }
   ],
   "source": [
    "from table_evaluator import load_data, TableEvaluator\n",
    "table_evaluator = TableEvaluator(survey, new_survey)\n",
    "table_evaluator.evaluate(target_col='target')"
   ]
  },
  {
   "cell_type": "code",
   "execution_count": 19,
   "id": "99df441a",
   "metadata": {},
   "outputs": [],
   "source": [
    "table_evaluator.visual_evaluation()"
   ]
  },
  {
   "cell_type": "code",
   "execution_count": 20,
   "id": "a2baea35",
   "metadata": {},
   "outputs": [],
   "source": [
    "from sdv.tabular import CopulaGAN"
   ]
  },
  {
   "cell_type": "code",
   "execution_count": 21,
   "id": "61480a25",
   "metadata": {},
   "outputs": [
    {
     "name": "stdout",
     "output_type": "stream",
     "text": [
      "Epoch 1, Loss G:  5.7567,Loss D: -0.0016\n",
      "Epoch 2, Loss G:  5.7461,Loss D:  0.0036\n",
      "Epoch 3, Loss G:  5.7244,Loss D:  0.0014\n",
      "Epoch 4, Loss G:  5.7226,Loss D: -0.0031\n",
      "Epoch 5, Loss G:  5.7086,Loss D: -0.0029\n",
      "Epoch 6, Loss G:  5.7061,Loss D: -0.0017\n",
      "Epoch 7, Loss G:  5.7130,Loss D: -0.0037\n",
      "Epoch 8, Loss G:  5.7004,Loss D:  0.0010\n",
      "Epoch 9, Loss G:  5.6734,Loss D: -0.0034\n",
      "Epoch 10, Loss G:  5.6725,Loss D:  0.0034\n",
      "Epoch 11, Loss G:  5.6448,Loss D:  0.0013\n",
      "Epoch 12, Loss G:  5.6354,Loss D:  0.0089\n",
      "Epoch 13, Loss G:  5.6645,Loss D:  0.0071\n",
      "Epoch 14, Loss G:  5.6513,Loss D:  0.0066\n",
      "Epoch 15, Loss G:  5.6288,Loss D:  0.0058\n",
      "Epoch 16, Loss G:  5.6374,Loss D:  0.0082\n",
      "Epoch 17, Loss G:  5.6257,Loss D:  0.0033\n",
      "Epoch 18, Loss G:  5.6396,Loss D:  0.0033\n",
      "Epoch 19, Loss G:  5.6334,Loss D:  0.0016\n",
      "Epoch 20, Loss G:  5.6055,Loss D:  0.0109\n",
      "Epoch 21, Loss G:  5.6014,Loss D:  0.0197\n",
      "Epoch 22, Loss G:  5.6086,Loss D: -0.0022\n",
      "Epoch 23, Loss G:  5.5892,Loss D:  0.0221\n",
      "Epoch 24, Loss G:  5.6095,Loss D:  0.0164\n",
      "Epoch 25, Loss G:  5.5876,Loss D:  0.0127\n",
      "Epoch 26, Loss G:  5.5935,Loss D:  0.0003\n",
      "Epoch 27, Loss G:  5.6178,Loss D: -0.0009\n",
      "Epoch 28, Loss G:  5.6133,Loss D: -0.0063\n",
      "Epoch 29, Loss G:  5.6109,Loss D: -0.0099\n",
      "Epoch 30, Loss G:  5.6131,Loss D: -0.0144\n",
      "Epoch 31, Loss G:  5.5939,Loss D: -0.0197\n",
      "Epoch 32, Loss G:  5.6098,Loss D: -0.0378\n",
      "Epoch 33, Loss G:  5.6026,Loss D: -0.0236\n",
      "Epoch 34, Loss G:  5.5909,Loss D: -0.0240\n",
      "Epoch 35, Loss G:  5.5777,Loss D: -0.0020\n",
      "Epoch 36, Loss G:  5.5420,Loss D: -0.0072\n",
      "Epoch 37, Loss G:  5.5464,Loss D:  0.0013\n",
      "Epoch 38, Loss G:  5.5089,Loss D:  0.0161\n",
      "Epoch 39, Loss G:  5.5036,Loss D:  0.0457\n",
      "Epoch 40, Loss G:  5.4752,Loss D:  0.0484\n",
      "Epoch 41, Loss G:  5.4858,Loss D:  0.0395\n",
      "Epoch 42, Loss G:  5.4717,Loss D:  0.0633\n",
      "Epoch 43, Loss G:  5.4711,Loss D:  0.0421\n",
      "Epoch 44, Loss G:  5.4589,Loss D:  0.0488\n",
      "Epoch 45, Loss G:  5.4576,Loss D:  0.0355\n",
      "Epoch 46, Loss G:  5.4594,Loss D:  0.0247\n",
      "Epoch 47, Loss G:  5.4729,Loss D:  0.0005\n",
      "Epoch 48, Loss G:  5.4741,Loss D: -0.0025\n",
      "Epoch 49, Loss G:  5.4727,Loss D: -0.0189\n",
      "Epoch 50, Loss G:  5.4538,Loss D: -0.0181\n",
      "Epoch 51, Loss G:  5.4706,Loss D: -0.0404\n",
      "Epoch 52, Loss G:  5.4630,Loss D: -0.0505\n",
      "Epoch 53, Loss G:  5.4700,Loss D: -0.0476\n",
      "Epoch 54, Loss G:  5.4506,Loss D: -0.0486\n",
      "Epoch 55, Loss G:  5.4369,Loss D: -0.0560\n",
      "Epoch 56, Loss G:  5.4336,Loss D: -0.0392\n",
      "Epoch 57, Loss G:  5.4120,Loss D: -0.0207\n",
      "Epoch 58, Loss G:  5.3814,Loss D: -0.0178\n",
      "Epoch 59, Loss G:  5.3405,Loss D: -0.0119\n",
      "Epoch 60, Loss G:  5.3400,Loss D:  0.0096\n",
      "Epoch 61, Loss G:  5.3200,Loss D:  0.0131\n",
      "Epoch 62, Loss G:  5.2981,Loss D:  0.0181\n",
      "Epoch 63, Loss G:  5.2876,Loss D:  0.0378\n",
      "Epoch 64, Loss G:  5.2920,Loss D:  0.0416\n",
      "Epoch 65, Loss G:  5.3000,Loss D:  0.0351\n",
      "Epoch 66, Loss G:  5.2628,Loss D:  0.0308\n",
      "Epoch 67, Loss G:  5.2731,Loss D:  0.0409\n",
      "Epoch 68, Loss G:  5.2704,Loss D:  0.0423\n",
      "Epoch 69, Loss G:  5.2826,Loss D:  0.0387\n",
      "Epoch 70, Loss G:  5.2709,Loss D:  0.0212\n",
      "Epoch 71, Loss G:  5.2703,Loss D:  0.0095\n",
      "Epoch 72, Loss G:  5.2897,Loss D:  0.0075\n",
      "Epoch 73, Loss G:  5.2773,Loss D:  0.0017\n",
      "Epoch 74, Loss G:  5.2720,Loss D: -0.0237\n",
      "Epoch 75, Loss G:  5.2826,Loss D: -0.0174\n",
      "Epoch 76, Loss G:  5.2702,Loss D: -0.0328\n",
      "Epoch 77, Loss G:  5.2809,Loss D: -0.0416\n",
      "Epoch 78, Loss G:  5.2847,Loss D: -0.0462\n",
      "Epoch 79, Loss G:  5.2767,Loss D: -0.0316\n",
      "Epoch 80, Loss G:  5.2545,Loss D: -0.0362\n",
      "Epoch 81, Loss G:  5.2507,Loss D: -0.0285\n",
      "Epoch 82, Loss G:  5.2273,Loss D: -0.0110\n",
      "Epoch 83, Loss G:  5.2323,Loss D: -0.0147\n",
      "Epoch 84, Loss G:  5.2168,Loss D: -0.0077\n",
      "Epoch 85, Loss G:  5.1890,Loss D: -0.0003\n",
      "Epoch 86, Loss G:  5.1819,Loss D:  0.0139\n",
      "Epoch 87, Loss G:  5.1788,Loss D:  0.0231\n",
      "Epoch 88, Loss G:  5.1595,Loss D:  0.0174\n",
      "Epoch 89, Loss G:  5.1658,Loss D:  0.0281\n",
      "Epoch 90, Loss G:  5.1636,Loss D:  0.0174\n",
      "Epoch 91, Loss G:  5.1415,Loss D:  0.0181\n",
      "Epoch 92, Loss G:  5.1220,Loss D:  0.0170\n",
      "Epoch 93, Loss G:  5.1304,Loss D:  0.0168\n",
      "Epoch 94, Loss G:  5.1061,Loss D:  0.0167\n",
      "Epoch 95, Loss G:  5.0959,Loss D:  0.0196\n",
      "Epoch 96, Loss G:  5.0983,Loss D:  0.0037\n",
      "Epoch 97, Loss G:  5.1216,Loss D:  0.0179\n",
      "Epoch 98, Loss G:  5.0929,Loss D:  0.0026\n",
      "Epoch 99, Loss G:  5.1030,Loss D: -0.0181\n",
      "Epoch 100, Loss G:  5.0859,Loss D: -0.0166\n"
     ]
    },
    {
     "name": "stderr",
     "output_type": "stream",
     "text": [
      "Sampling rows: 100%|██████████| 278/278 [00:00<00:00, 1836.91it/s]\n"
     ]
    },
    {
     "data": {
      "text/html": [
       "<div>\n",
       "<style scoped>\n",
       "    .dataframe tbody tr th:only-of-type {\n",
       "        vertical-align: middle;\n",
       "    }\n",
       "\n",
       "    .dataframe tbody tr th {\n",
       "        vertical-align: top;\n",
       "    }\n",
       "\n",
       "    .dataframe thead th {\n",
       "        text-align: right;\n",
       "    }\n",
       "</style>\n",
       "<table border=\"1\" class=\"dataframe\">\n",
       "  <thead>\n",
       "    <tr style=\"text-align: right;\">\n",
       "      <th></th>\n",
       "      <th>Hole_Id</th>\n",
       "      <th>Depth</th>\n",
       "      <th>Azimuth</th>\n",
       "      <th>Dip</th>\n",
       "      <th>target</th>\n",
       "    </tr>\n",
       "  </thead>\n",
       "  <tbody>\n",
       "    <tr>\n",
       "      <th>0</th>\n",
       "      <td>a</td>\n",
       "      <td>0.0000</td>\n",
       "      <td>93.2000</td>\n",
       "      <td>-55.6000</td>\n",
       "      <td>2</td>\n",
       "    </tr>\n",
       "    <tr>\n",
       "      <th>1</th>\n",
       "      <td>b</td>\n",
       "      <td>0.0000</td>\n",
       "      <td>92.1000</td>\n",
       "      <td>-56.9000</td>\n",
       "      <td>2</td>\n",
       "    </tr>\n",
       "    <tr>\n",
       "      <th>2</th>\n",
       "      <td>c</td>\n",
       "      <td>0.0000</td>\n",
       "      <td>125.3000</td>\n",
       "      <td>-57.4000</td>\n",
       "      <td>1</td>\n",
       "    </tr>\n",
       "    <tr>\n",
       "      <th>3</th>\n",
       "      <td>d</td>\n",
       "      <td>150.0000</td>\n",
       "      <td>128.7000</td>\n",
       "      <td>-57.8000</td>\n",
       "      <td>2</td>\n",
       "    </tr>\n",
       "    <tr>\n",
       "      <th>4</th>\n",
       "      <td>e</td>\n",
       "      <td>50.0000</td>\n",
       "      <td>122.9000</td>\n",
       "      <td>-61.0000</td>\n",
       "      <td>2</td>\n",
       "    </tr>\n",
       "  </tbody>\n",
       "</table>\n",
       "</div>"
      ],
      "text/plain": [
       "  Hole_Id    Depth  Azimuth      Dip  target\n",
       "0       a   0.0000  93.2000 -55.6000       2\n",
       "1       b   0.0000  92.1000 -56.9000       2\n",
       "2       c   0.0000 125.3000 -57.4000       1\n",
       "3       d 150.0000 128.7000 -57.8000       2\n",
       "4       e  50.0000 122.9000 -61.0000       2"
      ]
     },
     "execution_count": 21,
     "metadata": {},
     "output_type": "execute_result"
    }
   ],
   "source": [
    "model = CopulaGAN(primary_key='Hole_Id',\n",
    "                 constraints=constraints,epochs=100,batch_size=2000,\n",
    "                  generator_dim=(256, 256, 256),discriminator_dim=(256, 256, 256),verbose=True)\n",
    "model.fit(survey)\n",
    "new_data = model.sample(278)\n",
    "new_data.head()"
   ]
  },
  {
   "cell_type": "code",
   "execution_count": 22,
   "id": "2a91f6d7",
   "metadata": {},
   "outputs": [
    {
     "name": "stdout",
     "output_type": "stream",
     "text": [
      "\n",
      "Classifier F1-scores and their Jaccard similarities::\n",
      "                             f1_real  f1_fake  jaccard_similarity\n",
      "index                                                            \n",
      "DecisionTreeClassifier_fake   0.5536   0.5536              0.3659\n",
      "DecisionTreeClassifier_real   1.0000   0.3036              0.1789\n",
      "LogisticRegression_fake       0.5536   0.5536              0.6970\n",
      "LogisticRegression_real       0.9821   0.2679              0.1429\n",
      "MLPClassifier_fake            0.5536   0.4643              0.1089\n",
      "MLPClassifier_real            0.9464   0.2500              0.1789\n",
      "RandomForestClassifier_fake   0.5536   0.5000              0.2308\n",
      "RandomForestClassifier_real   1.0000   0.3036              0.1789\n",
      "\n",
      "Privacy results:\n",
      "                                         result\n",
      "Duplicate rows between sets (real/fake)  (0, 0)\n",
      "nearest neighbor mean                    1.0481\n",
      "nearest neighbor std                     0.1633\n",
      "\n",
      "Miscellaneous results:\n",
      "                                  Result\n",
      "Column Correlation Distance RMSE  0.1887\n",
      "Column Correlation distance MAE   0.0985\n",
      "\n",
      "Results:\n",
      "                                                result\n",
      "Basic statistics                                0.9853\n",
      "Correlation column correlations                 0.9085\n",
      "Mean Correlation between fake and real columns  0.8833\n",
      "1 - MAPE Estimator results                      0.6107\n",
      "Similarity Score                                0.8470\n"
     ]
    }
   ],
   "source": [
    "from table_evaluator import load_data, TableEvaluator\n",
    "table_evaluator = TableEvaluator(survey, new_data)\n",
    "table_evaluator.evaluate(target_col='target')"
   ]
  },
  {
   "cell_type": "code",
   "execution_count": 24,
   "id": "210d3a4f",
   "metadata": {},
   "outputs": [],
   "source": [
    "table_evaluator.visual_evaluation()"
   ]
  },
  {
   "cell_type": "code",
   "execution_count": 25,
   "id": "daee9234",
   "metadata": {},
   "outputs": [
    {
     "data": {
      "text/plain": [
       "0.4392985611510791"
      ]
     },
     "execution_count": 25,
     "metadata": {},
     "output_type": "execute_result"
    }
   ],
   "source": [
    "from sdv.evaluation import evaluate\n",
    "\n",
    "evaluate(new_data, survey)"
   ]
  },
  {
   "cell_type": "code",
   "execution_count": 26,
   "id": "c6c4b3f3",
   "metadata": {},
   "outputs": [],
   "source": [
    "from sdv.tabular import GaussianCopula"
   ]
  },
  {
   "cell_type": "code",
   "execution_count": 27,
   "id": "3beed22e",
   "metadata": {},
   "outputs": [
    {
     "name": "stderr",
     "output_type": "stream",
     "text": [
      "Sampling rows: 100%|██████████| 278/278 [00:00<00:00, 2527.45it/s]\n"
     ]
    },
    {
     "data": {
      "text/html": [
       "<div>\n",
       "<style scoped>\n",
       "    .dataframe tbody tr th:only-of-type {\n",
       "        vertical-align: middle;\n",
       "    }\n",
       "\n",
       "    .dataframe tbody tr th {\n",
       "        vertical-align: top;\n",
       "    }\n",
       "\n",
       "    .dataframe thead th {\n",
       "        text-align: right;\n",
       "    }\n",
       "</style>\n",
       "<table border=\"1\" class=\"dataframe\">\n",
       "  <thead>\n",
       "    <tr style=\"text-align: right;\">\n",
       "      <th></th>\n",
       "      <th>Hole_Id</th>\n",
       "      <th>Depth</th>\n",
       "      <th>Azimuth</th>\n",
       "      <th>Dip</th>\n",
       "      <th>target</th>\n",
       "    </tr>\n",
       "  </thead>\n",
       "  <tbody>\n",
       "    <tr>\n",
       "      <th>0</th>\n",
       "      <td>a</td>\n",
       "      <td>0.0000</td>\n",
       "      <td>130.1000</td>\n",
       "      <td>-55.3000</td>\n",
       "      <td>2</td>\n",
       "    </tr>\n",
       "    <tr>\n",
       "      <th>1</th>\n",
       "      <td>b</td>\n",
       "      <td>50.0000</td>\n",
       "      <td>128.2000</td>\n",
       "      <td>-54.4000</td>\n",
       "      <td>1</td>\n",
       "    </tr>\n",
       "    <tr>\n",
       "      <th>2</th>\n",
       "      <td>c</td>\n",
       "      <td>92.0000</td>\n",
       "      <td>127.8000</td>\n",
       "      <td>-55.4000</td>\n",
       "      <td>1</td>\n",
       "    </tr>\n",
       "    <tr>\n",
       "      <th>3</th>\n",
       "      <td>d</td>\n",
       "      <td>189.0000</td>\n",
       "      <td>90.5000</td>\n",
       "      <td>-58.5000</td>\n",
       "      <td>1</td>\n",
       "    </tr>\n",
       "    <tr>\n",
       "      <th>4</th>\n",
       "      <td>e</td>\n",
       "      <td>150.0000</td>\n",
       "      <td>90.4000</td>\n",
       "      <td>-52.7000</td>\n",
       "      <td>2</td>\n",
       "    </tr>\n",
       "  </tbody>\n",
       "</table>\n",
       "</div>"
      ],
      "text/plain": [
       "  Hole_Id    Depth  Azimuth      Dip  target\n",
       "0       a   0.0000 130.1000 -55.3000       2\n",
       "1       b  50.0000 128.2000 -54.4000       1\n",
       "2       c  92.0000 127.8000 -55.4000       1\n",
       "3       d 189.0000  90.5000 -58.5000       1\n",
       "4       e 150.0000  90.4000 -52.7000       2"
      ]
     },
     "execution_count": 27,
     "metadata": {},
     "output_type": "execute_result"
    }
   ],
   "source": [
    "model = GaussianCopula(primary_key='Hole_Id',constraints=constraints,\n",
    "                      field_distributions={'Dip': 'beta'})\n",
    "model.fit(survey)\n",
    "new_data2 = model.sample(278)\n",
    "new_data2.head()"
   ]
  },
  {
   "cell_type": "code",
   "execution_count": 28,
   "id": "8b026b63",
   "metadata": {},
   "outputs": [
    {
     "name": "stdout",
     "output_type": "stream",
     "text": [
      "\n",
      "Classifier F1-scores and their Jaccard similarities::\n",
      "                             f1_real  f1_fake  jaccard_similarity\n",
      "index                                                            \n",
      "DecisionTreeClassifier_fake   0.4286   0.5536              0.1789\n",
      "DecisionTreeClassifier_real   1.0000   0.5357              0.3659\n",
      "LogisticRegression_fake       0.4107   0.7321              0.0769\n",
      "LogisticRegression_real       0.9643   0.7143              0.5135\n",
      "MLPClassifier_fake            0.4107   0.4643              0.3176\n",
      "MLPClassifier_real            0.9464   0.3750              0.1915\n",
      "RandomForestClassifier_fake   0.4464   0.6250              0.3023\n",
      "RandomForestClassifier_real   0.9821   0.5714              0.4177\n",
      "\n",
      "Privacy results:\n",
      "                                         result\n",
      "Duplicate rows between sets (real/fake)  (0, 0)\n",
      "nearest neighbor mean                    1.0276\n",
      "nearest neighbor std                     0.1839\n",
      "\n",
      "Miscellaneous results:\n",
      "                                  Result\n",
      "Column Correlation Distance RMSE  0.1931\n",
      "Column Correlation distance MAE   0.0987\n",
      "\n",
      "Results:\n",
      "                                                result\n",
      "Basic statistics                                0.9912\n",
      "Correlation column correlations                 0.8996\n",
      "Mean Correlation between fake and real columns  0.9454\n",
      "1 - MAPE Estimator results                      0.5812\n",
      "Similarity Score                                0.8543\n"
     ]
    }
   ],
   "source": [
    "from table_evaluator import load_data, TableEvaluator\n",
    "table_evaluator = TableEvaluator(survey, new_data2)\n",
    "table_evaluator.evaluate(target_col='target')"
   ]
  },
  {
   "cell_type": "code",
   "execution_count": 29,
   "id": "03298031",
   "metadata": {},
   "outputs": [],
   "source": [
    "table_evaluator.visual_evaluation()"
   ]
  },
  {
   "cell_type": "code",
   "execution_count": null,
   "id": "8891ee88",
   "metadata": {},
   "outputs": [],
   "source": []
  }
 ],
 "metadata": {
  "kernelspec": {
   "display_name": "Python 3 (ipykernel)",
   "language": "python",
   "name": "python3"
  },
  "language_info": {
   "codemirror_mode": {
    "name": "ipython",
    "version": 3
   },
   "file_extension": ".py",
   "mimetype": "text/x-python",
   "name": "python",
   "nbconvert_exporter": "python",
   "pygments_lexer": "ipython3",
   "version": "3.9.13"
  }
 },
 "nbformat": 4,
 "nbformat_minor": 5
}
